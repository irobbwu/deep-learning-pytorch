{
 "cells": [
  {
   "cell_type": "markdown",
   "metadata": {
    "id": "JBOefWaLy83Q"
   },
   "source": [
    "# LeNet\n",
    "\n",
    "ps：\n",
    "\n",
    "pip install d2l\n",
    "\n",
    "pip install matplotlib==3.0.0"
   ]
  },
  {
   "cell_type": "code",
   "execution_count": 2,
   "metadata": {
    "id": "O4725vMm56zD"
   },
   "outputs": [],
   "source": [
    "import torch\n",
    "from torch import nn\n",
    "from d2l import torch as d2l\n",
    "import matplotlib.pyplot as plt"
   ]
  },
  {
   "cell_type": "markdown",
   "metadata": {
    "id": "oRz37tslzYVV"
   },
   "source": [
    "1. 定义网络"
   ]
  },
  {
   "cell_type": "code",
   "execution_count": 3,
   "metadata": {
    "id": "gqMCrYtezVSB"
   },
   "outputs": [],
   "source": [
    "class Reshape(torch.nn.Module):\n",
    "\n",
    "  def forward(self, x):\n",
    "    return x.reshape(-1, 1, 28, 28)"
   ]
  },
  {
   "cell_type": "code",
   "execution_count": 4,
   "metadata": {
    "id": "-xz_cPyZzl-t"
   },
   "outputs": [],
   "source": [
    "net = nn.Sequential(\n",
    "    Reshape(),\n",
    "    nn.Conv2d(1, 6, kernel_size=5, padding=2),\n",
    "    nn.Sigmoid(),\n",
    "    nn.AvgPool2d(2, stride=2),\n",
    "    nn.Conv2d(6, 16, kernel_size=5),\n",
    "    nn.Sigmoid(),\n",
    "    nn.AvgPool2d(kernel_size=2, stride=2),\n",
    "    nn.Flatten(),\n",
    "    nn.Linear(16*5*5, 120),\n",
    "    nn.Sigmoid(),\n",
    "    nn.Linear(120, 84),\n",
    "    nn.Sigmoid(),\n",
    "    nn.Linear(84, 10),\n",
    ")"
   ]
  },
  {
   "cell_type": "code",
   "execution_count": 5,
   "metadata": {
    "colab": {
     "base_uri": "https://localhost:8080/"
    },
    "id": "OoizhD-R0PE4",
    "outputId": "b160ede0-00fb-4eeb-fef6-7327e5faa0a5"
   },
   "outputs": [
    {
     "name": "stdout",
     "output_type": "stream",
     "text": [
      "Reshape output: \t torch.Size([1, 1, 28, 28])\n",
      "Conv2d output: \t torch.Size([1, 6, 28, 28])\n",
      "Sigmoid output: \t torch.Size([1, 6, 28, 28])\n",
      "AvgPool2d output: \t torch.Size([1, 6, 14, 14])\n",
      "Conv2d output: \t torch.Size([1, 16, 10, 10])\n",
      "Sigmoid output: \t torch.Size([1, 16, 10, 10])\n",
      "AvgPool2d output: \t torch.Size([1, 16, 5, 5])\n",
      "Flatten output: \t torch.Size([1, 400])\n",
      "Linear output: \t torch.Size([1, 120])\n",
      "Sigmoid output: \t torch.Size([1, 120])\n",
      "Linear output: \t torch.Size([1, 84])\n",
      "Sigmoid output: \t torch.Size([1, 84])\n",
      "Linear output: \t torch.Size([1, 10])\n"
     ]
    }
   ],
   "source": [
    "X = torch.rand(size=(1,1,28,28), dtype=torch.float32)\n",
    "for layer in net:\n",
    "  X = layer(X)\n",
    "  print(layer.__class__.__name__, 'output: \\t', X.shape)"
   ]
  },
  {
   "cell_type": "markdown",
   "metadata": {
    "id": "0QIumUru3N6n"
   },
   "source": [
    "2. 载入数据集"
   ]
  },
  {
   "cell_type": "code",
   "execution_count": 6,
   "metadata": {
    "colab": {
     "base_uri": "https://localhost:8080/"
    },
    "id": "sbI2NPPH3Mv-",
    "outputId": "bf00bdb4-e35c-4641-ec35-c313eb0e51dd"
   },
   "outputs": [
    {
     "name": "stderr",
     "output_type": "stream",
     "text": [
      "/usr/local/lib/python3.7/dist-packages/torch/utils/data/dataloader.py:490: UserWarning: This DataLoader will create 4 worker processes in total. Our suggested max number of worker in current system is 2, which is smaller than what this DataLoader is going to create. Please be aware that excessive worker creation might get DataLoader running slow or even freeze, lower the worker number to avoid potential slowness/freeze if necessary.\n",
      "  cpuset_checked))\n"
     ]
    }
   ],
   "source": [
    "batch_size = 256\n",
    "train_data, test_data = d2l.load_data_fashion_mnist(batch_size=batch_size)"
   ]
  },
  {
   "cell_type": "markdown",
   "metadata": {
    "id": "QpHkwrKP4Z7M"
   },
   "source": [
    "3. 初始化权重"
   ]
  },
  {
   "cell_type": "code",
   "execution_count": 7,
   "metadata": {
    "colab": {
     "base_uri": "https://localhost:8080/"
    },
    "id": "MXJUxVaV3SLZ",
    "outputId": "10206411-dcf8-49b2-8028-0ebd2d85234d"
   },
   "outputs": [
    {
     "data": {
      "text/plain": [
       "Sequential(\n",
       "  (0): Reshape()\n",
       "  (1): Conv2d(1, 6, kernel_size=(5, 5), stride=(1, 1), padding=(2, 2))\n",
       "  (2): Sigmoid()\n",
       "  (3): AvgPool2d(kernel_size=2, stride=2, padding=0)\n",
       "  (4): Conv2d(6, 16, kernel_size=(5, 5), stride=(1, 1))\n",
       "  (5): Sigmoid()\n",
       "  (6): AvgPool2d(kernel_size=2, stride=2, padding=0)\n",
       "  (7): Flatten(start_dim=1, end_dim=-1)\n",
       "  (8): Linear(in_features=400, out_features=120, bias=True)\n",
       "  (9): Sigmoid()\n",
       "  (10): Linear(in_features=120, out_features=84, bias=True)\n",
       "  (11): Sigmoid()\n",
       "  (12): Linear(in_features=84, out_features=10, bias=True)\n",
       ")"
      ]
     },
     "execution_count": 7,
     "metadata": {},
     "output_type": "execute_result"
    }
   ],
   "source": [
    "def init_weights(m):\n",
    "  if type(m) in [nn.Linear, nn.Conv2d]:\n",
    "    nn.init.xavier_uniform_(m.weight)\n",
    "net.apply(init_weights)"
   ]
  },
  {
   "cell_type": "markdown",
   "metadata": {
    "id": "V44J_moZ4ehN"
   },
   "source": [
    "4. 定义loss"
   ]
  },
  {
   "cell_type": "code",
   "execution_count": 8,
   "metadata": {
    "id": "Qt__UqM-36vj"
   },
   "outputs": [],
   "source": [
    "l = nn.CrossEntropyLoss()"
   ]
  },
  {
   "cell_type": "markdown",
   "metadata": {
    "id": "n51HBBwU4jyC"
   },
   "source": [
    "5. 定义优化器"
   ]
  },
  {
   "cell_type": "code",
   "execution_count": 9,
   "metadata": {
    "id": "V3Clr5Es4h51"
   },
   "outputs": [],
   "source": [
    "o = torch.optim.SGD(net.parameters(), lr=0.5)"
   ]
  },
  {
   "cell_type": "markdown",
   "metadata": {
    "id": "fqwAoP1L4pZK"
   },
   "source": [
    "6. Training and Prediction"
   ]
  },
  {
   "cell_type": "code",
   "execution_count": 10,
   "metadata": {
    "id": "HDXcKkU84oEu"
   },
   "outputs": [],
   "source": [
    "def acc(X,y,net):\n",
    "  p_predict = net(X)\n",
    "  y_predict = torch.argmax(p_predict,axis=1)\n",
    "  output = y_predict - y\n",
    "  right_pre = len(output[output==0])\n",
    "  right_accu = right_pre/len(output)\n",
    "  return right_accu\n",
    "\n",
    "def eval_accu(net=None, dataset=None, cuda=False):\n",
    "  \n",
    "  accu = 0\n",
    "  batch = 0\n",
    "  net.eval()\n",
    "\n",
    "  for X,y in dataset:\n",
    "    if cuda:\n",
    "      net.cuda()\n",
    "      X,y = X.cuda(),y.cuda()\n",
    "    accu += acc(X, y, net)\n",
    "    batch += 1\n",
    "  avg_acc = accu/batch\n",
    "\n",
    "  return avg_acc\n",
    "\n",
    "def train_net(net=None, epochs=10, loss = None, optimizer=None, \n",
    "              train_iter=None, test_iter=None, cuda=False):\n",
    "  train_accu_history = []\n",
    "  test_accu_history = []\n",
    "  train_loss = []\n",
    "\n",
    "  for epoch in range(epochs):\n",
    "\n",
    "    net.train()\n",
    "    for X,y in train_iter:\n",
    "      if cuda:\n",
    "        net.cuda()\n",
    "        X,y = X.cuda(),y.cuda()\n",
    "      l = loss(net(X), y)\n",
    "      optimizer.zero_grad()\n",
    "      l.backward()\n",
    "      optimizer.step()\n",
    "\n",
    "    net.eval() \n",
    "    l = loss(net(X), y)\n",
    "    train_loss.append(l.cpu().detach())\n",
    "    \n",
    "\n",
    "    train_avg_acc = eval_accu(net, train_iter, cuda)\n",
    "    test_avg_acc = eval_accu(net, test_iter, cuda)\n",
    "    train_accu_history.append(train_avg_acc)\n",
    "    test_accu_history.append(test_avg_acc)\n",
    "\n",
    "    print(f'epoch {epoch + 1}, loss {l:f}, train_accu {train_avg_acc:f}, test_accu {test_avg_acc:f}')\n",
    "  \n",
    "  x_label_value = [str(i) for i in range(1,epochs+1)]\n",
    "  plt.plot(x_label_value, train_accu_history, label='train_accu', color='g', linestyle='dashed')\n",
    "  plt.plot(x_label_value, test_accu_history, label='test_accu', color='r', linestyle='dashed')\n",
    "  plt.plot(x_label_value, train_loss, label='train_loss', color='b')\n",
    "  plt.xlabel('epoch')\n",
    "  plt.ylim(0.1,2)\n",
    "  plt.legend()\n",
    "  plt.show()"
   ]
  },
  {
   "cell_type": "markdown",
   "metadata": {
    "id": "RKZ8etyOYbg4"
   },
   "source": [
    "- CPU训练"
   ]
  },
  {
   "cell_type": "code",
   "execution_count": 11,
   "metadata": {
    "colab": {
     "base_uri": "https://localhost:8080/",
     "height": 553
    },
    "id": "WRr9oTNWSAIR",
    "outputId": "bf975f33-7b61-4151-a3db-d2e7b663cbbb"
   },
   "outputs": [
    {
     "name": "stderr",
     "output_type": "stream",
     "text": [
      "/usr/local/lib/python3.7/dist-packages/torch/utils/data/dataloader.py:490: UserWarning: This DataLoader will create 4 worker processes in total. Our suggested max number of worker in current system is 2, which is smaller than what this DataLoader is going to create. Please be aware that excessive worker creation might get DataLoader running slow or even freeze, lower the worker number to avoid potential slowness/freeze if necessary.\n",
      "  cpuset_checked))\n"
     ]
    },
    {
     "name": "stdout",
     "output_type": "stream",
     "text": [
      "epoch 1, loss 2.260965, train_accu 0.100066, test_accu 0.099121\n",
      "epoch 2, loss 1.130547, train_accu 0.535151, test_accu 0.538184\n",
      "epoch 3, loss 1.268609, train_accu 0.515869, test_accu 0.514062\n",
      "epoch 4, loss 0.658577, train_accu 0.707868, test_accu 0.701172\n",
      "epoch 5, loss 0.757813, train_accu 0.733439, test_accu 0.730859\n",
      "epoch 6, loss 0.717919, train_accu 0.751130, test_accu 0.749316\n",
      "epoch 7, loss 0.654537, train_accu 0.745279, test_accu 0.738574\n",
      "epoch 8, loss 0.408740, train_accu 0.754704, test_accu 0.748535\n",
      "epoch 9, loss 0.621925, train_accu 0.781267, test_accu 0.773438\n",
      "epoch 10, loss 0.537485, train_accu 0.758156, test_accu 0.752441\n"
     ]
    },
    {
     "data": {
      "image/png": "[encoded data removed]",
      "text/plain": [
       "<Figure size 432x288 with 1 Axes>"
      ]
     },
     "metadata": {
      "needs_background": "light"
     },
     "output_type": "display_data"
    },
    {
     "name": "stdout",
     "output_type": "stream",
     "text": [
      "CPU times: user 3min 19s, sys: 7.16 s, total: 3min 26s\n",
      "Wall time: 3min 53s\n"
     ]
    }
   ],
   "source": [
    "%%time\n",
    "train_net(net=net, epochs=10, loss = l, optimizer=o, \n",
    "          train_iter=train_data, test_iter=test_data, cuda=False)"
   ]
  },
  {
   "cell_type": "markdown",
   "metadata": {
    "id": "SwmeOmXrYYFJ"
   },
   "source": [
    "- GPU训练"
   ]
  },
  {
   "cell_type": "code",
   "execution_count": 12,
   "metadata": {
    "colab": {
     "base_uri": "https://localhost:8080/",
     "height": 553
    },
    "id": "eoTIux8dNuJy",
    "outputId": "48cd506f-a873-4911-eb0d-2862f79ffbd7"
   },
   "outputs": [
    {
     "name": "stderr",
     "output_type": "stream",
     "text": [
      "/usr/local/lib/python3.7/dist-packages/torch/utils/data/dataloader.py:490: UserWarning: This DataLoader will create 4 worker processes in total. Our suggested max number of worker in current system is 2, which is smaller than what this DataLoader is going to create. Please be aware that excessive worker creation might get DataLoader running slow or even freeze, lower the worker number to avoid potential slowness/freeze if necessary.\n",
      "  cpuset_checked))\n"
     ]
    },
    {
     "name": "stdout",
     "output_type": "stream",
     "text": [
      "epoch 1, loss 0.474776, train_accu 0.802721, test_accu 0.796680\n",
      "epoch 2, loss 0.346297, train_accu 0.781965, test_accu 0.773926\n",
      "epoch 3, loss 0.389307, train_accu 0.816888, test_accu 0.807617\n",
      "epoch 4, loss 0.442656, train_accu 0.790531, test_accu 0.785156\n",
      "epoch 5, loss 0.415944, train_accu 0.819398, test_accu 0.807227\n",
      "epoch 6, loss 0.310927, train_accu 0.787489, test_accu 0.770117\n",
      "epoch 7, loss 0.399142, train_accu 0.835516, test_accu 0.826367\n",
      "epoch 8, loss 0.291702, train_accu 0.839766, test_accu 0.827148\n",
      "epoch 9, loss 0.304158, train_accu 0.822579, test_accu 0.816406\n",
      "epoch 10, loss 0.343432, train_accu 0.811480, test_accu 0.805664\n"
     ]
    },
    {
     "data": {
      "image/png": "[encoded data removed]",
      "text/plain": [
       "<Figure size 432x288 with 1 Axes>"
      ]
     },
     "metadata": {
      "needs_background": "light"
     },
     "output_type": "display_data"
    },
    {
     "name": "stdout",
     "output_type": "stream",
     "text": [
      "CPU times: user 22.4 s, sys: 7.73 s, total: 30.1 s\n",
      "Wall time: 2min\n"
     ]
    }
   ],
   "source": [
    "%%time\n",
    "train_net(net=net, epochs=10, loss = l, optimizer=o, \n",
    "          train_iter=train_data, test_iter=test_data, cuda=True)"
   ]
  }
 ],
 "metadata": {
  "accelerator": "GPU",
  "colab": {
   "collapsed_sections": [],
   "name": "LeNET.ipynb",
   "provenance": []
  },
  "kernelspec": {
   "display_name": "Python 3 (ipykernel)",
   "language": "python",
   "name": "python3"
  },
  "language_info": {
   "codemirror_mode": {
    "name": "ipython",
    "version": 3
   },
   "file_extension": ".py",
   "mimetype": "text/x-python",
   "name": "python",
   "nbconvert_exporter": "python",
   "pygments_lexer": "ipython3",
   "version": "3.7.6"
  }
 },
 "nbformat": 4,
 "nbformat_minor": 1
}
