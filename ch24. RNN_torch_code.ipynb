{
  "cells": [
    {
      "cell_type": "markdown",
      "metadata": {
        "id": "KSwUDsfsZxXB"
      },
      "source": [
        "# RNN_torch_code\n",
        "\n",
        "ps：\n",
        "\n",
        "pip install d2l\n",
        "\n",
        "pip install matplotlib==3.0.0"
      ]
    },
    {
      "cell_type": "code",
      "execution_count": 1,
      "metadata": {
        "id": "puCueUPjZyE2"
      },
      "outputs": [],
      "source": [
        "import os\n",
        "import torch\n",
        "import torchvision\n",
        "from torch import nn\n",
        "import torch.nn.functional as F\n",
        "from d2l import torch as d2l\n",
        "import matplotlib.pyplot as plt\n",
        "import collections\n",
        "import re\n",
        "import numpy as np"
      ]
    },
    {
      "cell_type": "markdown",
      "source": [
        "## Net\n"
      ],
      "metadata": {
        "id": "CvSo8_ghuRr6"
      }
    },
    {
      "cell_type": "code",
      "source": [
        "batch_size, num_steps = 32, 35\n",
        "train_iter, vocab = d2l.load_data_time_machine(batch_size, num_steps)"
      ],
      "metadata": {
        "id": "b8TMLbGAlAd4"
      },
      "execution_count": 2,
      "outputs": []
    },
    {
      "cell_type": "code",
      "source": [
        "num_hiddens = 256\n",
        "rnn_layer = nn.RNN(len(vocab), num_hiddens)\n",
        "state = torch.zeros((1, batch_size, num_hiddens))\n",
        "state.shape"
      ],
      "metadata": {
        "colab": {
          "base_uri": "https://localhost:8080/"
        },
        "id": "6vPqPV5HlDcV",
        "outputId": "00f40523-14a3-4c98-bc30-55f501e3792c"
      },
      "execution_count": 3,
      "outputs": [
        {
          "output_type": "execute_result",
          "data": {
            "text/plain": [
              "torch.Size([1, 32, 256])"
            ]
          },
          "metadata": {},
          "execution_count": 3
        }
      ]
    },
    {
      "cell_type": "code",
      "source": [
        "X = torch.rand(size=(num_steps, batch_size, len(vocab)))\n",
        "Y, state_new = rnn_layer(X, state)\n",
        "Y.shape, state_new.shape"
      ],
      "metadata": {
        "colab": {
          "base_uri": "https://localhost:8080/"
        },
        "id": "DncMTRG0lEjQ",
        "outputId": "79f9d76f-f4ea-44d4-acea-1445ebe034d5"
      },
      "execution_count": 4,
      "outputs": [
        {
          "output_type": "execute_result",
          "data": {
            "text/plain": [
              "(torch.Size([35, 32, 256]), torch.Size([1, 32, 256]))"
            ]
          },
          "metadata": {},
          "execution_count": 4
        }
      ]
    },
    {
      "cell_type": "code",
      "source": [
        "class RNNModel(nn.Module):\n",
        "  '''循环神经网络'''\n",
        "  def __init__(self, rnn_layer, vocab_size, **kwargs):\n",
        "    super().__init__(**kwargs)\n",
        "    self.rnn = rnn_layer\n",
        "    self.vocab_size = vocab_size\n",
        "    self.num_hiddens = self.rnn.hidden_size\n",
        "    # 如果RNN是双向的(之后将介绍)，num_directions应该是2，否则应该是1\n",
        "    if not self.rnn.bidirectional:\n",
        "      self.num_directions = 1\n",
        "      self.linear = nn.Linear(self.num_hiddens, self.vocab_size) \n",
        "    else:\n",
        "      self.num_directions = 2\n",
        "      self.linear = nn.Linear(self.num_hiddens * 2, self.vocab_size)\n",
        "  \n",
        "  def forward(self, inputs, state):\n",
        "    X = F.one_hot(inputs.T.long(), self.vocab_size)\n",
        "    X = X.to(torch.float32)\n",
        "    Y, state = self.rnn(X, state)\n",
        "    # 全连接层首先将Y的形状改为(时间步数*批量大小,隐藏单元数) \n",
        "    # 它的输出形状是(时间步数*批量大小,词表大小)。\n",
        "    output = self.linear(Y.reshape((-1, Y.shape[-1]))) \n",
        "    return output, state\n",
        "\n",
        "  def begin_state(self, device, batch_size=1): \n",
        "    if not isinstance(self.rnn, nn.LSTM):\n",
        "      # nn.GRU以张量作为隐状态\n",
        "      return torch.zeros((self.num_directions * self.rnn.num_layers,\n",
        "                             batch_size, self.num_hiddens),\n",
        "                            device=device)\n",
        "    else:\n",
        "    # nn.LSTM以元组作为隐状态 \n",
        "      return (torch.zeros((self.num_directions * self.rnn.num_layers,\n",
        "                batch_size, self.num_hiddens), device=device),\n",
        "                    torch.zeros((\n",
        "                        self.num_directions * self.rnn.num_layers,\n",
        "                    batch_size, self.num_hiddens), device=device))\n"
      ],
      "metadata": {
        "id": "ffQKddlslGHm"
      },
      "execution_count": 5,
      "outputs": []
    },
    {
      "cell_type": "code",
      "source": [
        "net = RNNModel(rnn_layer, vocab_size=len(vocab))"
      ],
      "metadata": {
        "id": "oA0-6iu9lHDm"
      },
      "execution_count": 6,
      "outputs": []
    },
    {
      "cell_type": "markdown",
      "source": [
        "## Train"
      ],
      "metadata": {
        "id": "SNWWdbR1lN3V"
      }
    },
    {
      "cell_type": "code",
      "source": [
        "def predict(prefix, num_preds, net, vocab, device=torch.device('cuda')):\n",
        "  def get_word_order_tensor(sign, device):\n",
        "    return torch.LongTensor([sign]).reshape(1,1).to(device)\n",
        "\n",
        "  state = net.begin_state(batch_size=1, device=device)\n",
        "  output = []\n",
        "\n",
        "  net.to(device)\n",
        "  for y in prefix[:-1]:\n",
        "    word_num = get_word_order_tensor(vocab[y], device)\n",
        "    _, state = net(word_num, state)\n",
        "    output.append(int(word_num))\n",
        "  word_num = get_word_order_tensor(vocab[prefix[-1]], device)\n",
        "  output.append(word_num)\n",
        "\n",
        "  for _ in range(num_preds):\n",
        "    word_num = get_word_order_tensor(output[-1], device)\n",
        "    y, state = net(word_num, state)\n",
        "    output.append(int(torch.argmax(y, axis=1).reshape(1)))\n",
        "  return ''.join([vocab.idx_to_token[i] for i in output])\n",
        "\n",
        "def train_rnn(net, epochs, train_iter, loss, optim, \n",
        "              state=None, grad_clip_theta=1, device=torch.device('cuda')):\n",
        "  # 梯度裁剪\n",
        "  def grad_clipping(net, theta=grad_clip_theta):\n",
        "    if isinstance(net, nn.Module):\n",
        "      params = [p for p in net.parameters() if p.requires_grad]\n",
        "    else:\n",
        "      params = net.params\n",
        "    norm = torch.sqrt(sum(torch.sum((p.grad ** 2)) for p in params))\n",
        "    if norm > theta:\n",
        "      for param in params:\n",
        "        param.grad[:] *= theta / norm\n",
        "\n",
        "  loss = loss\n",
        "  opt = optim\n",
        "  state = state\n",
        "  epochs = epochs\n",
        "  perplexity = []\n",
        "\n",
        "  net.to(device=device)\n",
        "  for epoch in range(epochs):\n",
        "    epoch_loss = []\n",
        "    for X, Y in train_iter:\n",
        "      y = Y.T.reshape(-1)\n",
        "      X, y = X.to(device), y.to(device)\n",
        "      state = net.begin_state(batch_size=X.shape[0], device=device)\n",
        "      y_hat, state = net(X, state)\n",
        "      # state 是叶子节点，不可以直接设置grad\n",
        "      state = (state[0].detach(),)\n",
        "      l = loss(y_hat, y.long()).mean()\n",
        "      epoch_loss.append(l.item())\n",
        "      \n",
        "      opt.zero_grad()\n",
        "      l.backward()\n",
        "      grad_clipping(net)\n",
        "      opt.step()\n",
        "    epoch_perplexity = np.exp(np.mean(epoch_loss))\n",
        "    if (epoch+1)%50==0:\n",
        "      print(f'epoch: {epoch+1}, perplexity:{epoch_perplexity:f}')\n",
        "    perplexity.append(epoch_perplexity)\n",
        "\n",
        "  plt.plot(perplexity, label='train', color='b', linestyle='solid')\n",
        "  plt.xlabel('epoch')\n",
        "  plt.ylabel('perplexity')\n",
        "  plt.legend()\n",
        "  plt.show()"
      ],
      "metadata": {
        "id": "exE-DANxlIG8"
      },
      "execution_count": 7,
      "outputs": []
    },
    {
      "cell_type": "code",
      "source": [
        "%%time\n",
        "loss = nn.CrossEntropyLoss()\n",
        "opt = torch.optim.SGD(net.parameters(), lr=1)\n",
        "train_rnn(net, epochs=500, train_iter=train_iter, loss=loss, optim=opt)"
      ],
      "metadata": {
        "colab": {
          "base_uri": "https://localhost:8080/",
          "height": 497
        },
        "id": "G1sV87jHlVYh",
        "outputId": "76eb140f-fead-47d8-d725-6dca3106ecf5"
      },
      "execution_count": 8,
      "outputs": [
        {
          "output_type": "stream",
          "name": "stdout",
          "text": [
            "epoch: 50, perplexity:7.538324\n",
            "epoch: 100, perplexity:4.767982\n",
            "epoch: 150, perplexity:2.839490\n",
            "epoch: 200, perplexity:2.278068\n",
            "epoch: 250, perplexity:2.060673\n",
            "epoch: 300, perplexity:1.811331\n",
            "epoch: 350, perplexity:1.703063\n",
            "epoch: 400, perplexity:1.733841\n",
            "epoch: 450, perplexity:1.497020\n",
            "epoch: 500, perplexity:1.708808\n"
          ]
        },
        {
          "output_type": "display_data",
          "data": {
            "text/plain": [
              "<Figure size 432x288 with 1 Axes>"
            ],
            "image/png": "[encoded data removed]"
          },
          "metadata": {
            "needs_background": "light"
          }
        },
        {
          "output_type": "stream",
          "name": "stdout",
          "text": [
            "CPU times: user 16.4 s, sys: 1.96 s, total: 18.3 s\n",
            "Wall time: 20.6 s\n"
          ]
        }
      ]
    },
    {
      "cell_type": "code",
      "source": [
        "print(predict('time traveller ', 20, net, vocab))"
      ],
      "metadata": {
        "colab": {
          "base_uri": "https://localhost:8080/"
        },
        "id": "HuDWzbselZo3",
        "outputId": "790cab31-b536-43d7-be23-2330b3725e1a"
      },
      "execution_count": 9,
      "outputs": [
        {
          "output_type": "stream",
          "name": "stdout",
          "text": [
            "time traveller but now you begin to\n"
          ]
        }
      ]
    }
  ],
  "metadata": {
    "accelerator": "GPU",
    "colab": {
      "collapsed_sections": [],
      "name": "Net.ipynb",
      "provenance": []
    },
    "kernelspec": {
      "display_name": "Python 3",
      "name": "python3"
    },
    "language_info": {
      "name": "python"
    }
  },
  "nbformat": 4,
  "nbformat_minor": 0
}