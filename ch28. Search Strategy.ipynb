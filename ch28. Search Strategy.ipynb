{
 "cells": [
  {
   "cell_type": "markdown",
   "metadata": {},
   "source": [
    "# Search Strategy\n",
    "\n",
    "## greedy search\n",
    "\n",
    "对于输出序列的每⼀时间\n",
    "步t′，我们都将基于贪⼼搜索从Y中找到具有最⾼条件概率的词元。\n",
    "\n",
    "$$y_{t'} =\\underset{y\\in \\gamma}{argmax}\\ P(y_{t'}|y_1,...y_{t'-1})\n",
    "$$\n",
    "\n",
    "![title](attachment/search.png)\n",
    "\n",
    "假设输出中有四个词元“A”、“B”、“C”和“\\<eos>”。每个时间步下的四个数字分别表⽰在\n",
    "该时间步⽣成“A”、“B”、“C”和“\\<eos>”的条件概率。在每个时间步，贪⼼搜索选择具有最⾼条件概率的词元。因此，将在图9.8.1中预测输出序列“A”、“B”、“C”和“<eos>”。这个输出序列的条件概率是\n",
    "$0.5* 0.4*0.4 *0.6 = 0:048$。\n",
    "    \n",
    "那么贪⼼搜索存在的问题是什么呢？现实中，最优序列（optimal sequence）应该是最⼤化\n",
    "    \n",
    "$$\\prod_{t'-1} P(y_{t'}|y_1,...y_{t'-1}) $$\n",
    "值的输出序列，这是基于输⼊序列⽣成输出序列的条件概率。然⽽，贪⼼搜索⽆法保证得到最优序列。\n",
    "    \n",
    "![title](attachment/search2.png)\n",
    "    \n",
    "假设我们在时间步3选 择词元“B”，于是当前的时间步4基于前三个时间步的输出子序列“A”、“C”和“B”为条件,输出序列“A”、“C”、“B”和“<eos>”的条件概率为 0.5 × 0.3 × 0.6 × 0.6 = 0.054。\n",
    "    \n",
    "## exhausitive search\n",
    "    \n",
    "如果目标是获得最优序列，我们可以考虑使用穷举搜索(exhaustive search):穷举地列举所有可能的输出序列及其条件概率，然后计算输出条件概率最高的一个。\n",
    "    \n",
    "虽然我们可以使用穷举搜索来获得最优序列，但其计算量O(|Y|T′)可能高的惊人。\n",
    "    \n",
    "    \n",
    "## beam search\n",
    "    \n",
    "束搜索(beam search)是贪心搜索的一个改进版本。它有一个超参数，名为束宽(beam size)k。在时间步1，我们选择具有最高条件概率的k个词元。这k个词元将分别是k个候选输出序列的第一个词元。在随后的 每个时间步，基于上一时间步的k个候选输出序列，我们将继续从k |Y|个可能的选择中挑出具有最高条件概 率的k个候选输出序列。\n",
    "    \n",
    "![title](attachment/search3.png)"
   ]
  }
 ],
 "metadata": {
  "accelerator": "GPU",
  "colab": {
   "collapsed_sections": [],
   "name": "Net.ipynb",
   "provenance": []
  },
  "kernelspec": {
   "display_name": "Python 3 (ipykernel)",
   "language": "python",
   "name": "python3"
  },
  "language_info": {
   "codemirror_mode": {
    "name": "ipython",
    "version": 3
   },
   "file_extension": ".py",
   "mimetype": "text/x-python",
   "name": "python",
   "nbconvert_exporter": "python",
   "pygments_lexer": "ipython3",
   "version": "3.7.6"
  }
 },
 "nbformat": 4,
 "nbformat_minor": 4
}
