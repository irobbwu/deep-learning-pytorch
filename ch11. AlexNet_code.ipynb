{
 "cells": [
  {
   "cell_type": "markdown",
   "metadata": {
    "id": "xZkn4S5Yrxgc"
   },
   "source": [
    "# AlexNet_code\n",
    "ps：\n",
    "\n",
    "pip install d2l\n",
    "\n",
    "pip install matplotlib==3.0.0\n",
    "\n",
    "\n",
    "2012年，AlexNet横空出世。它首次证明了学习到的特征可以超越手工设计的特征。它一举打破了计算机视 觉研究的现状。AlexNet使用了8层卷积神经网络，并以很大的优势赢得了2012年ImageNet图像识别挑战赛。\n",
    "![title](attachment/alexnet2.png)\n",
    "\n",
    "\n",
    "AlexNet和LeNet的架构非常相似，如 图7.1.2所示。注意，这里我们提供了一个稍微精简版本的AlexNet，去 除了当年需要两个小型GPU同时运算的设计特点。\n",
    "\n",
    "![title](attachment/alexnet.png)"
   ]
  },
  {
   "cell_type": "code",
   "execution_count": 1,
   "metadata": {
    "id": "lWu9AtlFsBB9"
   },
   "outputs": [],
   "source": [
    "import torch\n",
    "from torch import nn\n",
    "from d2l import torch as d2l\n",
    "import matplotlib.pyplot as plt"
   ]
  },
  {
   "cell_type": "markdown",
   "metadata": {
    "id": "74OO52SaubhP"
   },
   "source": [
    "1. 定义网络"
   ]
  },
  {
   "cell_type": "code",
   "execution_count": 2,
   "metadata": {
    "id": "FiOSRfvdsSGH"
   },
   "outputs": [],
   "source": [
    "net = nn.Sequential(\n",
    "    nn.Conv2d(1, 96, kernel_size=11, stride=4, padding=1),\n",
    "    nn.ReLU(),\n",
    "    nn.MaxPool2d(kernel_size=3, stride=2),\n",
    "    nn.Conv2d(96, 256, kernel_size=5, padding=2),\n",
    "    nn.ReLU(),\n",
    "    nn.MaxPool2d(kernel_size=3, stride=2),\n",
    "    nn.Conv2d(256, 384, kernel_size=3, padding=1), \n",
    "    nn.ReLU(), \n",
    "    nn.Conv2d(384, 384, kernel_size=3, padding=1), \n",
    "    nn.ReLU(), \n",
    "    nn.Conv2d(384, 256, kernel_size=3, padding=1), \n",
    "    nn.ReLU(),\n",
    "    nn.MaxPool2d(kernel_size=3, stride=2),\n",
    "    nn.Flatten(),\n",
    "    nn.Linear(6400, 4096),\n",
    "    nn.ReLU(),\n",
    "    nn.Dropout(p=0.5),\n",
    "    nn.Linear(4096, 4096),\n",
    "    nn.ReLU(),\n",
    "    nn.Dropout(p=0.5),\n",
    "    nn.Linear(4096, 10)\n",
    ")"
   ]
  },
  {
   "cell_type": "code",
   "execution_count": 3,
   "metadata": {
    "colab": {
     "base_uri": "https://localhost:8080/"
    },
    "id": "f9B6d4Cctagy",
    "outputId": "fc266c6f-1517-4ce0-e5ef-a0b81aedf3ee"
   },
   "outputs": [
    {
     "name": "stdout",
     "output_type": "stream",
     "text": [
      "Conv2d output shape:\t torch.Size([1, 96, 54, 54])\n",
      "ReLU output shape:\t torch.Size([1, 96, 54, 54])\n",
      "MaxPool2d output shape:\t torch.Size([1, 96, 26, 26])\n",
      "Conv2d output shape:\t torch.Size([1, 256, 26, 26])\n",
      "ReLU output shape:\t torch.Size([1, 256, 26, 26])\n",
      "MaxPool2d output shape:\t torch.Size([1, 256, 12, 12])\n",
      "Conv2d output shape:\t torch.Size([1, 384, 12, 12])\n",
      "ReLU output shape:\t torch.Size([1, 384, 12, 12])\n",
      "Conv2d output shape:\t torch.Size([1, 384, 12, 12])\n",
      "ReLU output shape:\t torch.Size([1, 384, 12, 12])\n",
      "Conv2d output shape:\t torch.Size([1, 256, 12, 12])\n",
      "ReLU output shape:\t torch.Size([1, 256, 12, 12])\n",
      "MaxPool2d output shape:\t torch.Size([1, 256, 5, 5])\n",
      "Flatten output shape:\t torch.Size([1, 6400])\n",
      "Linear output shape:\t torch.Size([1, 4096])\n",
      "ReLU output shape:\t torch.Size([1, 4096])\n",
      "Dropout output shape:\t torch.Size([1, 4096])\n",
      "Linear output shape:\t torch.Size([1, 4096])\n",
      "ReLU output shape:\t torch.Size([1, 4096])\n",
      "Dropout output shape:\t torch.Size([1, 4096])\n",
      "Linear output shape:\t torch.Size([1, 10])\n"
     ]
    }
   ],
   "source": [
    "X = torch.randn(1, 1, 224, 224) \n",
    "for layer in net:\n",
    "  X=layer(X)\n",
    "  print(layer.__class__.__name__,'output shape:\\t',X.shape)"
   ]
  },
  {
   "cell_type": "markdown",
   "metadata": {
    "id": "Q_sOxPFZucut"
   },
   "source": [
    "2. 读取数据集"
   ]
  },
  {
   "cell_type": "code",
   "execution_count": 4,
   "metadata": {
    "colab": {
     "base_uri": "https://localhost:8080/"
    },
    "id": "Dki9PYyctlXg",
    "outputId": "668210b2-7d35-42c8-c237-27123312afbb"
   },
   "outputs": [
    {
     "name": "stderr",
     "output_type": "stream",
     "text": [
      "/usr/local/lib/python3.7/dist-packages/torch/utils/data/dataloader.py:490: UserWarning: This DataLoader will create 4 worker processes in total. Our suggested max number of worker in current system is 2, which is smaller than what this DataLoader is going to create. Please be aware that excessive worker creation might get DataLoader running slow or even freeze, lower the worker number to avoid potential slowness/freeze if necessary.\n",
      "  cpuset_checked))\n"
     ]
    }
   ],
   "source": [
    "batch_size = 128\n",
    "train_iter, test_iter = d2l.load_data_fashion_mnist(batch_size, resize=224)"
   ]
  },
  {
   "cell_type": "markdown",
   "metadata": {
    "id": "cUl5Zzfgulpy"
   },
   "source": [
    "3. 初始化weight"
   ]
  },
  {
   "cell_type": "code",
   "execution_count": 5,
   "metadata": {
    "colab": {
     "base_uri": "https://localhost:8080/"
    },
    "id": "986tTlFIugMe",
    "outputId": "d3fa28ac-5a12-4573-b100-ae4cec0bd2f1"
   },
   "outputs": [
    {
     "data": {
      "text/plain": [
       "Sequential(\n",
       "  (0): Conv2d(1, 96, kernel_size=(11, 11), stride=(4, 4), padding=(1, 1))\n",
       "  (1): ReLU()\n",
       "  (2): MaxPool2d(kernel_size=3, stride=2, padding=0, dilation=1, ceil_mode=False)\n",
       "  (3): Conv2d(96, 256, kernel_size=(5, 5), stride=(1, 1), padding=(2, 2))\n",
       "  (4): ReLU()\n",
       "  (5): MaxPool2d(kernel_size=3, stride=2, padding=0, dilation=1, ceil_mode=False)\n",
       "  (6): Conv2d(256, 384, kernel_size=(3, 3), stride=(1, 1), padding=(1, 1))\n",
       "  (7): ReLU()\n",
       "  (8): Conv2d(384, 384, kernel_size=(3, 3), stride=(1, 1), padding=(1, 1))\n",
       "  (9): ReLU()\n",
       "  (10): Conv2d(384, 256, kernel_size=(3, 3), stride=(1, 1), padding=(1, 1))\n",
       "  (11): ReLU()\n",
       "  (12): MaxPool2d(kernel_size=3, stride=2, padding=0, dilation=1, ceil_mode=False)\n",
       "  (13): Flatten(start_dim=1, end_dim=-1)\n",
       "  (14): Linear(in_features=6400, out_features=4096, bias=True)\n",
       "  (15): ReLU()\n",
       "  (16): Dropout(p=0.5, inplace=False)\n",
       "  (17): Linear(in_features=4096, out_features=4096, bias=True)\n",
       "  (18): ReLU()\n",
       "  (19): Dropout(p=0.5, inplace=False)\n",
       "  (20): Linear(in_features=4096, out_features=10, bias=True)\n",
       ")"
      ]
     },
     "execution_count": 5,
     "metadata": {},
     "output_type": "execute_result"
    }
   ],
   "source": [
    "def init_weights(m):\n",
    "  if type(m) in [nn.Linear, nn.Conv2d]:\n",
    "    nn.init.xavier_uniform_(m.weight)\n",
    "net.apply(init_weights)"
   ]
  },
  {
   "cell_type": "markdown",
   "metadata": {
    "id": "BdU0O5meuqVn"
   },
   "source": [
    "4. 定义loss"
   ]
  },
  {
   "cell_type": "code",
   "execution_count": 6,
   "metadata": {
    "id": "4atSOgdcuoYP"
   },
   "outputs": [],
   "source": [
    "l = nn.CrossEntropyLoss()"
   ]
  },
  {
   "cell_type": "markdown",
   "metadata": {
    "id": "rOUUEDB2uvDK"
   },
   "source": [
    "5. 定义优化器"
   ]
  },
  {
   "cell_type": "code",
   "execution_count": 7,
   "metadata": {
    "id": "oVU8jsXtustS"
   },
   "outputs": [],
   "source": [
    "o = torch.optim.SGD(net.parameters(), lr=0.01)"
   ]
  },
  {
   "cell_type": "markdown",
   "metadata": {
    "id": "xkW-U-XwuxfM"
   },
   "source": [
    "6. Training and Prediction"
   ]
  },
  {
   "cell_type": "code",
   "execution_count": 8,
   "metadata": {
    "id": "ZGTz-8YOuy2T"
   },
   "outputs": [],
   "source": [
    "def acc(X,y,net):\n",
    "  p_predict = net(X)\n",
    "  y_predict = torch.argmax(p_predict,axis=1)\n",
    "  output = y_predict - y\n",
    "  right_pre = len(output[output==0])\n",
    "  right_accu = right_pre/len(output)\n",
    "  return right_accu\n",
    "\n",
    "def eval_accu(net=None, dataset=None, cuda=False):\n",
    "  \n",
    "  accu = 0\n",
    "  batch = 0\n",
    "  net.eval()\n",
    "\n",
    "  for X,y in dataset:\n",
    "    if cuda:\n",
    "      net.cuda()\n",
    "      X,y = X.cuda(),y.cuda()\n",
    "    accu += acc(X, y, net)\n",
    "    batch += 1\n",
    "  avg_acc = accu/batch\n",
    "\n",
    "  return avg_acc\n",
    "\n",
    "def train_net(net=None, epochs=10, loss = None, optimizer=None, \n",
    "              train_iter=None, test_iter=None, cuda=False):\n",
    "  train_accu_history = []\n",
    "  test_accu_history = []\n",
    "  train_loss = []\n",
    "\n",
    "  for epoch in range(epochs):\n",
    "\n",
    "    net.train()\n",
    "    for X,y in train_iter:\n",
    "      if cuda:\n",
    "        net.cuda()\n",
    "        X,y = X.cuda(),y.cuda()\n",
    "      l = loss(net(X), y)\n",
    "      optimizer.zero_grad()\n",
    "      l.backward()\n",
    "      optimizer.step()\n",
    "\n",
    "    net.eval() \n",
    "    l = loss(net(X), y)\n",
    "    train_loss.append(l.cpu().detach())\n",
    "    \n",
    "\n",
    "    train_avg_acc = eval_accu(net, train_iter, cuda)\n",
    "    test_avg_acc = eval_accu(net, test_iter, cuda)\n",
    "    train_accu_history.append(train_avg_acc)\n",
    "    test_accu_history.append(test_avg_acc)\n",
    "\n",
    "    print(f'epoch {epoch + 1}, loss {l:f}, train_accu {train_avg_acc:f}, test_accu {test_avg_acc:f}')\n",
    "  \n",
    "  x_label_value = [str(i) for i in range(1,epochs+1)]\n",
    "  plt.plot(x_label_value, train_accu_history, label='train_accu', color='g', linestyle='dashed')\n",
    "  plt.plot(x_label_value, test_accu_history, label='test_accu', color='r', linestyle='dashed')\n",
    "  plt.plot(x_label_value, train_loss, label='train_loss', color='b')\n",
    "  plt.xlabel('epoch')\n",
    "  plt.ylim(0.1,2)\n",
    "  plt.legend()\n",
    "  plt.show()"
   ]
  },
  {
   "cell_type": "code",
   "execution_count": 9,
   "metadata": {
    "colab": {
     "base_uri": "https://localhost:8080/",
     "height": 553
    },
    "id": "L7IDKh7Pu00X",
    "outputId": "609bb76a-1359-431d-e3d7-68f97b7274f0"
   },
   "outputs": [
    {
     "name": "stderr",
     "output_type": "stream",
     "text": [
      "/usr/local/lib/python3.7/dist-packages/torch/utils/data/dataloader.py:490: UserWarning: This DataLoader will create 4 worker processes in total. Our suggested max number of worker in current system is 2, which is smaller than what this DataLoader is going to create. Please be aware that excessive worker creation might get DataLoader running slow or even freeze, lower the worker number to avoid potential slowness/freeze if necessary.\n",
      "  cpuset_checked))\n"
     ]
    },
    {
     "name": "stdout",
     "output_type": "stream",
     "text": [
      "epoch 1, loss 0.540868, train_accu 0.752987, test_accu 0.752993\n",
      "epoch 2, loss 0.555356, train_accu 0.806320, test_accu 0.806370\n",
      "epoch 3, loss 0.324908, train_accu 0.837448, test_accu 0.837487\n",
      "epoch 4, loss 0.331795, train_accu 0.854583, test_accu 0.854589\n",
      "epoch 5, loss 0.294177, train_accu 0.868420, test_accu 0.868409\n",
      "epoch 6, loss 0.305362, train_accu 0.875894, test_accu 0.875916\n",
      "epoch 7, loss 0.266879, train_accu 0.878759, test_accu 0.878709\n",
      "epoch 8, loss 0.304509, train_accu 0.865588, test_accu 0.865555\n",
      "epoch 9, loss 0.314596, train_accu 0.884645, test_accu 0.884612\n",
      "epoch 10, loss 0.142842, train_accu 0.896466, test_accu 0.896472\n"
     ]
    },
    {
     "data": {
      "image/png": "[encoded data removed]",
      "text/plain": [
       "<Figure size 432x288 with 1 Axes>"
      ]
     },
     "metadata": {
      "needs_background": "light"
     },
     "output_type": "display_data"
    },
    {
     "name": "stdout",
     "output_type": "stream",
     "text": [
      "CPU times: user 29min 53s, sys: 1min 48s, total: 31min 42s\n",
      "Wall time: 39min 48s\n"
     ]
    }
   ],
   "source": [
    "%%time\n",
    "train_net(net=net, epochs=10, loss = l, optimizer=o, \n",
    "          train_iter=train_iter, test_iter=train_iter, cuda=True)"
   ]
  }
 ],
 "metadata": {
  "accelerator": "GPU",
  "colab": {
   "collapsed_sections": [],
   "name": "AlexNet.ipynb",
   "provenance": []
  },
  "kernelspec": {
   "display_name": "Python 3 (ipykernel)",
   "language": "python",
   "name": "python3"
  },
  "language_info": {
   "codemirror_mode": {
    "name": "ipython",
    "version": 3
   },
   "file_extension": ".py",
   "mimetype": "text/x-python",
   "name": "python",
   "nbconvert_exporter": "python",
   "pygments_lexer": "ipython3",
   "version": "3.7.6"
  }
 },
 "nbformat": 4,
 "nbformat_minor": 1
}
