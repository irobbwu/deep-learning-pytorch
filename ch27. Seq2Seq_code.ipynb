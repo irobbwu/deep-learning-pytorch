{
 "cells": [
  {
   "cell_type": "markdown",
   "metadata": {
    "id": "KSwUDsfsZxXB"
   },
   "source": [
    "# Seq2Seq_code\n",
    "\n",
    "ps：\n",
    "\n",
    "pip install d2l\n",
    "\n",
    "pip install matplotlib==3.0.0"
   ]
  },
  {
   "cell_type": "code",
   "execution_count": 1,
   "metadata": {
    "id": "puCueUPjZyE2"
   },
   "outputs": [],
   "source": [
    "import os\n",
    "import torch\n",
    "import torchvision\n",
    "from torch import nn\n",
    "import torch.nn.functional as F\n",
    "from d2l import torch as d2l\n",
    "from model import RNN\n",
    "from torch.utils.data import DataLoader, TensorDataset\n",
    "import matplotlib.pyplot as plt\n",
    "import collections\n",
    "import re\n",
    "import numpy as np"
   ]
  },
  {
   "cell_type": "markdown",
   "metadata": {
    "id": "ejR2ddP-kEkq"
   },
   "source": [
    "## Trasnlation Text Preprocessing"
   ]
  },
  {
   "cell_type": "code",
   "execution_count": 2,
   "metadata": {
    "colab": {
     "base_uri": "https://localhost:8080/"
    },
    "id": "X9vx_pJekEL5",
    "outputId": "45909eab-0953-4cc3-eec5-cd155661c0df"
   },
   "outputs": [
    {
     "name": "stdout",
     "output_type": "stream",
     "text": [
      "Go.\tVa !\n",
      "Hi.\tSalut !\n",
      "Run!\tCours !\n",
      "Run!\tCourez !\n",
      "Who?\tQui ?\n",
      "Wow!\tÇa alors !\n",
      "\n"
     ]
    }
   ],
   "source": [
    "d2l.DATA_HUB['fra-eng'] = (d2l.DATA_URL + 'fra-eng.zip',\n",
    "  '94646ad1522d915e7b0f9296181140edcf86a4f5')\n",
    "\n",
    "def read_data_nmt():\n",
    "  \"\"\"载⼊“英语－法语”数据集\"\"\"\n",
    "  data_dir = d2l.download_extract('fra-eng')\n",
    "  with open(os.path.join(data_dir, 'fra.txt'), 'r',\n",
    "  encoding='utf-8') as f:\n",
    "    return f.read()\n",
    "raw_text = read_data_nmt()\n",
    "print(raw_text[:75])"
   ]
  },
  {
   "cell_type": "code",
   "execution_count": 3,
   "metadata": {
    "colab": {
     "base_uri": "https://localhost:8080/"
    },
    "id": "OOk7QcfjT2dt",
    "outputId": "d6b83541-6718-4ed0-bb3c-c4d2ab0752cd"
   },
   "outputs": [
    {
     "name": "stdout",
     "output_type": "stream",
     "text": [
      "go .\tva !\n",
      "hi .\tsalut !\n",
      "run !\tcours !\n",
      "run !\tcourez !\n",
      "who ?\tqui ?\n",
      "wow !\tça alors !\n"
     ]
    }
   ],
   "source": [
    "def preprocess_nmt(text):\n",
    "  \"\"\"预处理“英语－法语”数据集\"\"\"\n",
    "  def no_space(char, prev_char):\n",
    "    return char in set(',.!?') and prev_char != ' '\n",
    "\n",
    "  # 使⽤空格替换不间断空格\n",
    "  # 使⽤⼩写字⺟替换⼤写字⺟\n",
    "  text = text.replace('\\u202f', ' ').replace('\\xa0', ' ').lower()\n",
    "  # 在单词和标点符号之间插⼊空格\n",
    "  out = [' ' + char if i > 0 and no_space(char, text[i - 1]) else char\n",
    "      for i, char in enumerate(text)]\n",
    "  return ''.join(out)\n",
    "  \n",
    "text = preprocess_nmt(raw_text)\n",
    "print(text[:80])"
   ]
  },
  {
   "cell_type": "code",
   "execution_count": 4,
   "metadata": {
    "colab": {
     "base_uri": "https://localhost:8080/"
    },
    "id": "wnMGk7JmUAIF",
    "outputId": "a1d3b608-a1cd-4e48-8e45-234831b30967"
   },
   "outputs": [
    {
     "data": {
      "text/plain": [
       "([['go', '.'],\n",
       "  ['hi', '.'],\n",
       "  ['run', '!'],\n",
       "  ['run', '!'],\n",
       "  ['who', '?'],\n",
       "  ['wow', '!']],\n",
       " [['va', '!'],\n",
       "  ['salut', '!'],\n",
       "  ['cours', '!'],\n",
       "  ['courez', '!'],\n",
       "  ['qui', '?'],\n",
       "  ['ça', 'alors', '!']])"
      ]
     },
     "execution_count": 4,
     "metadata": {},
     "output_type": "execute_result"
    }
   ],
   "source": [
    "def tokenize_nmt(text, num_examples=None):\n",
    "  \"\"\"词元化“英语－法语”数据数据集\"\"\"\n",
    "  source, target = [], []\n",
    "  for i, line in enumerate(text.split('\\n')):\n",
    "    if num_examples and i > num_examples:\n",
    "      break\n",
    "    parts = line.split('\\t')\n",
    "    if len(parts) == 2:\n",
    "      source.append(parts[0].split(' '))\n",
    "      target.append(parts[1].split(' '))\n",
    "  return source, target\n",
    "  \n",
    "source, target = tokenize_nmt(text)\n",
    "source[:6], target[:6]"
   ]
  },
  {
   "cell_type": "code",
   "execution_count": 5,
   "metadata": {
    "colab": {
     "base_uri": "https://localhost:8080/"
    },
    "id": "NmbsoltcU9pe",
    "outputId": "4a2b6168-6d1f-4248-d2b1-5f868b463d3b"
   },
   "outputs": [
    {
     "data": {
      "text/plain": [
       "10012"
      ]
     },
     "execution_count": 5,
     "metadata": {},
     "output_type": "execute_result"
    }
   ],
   "source": [
    "src_vocab = RNN.Vocab(source, min_freq=2, reserved_tokens=['<pad>', '<bos>', '<eos>'])\n",
    "len(src_vocab)"
   ]
  },
  {
   "cell_type": "code",
   "execution_count": 6,
   "metadata": {
    "colab": {
     "base_uri": "https://localhost:8080/"
    },
    "id": "20bynABcVLje",
    "outputId": "36bc51aa-9fc9-49ab-b09d-3dd0f1a09fa4"
   },
   "outputs": [
    {
     "data": {
      "text/plain": [
       "[47, 4, 1, 1, 1, 1, 1, 1, 1, 1]"
      ]
     },
     "execution_count": 6,
     "metadata": {},
     "output_type": "execute_result"
    }
   ],
   "source": [
    "def truncate_pad(line, num_steps, padding_token):\n",
    "  \"\"\"截断或填充⽂本序列\"\"\"\n",
    "  if len(line) > num_steps:\n",
    "    return line[:num_steps] # 截断\n",
    "  return line + [padding_token] * (num_steps - len(line)) # 填充\n",
    "truncate_pad(src_vocab[source[0]], 10, src_vocab['<pad>'])"
   ]
  },
  {
   "cell_type": "code",
   "execution_count": 7,
   "metadata": {
    "id": "Pasvc0xtdnDm"
   },
   "outputs": [],
   "source": [
    "def build_array_nmt(lines, vocab, num_steps):\n",
    "  \"\"\"将机器翻译的⽂本序列转换成⼩批量\"\"\"\n",
    "  lines = [vocab[l] for l in lines]\n",
    "  lines = [l + [vocab['<eos>']] for l in lines]\n",
    "  array = torch.tensor([truncate_pad(\n",
    "      l, num_steps, vocab['<pad>']) for l in lines])\n",
    "  valid_len = (array != vocab['<pad>']).type(torch.int32).sum(1)\n",
    "  return array, valid_len"
   ]
  },
  {
   "cell_type": "code",
   "execution_count": 8,
   "metadata": {
    "id": "KqdngZftzmaP"
   },
   "outputs": [],
   "source": [
    "def load_data_nmt(batch_size, num_steps, num_examples=600):\n",
    "  \"\"\"返回翻译数据集的迭代器和词表\"\"\"\n",
    "  text = preprocess_nmt(read_data_nmt())\n",
    "  source, target = tokenize_nmt(text, num_examples)\n",
    "  src_vocab = RNN.Vocab(source, min_freq=2,\n",
    "            reserved_tokens=['<pad>', '<bos>', '<eos>'])\n",
    "  tgt_vocab = d2l.Vocab(target, min_freq=2,\n",
    "            reserved_tokens=['<pad>', '<bos>', '<eos>'])\n",
    "  src_array, src_valid_len = build_array_nmt(source, src_vocab, num_steps)\n",
    "  tgt_array, tgt_valid_len = build_array_nmt(target, tgt_vocab, num_steps)\n",
    "  data_arrays = (src_array, src_valid_len, tgt_array, tgt_valid_len)\n",
    "  data_iter = DataLoader(dataset=TensorDataset(*data_arrays), \n",
    "                 batch_size=batch_size, shuffle=True)\n",
    "  return data_iter, src_vocab, tgt_vocab"
   ]
  },
  {
   "cell_type": "code",
   "execution_count": 9,
   "metadata": {
    "colab": {
     "base_uri": "https://localhost:8080/"
    },
    "id": "GNXoQLcx2-gb",
    "outputId": "6a2bc1bb-54b9-44f8-a99d-9dafb117e081"
   },
   "outputs": [
    {
     "name": "stdout",
     "output_type": "stream",
     "text": [
      "X: tensor([[ 71,   5,   3,   1,   1,   1,   1,   1],\n",
      "        [109,  10,   4,   3,   1,   1,   1,   1]], dtype=torch.int32)\n",
      "X的有效⻓度: tensor([3, 4])\n",
      "Y: tensor([[15,  0, 98,  5,  3,  1,  1,  1],\n",
      "        [92,  8,  4,  3,  1,  1,  1,  1]], dtype=torch.int32)\n",
      "Y的有效⻓度: tensor([5, 4])\n"
     ]
    }
   ],
   "source": [
    "train_iter, src_vocab, tgt_vocab = load_data_nmt(batch_size=2, num_steps=8)\n",
    "for X, X_valid_len, Y, Y_valid_len in train_iter:\n",
    "  print('X:', X.type(torch.int32))\n",
    "  print('X的有效⻓度:', X_valid_len)\n",
    "  print('Y:', Y.type(torch.int32))\n",
    "  print('Y的有效⻓度:', Y_valid_len)\n",
    "  break"
   ]
  },
  {
   "cell_type": "markdown",
   "metadata": {
    "id": "0vDD3liL3kr7"
   },
   "source": [
    "## Seq2Seq\n",
    "\n",
    "序列到序列学习——以机器翻译为例\n",
    "\n",
    "机器翻译中的输入序列和输出序列都是⻓度可变的。为了解决这类问题，我们将使用两个循环神经网络的编码器和解 码器，并将其应用于序列到序列(sequence to sequence，seq2seq)类的学习任务.\n",
    "\n",
    "![title](attachment/seq2seq.png)\n",
    "\n",
    "特定的“\\<eos>”表示序列结束词元。一旦输出序列生成此词元，模型就会停止预测。在循环神\n",
    "经网络解码器的初始化时间步，有两个特定的设计决定:首先，特定的“\\<bos>”表示序列开始词元，它是解码器的输入序列的第一个词元。其次，使用循环神经网络编码器最终的隐状态来初始化解码器的隐状态。\n",
    "\n",
    "根据Encoder-Decoder来设计网络\n",
    "![title](attachment/seq2seq2.png)"
   ]
  },
  {
   "cell_type": "markdown",
   "metadata": {
    "id": "fCGRouf3_tjU"
   },
   "source": [
    "- Seq2Seq Encoder"
   ]
  },
  {
   "cell_type": "code",
   "execution_count": 10,
   "metadata": {
    "id": "pMSB6wIU2-Yz"
   },
   "outputs": [],
   "source": [
    "class Seq2SeqEncoder(nn.Module):\n",
    "  def __init__(self, vocab_size, embed_size, num_hiddens, num_layers,\n",
    "               dropout=0, **kwargs):\n",
    "    super().__init__(**kwargs)\n",
    "    # embedding\n",
    "    self.embedding = nn.Embedding(vocab_size, embed_size)\n",
    "    self.rnn = nn.GRU(embed_size, num_hiddens, num_layers, dropout=dropout)\n",
    "\n",
    "  def forward(self, X, *args):\n",
    "    # 输出'X'的形状：(batch_size,num_steps,embed_size)\n",
    "    X = self.embedding(X)\n",
    "    X = X.permute(1, 0, 2)\n",
    "    output, state = self.rnn(X)\n",
    "    return output, state"
   ]
  },
  {
   "cell_type": "code",
   "execution_count": 11,
   "metadata": {
    "colab": {
     "base_uri": "https://localhost:8080/"
    },
    "id": "7tTmHLIR_Ga2",
    "outputId": "f0355891-e6f2-4574-eee3-dfeb9d2f4617"
   },
   "outputs": [
    {
     "data": {
      "text/plain": [
       "(torch.Size([7, 4, 16]), torch.Size([2, 4, 16]))"
      ]
     },
     "execution_count": 11,
     "metadata": {},
     "output_type": "execute_result"
    }
   ],
   "source": [
    "encoder = Seq2SeqEncoder(vocab_size=10, embed_size=8, num_hiddens=16,\n",
    "                num_layers=2)\n",
    "encoder.eval()\n",
    "X = torch.zeros((4, 7), dtype=torch.long)\n",
    "output, state = encoder(X)\n",
    "output.shape, state.shape"
   ]
  },
  {
   "cell_type": "markdown",
   "metadata": {
    "id": "7XZ9WiL-_xI8"
   },
   "source": [
    "- Seq2Seq Decoder"
   ]
  },
  {
   "cell_type": "code",
   "execution_count": 12,
   "metadata": {
    "id": "oevtkXSi_kUn"
   },
   "outputs": [],
   "source": [
    "class Seq2SeqDecoder(nn.Module):\n",
    "  \"\"\"⽤于序列到序列学习的循环神经⽹络解码器\"\"\"\n",
    "  def __init__(self, vocab_size, embed_size, num_hiddens, num_layers,\n",
    "          dropout=0, **kwargs):\n",
    "    super().__init__(**kwargs)\n",
    "    self.embedding = nn.Embedding(vocab_size, embed_size)\n",
    "    self.rnn = nn.GRU(embed_size + num_hiddens, num_hiddens, num_layers,\n",
    "                dropout=dropout)\n",
    "    self.dense = nn.Linear(num_hiddens, vocab_size)\n",
    "\n",
    "  def init_state(self, enc_outputs, *args):\n",
    "    return enc_outputs[1]\n",
    "\n",
    "  def forward(self, X, state):\n",
    "    X = self.embedding(X).permute(1, 0, 2)\n",
    "    context = state[-1].repeat(X.shape[0], 1, 1)\n",
    "    X_and_context = torch.cat((X, context), 2)\n",
    "    # return X, context\n",
    "    output, state = self.rnn(X_and_context, state)\n",
    "    output = self.dense(output).permute(1, 0, 2)\n",
    "    return output, state"
   ]
  },
  {
   "cell_type": "code",
   "execution_count": 13,
   "metadata": {
    "colab": {
     "base_uri": "https://localhost:8080/"
    },
    "id": "hkClNry6DCkI",
    "outputId": "af37c0da-30f2-4231-9d71-bf2d6f8332ae"
   },
   "outputs": [
    {
     "data": {
      "text/plain": [
       "(torch.Size([4, 7, 10]), torch.Size([2, 4, 16]))"
      ]
     },
     "execution_count": 13,
     "metadata": {},
     "output_type": "execute_result"
    }
   ],
   "source": [
    "decoder = Seq2SeqDecoder(vocab_size=10, embed_size=8, num_hiddens=16,\n",
    "      num_layers=2)\n",
    "decoder.eval()\n",
    "state = decoder.init_state(encoder(X))\n",
    "output, state = decoder(X, state)\n",
    "output.shape, state.shape"
   ]
  },
  {
   "cell_type": "code",
   "execution_count": 14,
   "metadata": {
    "id": "pxlmabKAVJTj"
   },
   "outputs": [],
   "source": [
    "class EncoderDecoder(nn.Module):\n",
    "  \"\"\"编码器-解码器架构的基类\"\"\"\n",
    "  def __init__(self, encoder, decoder, **kwargs):\n",
    "    super().__init__(**kwargs)\n",
    "    self.encoder = encoder\n",
    "    self.decoder = decoder\n",
    "\n",
    "  def forward(self, enc_X, dec_X, *args):\n",
    "    enc_outputs = self.encoder(enc_X, *args)\n",
    "    dec_state = self.decoder.init_state(enc_outputs, *args)\n",
    "    return self.decoder(dec_X, dec_state)"
   ]
  },
  {
   "cell_type": "markdown",
   "metadata": {
    "id": "OxqllknLHSC2"
   },
   "source": [
    "- loss"
   ]
  },
  {
   "cell_type": "code",
   "execution_count": 15,
   "metadata": {
    "id": "J8emcWTOHTEw"
   },
   "outputs": [],
   "source": [
    "def sequence_mask(X, valid_len, value=0):\n",
    "  \"\"\"在序列中屏蔽不相关的项\"\"\"\n",
    "  maxlen = X.size(1)\n",
    "  mask = torch.arange((maxlen), dtype=torch.float32,\n",
    "          device=X.device)[None, :] < valid_len[:, None]\n",
    "  X[~mask] = value\n",
    "  return X"
   ]
  },
  {
   "cell_type": "code",
   "execution_count": 16,
   "metadata": {
    "colab": {
     "base_uri": "https://localhost:8080/"
    },
    "id": "wpUAzReOHzk-",
    "outputId": "ddbc4f14-68b2-46e0-c5b5-85763d8ed283"
   },
   "outputs": [
    {
     "data": {
      "text/plain": [
       "tensor([[1, 0, 0],\n",
       "        [4, 5, 0]])"
      ]
     },
     "execution_count": 16,
     "metadata": {},
     "output_type": "execute_result"
    }
   ],
   "source": [
    "X = torch.tensor([[1, 2, 3], [4, 5, 6]])\n",
    "sequence_mask(X, torch.tensor([1, 2]))"
   ]
  },
  {
   "cell_type": "code",
   "execution_count": 17,
   "metadata": {
    "colab": {
     "base_uri": "https://localhost:8080/"
    },
    "id": "SCZpE1uaIXid",
    "outputId": "e7a79283-a710-467f-a351-24355977df3e"
   },
   "outputs": [
    {
     "data": {
      "text/plain": [
       "tensor([2.3026, 1.1513, 0.0000])"
      ]
     },
     "execution_count": 17,
     "metadata": {},
     "output_type": "execute_result"
    }
   ],
   "source": [
    "class MaskedSoftmaxCELoss(nn.CrossEntropyLoss):\n",
    "  \"\"\"带遮蔽的softmax交叉熵损失函数\"\"\"\n",
    "  # pred的形状：(batch_size,num_steps,vocab_size)\n",
    "  # label的形状：(batch_size,num_steps)\n",
    "  # valid_len的形状：(batch_size,)\n",
    "  def forward(self, pred, label, valid_len):\n",
    "    weights = torch.ones_like(label)\n",
    "    weights = sequence_mask(weights, valid_len)\n",
    "    self.reduction='none'\n",
    "    unweighted_loss = super().forward(\n",
    "                pred.permute(0, 2, 1), label)\n",
    "    weighted_loss = (unweighted_loss * weights).mean(dim=1)\n",
    "    return weighted_loss\n",
    "\n",
    "loss = MaskedSoftmaxCELoss()\n",
    "loss(torch.ones(3, 4, 10), torch.ones((3, 4), dtype=torch.long),\n",
    "        torch.tensor([4, 2, 0]))"
   ]
  },
  {
   "cell_type": "markdown",
   "metadata": {
    "id": "ZF6SRqL-Rqol"
   },
   "source": [
    "- Train\n",
    "\n",
    "特定的序列开始词元(“<bos>”)和原始的输出序列(不包括序 列结束词元“<eos>”)拼接在一起作为解码器的输入。这被称为强制教学(teacher forcing)，因为原始的输 出序列(词元的标签)被送入解码器。或者，将来自上一个时间步的预测得到的词元作为解码器的当前输入。"
   ]
  },
  {
   "cell_type": "code",
   "execution_count": 18,
   "metadata": {
    "colab": {
     "base_uri": "https://localhost:8080/"
    },
    "id": "4UoS-c9UQ37G",
    "outputId": "f82829a1-3268-4296-e3a3-be34694b80dd"
   },
   "outputs": [
    {
     "data": {
      "text/plain": [
       "(184, 201)"
      ]
     },
     "execution_count": 18,
     "metadata": {},
     "output_type": "execute_result"
    }
   ],
   "source": [
    "# 1.载入数据集\n",
    "embed_size, num_hiddens, num_layers, dropout = 32, 32, 2, 0.1\n",
    "batch_size, num_steps = 64, 10\n",
    "train_iter, src_vocab, tgt_vocab = load_data_nmt(batch_size, num_steps)\n",
    "len(src_vocab), len(tgt_vocab)"
   ]
  },
  {
   "cell_type": "code",
   "execution_count": 19,
   "metadata": {
    "id": "Q4m4QskcR570"
   },
   "outputs": [],
   "source": [
    "# 2.定义网络\n",
    "encoder = Seq2SeqEncoder(len(src_vocab), embed_size, num_hiddens, num_layers,\n",
    "                dropout)\n",
    "decoder = Seq2SeqDecoder(len(tgt_vocab), embed_size, num_hiddens, num_layers,\n",
    "                dropout)\n",
    "net = EncoderDecoder(encoder, decoder)"
   ]
  },
  {
   "cell_type": "code",
   "execution_count": 20,
   "metadata": {
    "id": "LYmjJFL7VaDB"
   },
   "outputs": [],
   "source": [
    "# 3.初始化weight\n",
    "def xavier_init_weights(m):\n",
    "  if type(m) == nn.Linear:\n",
    "    nn.init.xavier_uniform_(m.weight)\n",
    "  if type(m) == nn.GRU:\n",
    "    for param in m._flat_weights_names:\n",
    "      if \"weight\" in param:\n",
    "        nn.init.xavier_uniform_(m._parameters[param])\n",
    "\n",
    "net.apply(xavier_init_weights)\n",
    "\n",
    "# 4.定义losss和optimizer\n",
    "loss = MaskedSoftmaxCELoss()\n",
    "optimizer = torch.optim.Adam(net.parameters(), lr=0.05)"
   ]
  },
  {
   "cell_type": "code",
   "execution_count": 21,
   "metadata": {
    "id": "C7Fv83Oug9c4"
   },
   "outputs": [],
   "source": [
    "# Train\n",
    "def train_seq2seq(net, epochs, train_iter, loss, optim, tgt_vocab,\n",
    "  grad_clip_theta=1, device=torch.device('cuda')):\n",
    "  net.to(device)\n",
    "  net.train()\n",
    "\n",
    "  loss_fig = []\n",
    "  for epoch in range(epochs):\n",
    "    epoch_loss = []\n",
    "    for batch in train_iter:\n",
    "      optim.zero_grad()\n",
    "      X, X_valid_len, Y, Y_valid_len = [x.to(device) for x in batch]\n",
    "      bos = torch.tensor([tgt_vocab['<bos>']] * Y.shape[0],\n",
    "                          device=device).reshape(-1, 1)\n",
    "      dec_input = torch.cat([bos, Y[:, :-1]], 1) # 强制教学\n",
    "      Y_hat, _ = net(X, dec_input, X_valid_len)\n",
    "      l = loss(Y_hat, Y, Y_valid_len)\n",
    "      epoch_loss.append(l.mean().item())\n",
    "      l.sum().backward()\n",
    "      RNN.grad_clipping(net, grad_clip_theta)\n",
    "      optimizer.step()\n",
    "    epoch_perplexity = np.mean(epoch_loss)\n",
    "    if (epoch+1)%50==0:\n",
    "        print(f'epoch: {epoch+1}, loss:{epoch_perplexity:f}')\n",
    "    loss_fig.append(epoch_perplexity)\n",
    "\n",
    "  plt.plot(loss_fig, label='train', color='b', linestyle='solid')\n",
    "  plt.xlabel('epoch')\n",
    "  plt.ylabel('loss')\n",
    "  plt.legend()\n",
    "  plt.show()"
   ]
  },
  {
   "cell_type": "code",
   "execution_count": 22,
   "metadata": {
    "colab": {
     "base_uri": "https://localhost:8080/",
     "height": 467
    },
    "id": "ayRbOfqQjmi9",
    "outputId": "82bcb9a2-e8ae-44c0-95c3-ec3e2dc632d3"
   },
   "outputs": [
    {
     "name": "stdout",
     "output_type": "stream",
     "text": [
      "epoch: 50, loss:0.359615\n",
      "epoch: 100, loss:0.356440\n",
      "epoch: 150, loss:0.361306\n",
      "epoch: 200, loss:0.372953\n",
      "epoch: 250, loss:0.333217\n",
      "epoch: 300, loss:0.339131\n",
      "epoch: 350, loss:0.340814\n",
      "epoch: 400, loss:0.316321\n",
      "epoch: 450, loss:0.322320\n",
      "epoch: 500, loss:0.304380\n"
     ]
    },
    {
     "data": {
      "image/png": "[encoded data removed]",
      "text/plain": [
       "<Figure size 432x288 with 1 Axes>"
      ]
     },
     "metadata": {
      "needs_background": "light"
     },
     "output_type": "display_data"
    }
   ],
   "source": [
    "train_seq2seq(net, 500, train_iter, loss, optimizer, tgt_vocab,\n",
    "        grad_clip_theta=1, device=torch.device('cuda'))"
   ]
  },
  {
   "cell_type": "markdown",
   "metadata": {},
   "source": [
    "- predict\n",
    "\n",
    "为了采用一个接着一个词元的方式预测输出序列，每个解码器当前时间步的输入都将来自于前一时间步的预 测词元。与训练类似，序列开始词元(“\\<bos>”)在初始时间步被输入到解码器中,当输出序列的预测遇到序列结束词元(“<eos>”)时，预测就结束了。\n",
    "![title](attachment/seq2seq.png)\n",
    "    \n",
    "    "
   ]
  },
  {
   "cell_type": "code",
   "execution_count": 23,
   "metadata": {},
   "outputs": [],
   "source": [
    "def predict_seq2seq(net, src_sentence, src_vocab, tgt_vocab, num_steps,\n",
    "                    device=torch.device('cuda'), save_attention_weights=False):\n",
    "    net.eval()\n",
    "    src_tokens = src_vocab[src_sentence.lower().split(' ')] + [\n",
    "                            src_vocab['<eos>']]\n",
    "    enc_valid_len = torch.tensor([len(src_tokens)], device=device)\n",
    "    src_tokens = truncate_pad(src_tokens, num_steps, src_vocab['<pad>'])\n",
    "    enc_X = torch.unsqueeze(\n",
    "        torch.tensor(src_tokens, dtype=torch.long, device=device), dim=0)\n",
    "    enc_outputs = net.encoder(enc_X, enc_valid_len)\n",
    "    dec_state = net.decoder.init_state(enc_outputs, enc_valid_len)\n",
    "    dec_X = torch.unsqueeze(torch.tensor(\n",
    "                [tgt_vocab['<bos>']], dtype=torch.long, device=device), dim=0)\n",
    "    output_seq, attention_weight_seq = [], []\n",
    "    for _ in range(num_steps):\n",
    "        Y, dec_state = net.decoder(dec_X, dec_state)\n",
    "        # 我们使⽤具有预测最⾼可能性的词元，作为解码器在下⼀时间步的输⼊\n",
    "        dec_X = Y.argmax(dim=2)\n",
    "        pred = dec_X.squeeze(dim=0).type(torch.int32).item()\n",
    "        if save_attention_weights:\n",
    "            attention_weight_seq.append(net.decoder.attention_weights)\n",
    "        # ⼀旦序列结束词元被预测，输出序列的⽣成就完成了\n",
    "        if pred == tgt_vocab['<eos>']:\n",
    "            break\n",
    "        output_seq.append(pred)\n",
    "    return ' '.join(tgt_vocab.to_tokens(output_seq)), attention_weight_seq"
   ]
  },
  {
   "cell_type": "code",
   "execution_count": 24,
   "metadata": {},
   "outputs": [
    {
     "data": {
      "text/plain": [
       "('il est <unk> .', [])"
      ]
     },
     "execution_count": 24,
     "metadata": {},
     "output_type": "execute_result"
    }
   ],
   "source": [
    "predict_seq2seq(net, 'he\\'s clam', src_vocab, tgt_vocab, 10)"
   ]
  },
  {
   "cell_type": "markdown",
   "metadata": {},
   "source": [
    "- Eval\n",
    "\n",
    "BLEU（bilingual evaluation understudy）\n",
    "\n",
    "我们可以通过与真实的标签序列进行比较来评估预测序列。虽然 [Papineni et al., 2002] 提出的BLEU (bilingual evaluation understudy)最先是用于评估机器翻译的结果，但现在它已经被广泛用于测量许多应用的输出序列的质量。\n",
    "\n",
    "原则上说，对于预测序列中的任意n元语法(n-grams)，BLEU的评估都是这个n元\n",
    "语法是否出现在标签序列中。\n",
    "\n",
    "$$\n",
    "BELU = exp(min(0, 1-\\frac{len_{label}}{len_{predict}}))\\prod_{n=1}^kp_n^{\\frac{1}{2^n}}\n",
    "$$\n",
    "\n",
    "其中lenlabel表示标签序列中的词元数和 lenpred表示预测序列中的词元数，k是用于匹配的最⻓的n元语法。\n",
    "\n",
    "另外，用pn 表示n元语法的精确度，它是两个数量的比值:第一个是预测序列与标签序列中匹配的n元语法的数 量，第二个是预测序列中n元语法的数量的比率。\n",
    "\n",
    "当预测序列与标签序列完全相同时，BLEU为1, 由于n元语法越⻓则匹配难度越大，所以BLEU为更⻓的n元语法的精确度分配更大的权重。\n",
    "\n"
   ]
  },
  {
   "cell_type": "code",
   "execution_count": 25,
   "metadata": {},
   "outputs": [],
   "source": [
    "import math"
   ]
  },
  {
   "cell_type": "code",
   "execution_count": 26,
   "metadata": {},
   "outputs": [],
   "source": [
    "def bleu(pred_seq, label_seq, k): #@save\n",
    "    \"\"\"计算BLEU\"\"\"\n",
    "    pred_tokens, label_tokens = pred_seq.split(' '), label_seq.split(' ')\n",
    "    len_pred, len_label = len(pred_tokens), len(label_tokens)\n",
    "    score = math.exp(min(0, 1 - len_label / len_pred))\n",
    "    for n in range(1, k + 1):\n",
    "        num_matches, label_subs = 0, collections.defaultdict(int)\n",
    "        for i in range(len_label - n + 1):\n",
    "            label_subs[' '.join(label_tokens[i: i + n])] += 1\n",
    "        for i in range(len_pred - n + 1):\n",
    "            if label_subs[' '.join(pred_tokens[i: i + n])] > 0:\n",
    "                num_matches += 1\n",
    "                label_subs[' '.join(pred_tokens[i: i + n])] -= 1\n",
    "        score *= math.pow(num_matches / (len_pred - n + 1), math.pow(0.5, n))\n",
    "    return score"
   ]
  },
  {
   "cell_type": "code",
   "execution_count": 27,
   "metadata": {},
   "outputs": [
    {
     "data": {
      "text/plain": [
       "0.6580370064762462"
      ]
     },
     "execution_count": 27,
     "metadata": {},
     "output_type": "execute_result"
    }
   ],
   "source": [
    "t = predict_seq2seq(net, 'he\\'s calm .', src_vocab, tgt_vocab, 10)\n",
    "bleu(t[0], 'il est calme .', k=2)"
   ]
  },
  {
   "cell_type": "code",
   "execution_count": 28,
   "metadata": {},
   "outputs": [
    {
     "name": "stdout",
     "output_type": "stream",
     "text": [
      "go . => pred: va doucement ! => true: va !, bleu 0.000\n",
      "i lost . => pred: je l'ai vu . => true: j'ai perdu ., bleu 0.000\n",
      "he's calm . => pred: il est paresseux . => true: il est calme ., bleu 0.658\n",
      "i'm home . => pred: je suis <unk> . => true: je suis chez moi ., bleu 0.512\n"
     ]
    }
   ],
   "source": [
    "engs = ['go .', \"i lost .\", 'he\\'s calm .', 'i\\'m home .']\n",
    "fras = ['va !', 'j\\'ai perdu .', 'il est calme .', 'je suis chez moi .']\n",
    "for eng, fra in zip(engs, fras):\n",
    "    translation, attention_weight_seq = predict_seq2seq(\n",
    "            net, eng, src_vocab, tgt_vocab, num_steps)\n",
    "    print(f'{eng} => pred: {translation} => true: {fra}, bleu {bleu(translation, fra, k=2):.3f}')"
   ]
  }
 ],
 "metadata": {
  "accelerator": "GPU",
  "colab": {
   "collapsed_sections": [],
   "name": "Net.ipynb",
   "provenance": []
  },
  "kernelspec": {
   "display_name": "Python 3 (ipykernel)",
   "language": "python",
   "name": "python3"
  },
  "language_info": {
   "codemirror_mode": {
    "name": "ipython",
    "version": 3
   },
   "file_extension": ".py",
   "mimetype": "text/x-python",
   "name": "python",
   "nbconvert_exporter": "python",
   "pygments_lexer": "ipython3",
   "version": "3.7.6"
  }
 },
 "nbformat": 4,
 "nbformat_minor": 4
}
