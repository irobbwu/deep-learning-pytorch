{
 "cells": [
  {
   "cell_type": "markdown",
   "metadata": {
    "id": "JBOefWaLy83Q"
   },
   "source": [
    "# LeNet\n",
    "\n",
    "ps：\n",
    "\n",
    "pip install d2l\n",
    "\n",
    "pip install matplotlib==3.0.0"
   ]
  },
  {
   "cell_type": "code",
   "execution_count": 1,
   "metadata": {
    "id": "O4725vMm56zD"
   },
   "outputs": [],
   "source": [
    "import torch\n",
    "from torch import nn\n",
    "from d2l import torch as d2l"
   ]
  },
  {
   "cell_type": "markdown",
   "metadata": {
    "id": "oRz37tslzYVV"
   },
   "source": [
    "1. 定义网络"
   ]
  },
  {
   "cell_type": "code",
   "execution_count": 2,
   "metadata": {
    "id": "gqMCrYtezVSB"
   },
   "outputs": [],
   "source": [
    "class Reshape(torch.nn.Module):\n",
    "\n",
    "  def forward(self, x):\n",
    "    return x.reshape(-1, 1, 28, 28)"
   ]
  },
  {
   "cell_type": "code",
   "execution_count": 3,
   "metadata": {
    "id": "-xz_cPyZzl-t"
   },
   "outputs": [],
   "source": [
    "net = nn.Sequential(\n",
    "    Reshape(),\n",
    "    nn.Conv2d(1, 6, kernel_size=5, padding=2),\n",
    "    nn.Sigmoid(),\n",
    "    nn.AvgPool2d(2, stride=2),\n",
    "    nn.Conv2d(6, 16, kernel_size=5),\n",
    "    nn.Sigmoid(),\n",
    "    nn.AvgPool2d(kernel_size=2, stride=2),\n",
    "    nn.Flatten(),\n",
    "    nn.Linear(16*5*5, 120),\n",
    "    nn.Sigmoid(),\n",
    "    nn.Linear(120, 84),\n",
    "    nn.Sigmoid(),\n",
    "    nn.Linear(84, 10),\n",
    ")"
   ]
  },
  {
   "cell_type": "code",
   "execution_count": 4,
   "metadata": {
    "colab": {
     "base_uri": "https://localhost:8080/"
    },
    "id": "OoizhD-R0PE4",
    "outputId": "7b4336c1-0f44-4773-dd39-79e2aae90165"
   },
   "outputs": [
    {
     "name": "stdout",
     "output_type": "stream",
     "text": [
      "Reshape output: \t torch.Size([1, 1, 28, 28])\n",
      "Conv2d output: \t torch.Size([1, 6, 28, 28])\n",
      "Sigmoid output: \t torch.Size([1, 6, 28, 28])\n",
      "AvgPool2d output: \t torch.Size([1, 6, 14, 14])\n",
      "Conv2d output: \t torch.Size([1, 16, 10, 10])\n",
      "Sigmoid output: \t torch.Size([1, 16, 10, 10])\n",
      "AvgPool2d output: \t torch.Size([1, 16, 5, 5])\n",
      "Flatten output: \t torch.Size([1, 400])\n",
      "Linear output: \t torch.Size([1, 120])\n",
      "Sigmoid output: \t torch.Size([1, 120])\n",
      "Linear output: \t torch.Size([1, 84])\n",
      "Sigmoid output: \t torch.Size([1, 84])\n",
      "Linear output: \t torch.Size([1, 10])\n"
     ]
    }
   ],
   "source": [
    "X = torch.rand(size=(1,1,28,28), dtype=torch.float32)\n",
    "for layer in net:\n",
    "  X = layer(X)\n",
    "  print(layer.__class__.__name__, 'output: \\t', X.shape)"
   ]
  },
  {
   "cell_type": "markdown",
   "metadata": {
    "id": "0QIumUru3N6n"
   },
   "source": [
    "2. 载入数据集"
   ]
  },
  {
   "cell_type": "code",
   "execution_count": 5,
   "metadata": {
    "colab": {
     "base_uri": "https://localhost:8080/"
    },
    "id": "sbI2NPPH3Mv-",
    "outputId": "b2d2abca-7678-4da2-9e5a-616db8db01ec"
   },
   "outputs": [
    {
     "name": "stderr",
     "output_type": "stream",
     "text": [
      "/usr/local/lib/python3.7/dist-packages/torch/utils/data/dataloader.py:490: UserWarning: This DataLoader will create 4 worker processes in total. Our suggested max number of worker in current system is 2, which is smaller than what this DataLoader is going to create. Please be aware that excessive worker creation might get DataLoader running slow or even freeze, lower the worker number to avoid potential slowness/freeze if necessary.\n",
      "  cpuset_checked))\n"
     ]
    }
   ],
   "source": [
    "batch_size = 256\n",
    "train_iter, test_iter = d2l.load_data_fashion_mnist(batch_size=batch_size)"
   ]
  },
  {
   "cell_type": "markdown",
   "metadata": {
    "id": "QpHkwrKP4Z7M"
   },
   "source": [
    "3. 初始化权重"
   ]
  },
  {
   "cell_type": "code",
   "execution_count": 6,
   "metadata": {
    "colab": {
     "base_uri": "https://localhost:8080/"
    },
    "id": "MXJUxVaV3SLZ",
    "outputId": "b0b5c2be-29d1-48fe-fd0a-2e1f1fb068ac"
   },
   "outputs": [
    {
     "data": {
      "text/plain": [
       "Sequential(\n",
       "  (0): Reshape()\n",
       "  (1): Conv2d(1, 6, kernel_size=(5, 5), stride=(1, 1), padding=(2, 2))\n",
       "  (2): Sigmoid()\n",
       "  (3): AvgPool2d(kernel_size=2, stride=2, padding=0)\n",
       "  (4): Conv2d(6, 16, kernel_size=(5, 5), stride=(1, 1))\n",
       "  (5): Sigmoid()\n",
       "  (6): AvgPool2d(kernel_size=2, stride=2, padding=0)\n",
       "  (7): Flatten(start_dim=1, end_dim=-1)\n",
       "  (8): Linear(in_features=400, out_features=120, bias=True)\n",
       "  (9): Sigmoid()\n",
       "  (10): Linear(in_features=120, out_features=84, bias=True)\n",
       "  (11): Sigmoid()\n",
       "  (12): Linear(in_features=84, out_features=10, bias=True)\n",
       ")"
      ]
     },
     "execution_count": 6,
     "metadata": {},
     "output_type": "execute_result"
    }
   ],
   "source": [
    "def init_weights(m):\n",
    "  if type(m) in [nn.Linear, nn.Conv2d]:\n",
    "    nn.init.xavier_uniform_(m.weight)\n",
    "net.apply(init_weights)"
   ]
  },
  {
   "cell_type": "markdown",
   "metadata": {
    "id": "V44J_moZ4ehN"
   },
   "source": [
    "4. 定义loss"
   ]
  },
  {
   "cell_type": "code",
   "execution_count": 7,
   "metadata": {
    "id": "Qt__UqM-36vj"
   },
   "outputs": [],
   "source": [
    "loss = nn.CrossEntropyLoss()"
   ]
  },
  {
   "cell_type": "markdown",
   "metadata": {
    "id": "n51HBBwU4jyC"
   },
   "source": [
    "5. 定义优化器"
   ]
  },
  {
   "cell_type": "code",
   "execution_count": 8,
   "metadata": {
    "id": "V3Clr5Es4h51"
   },
   "outputs": [],
   "source": [
    "optimizer = torch.optim.SGD(net.parameters(), lr=0.1)"
   ]
  },
  {
   "cell_type": "markdown",
   "metadata": {
    "id": "fqwAoP1L4pZK"
   },
   "source": [
    "6. Training and Prediction"
   ]
  },
  {
   "cell_type": "code",
   "execution_count": 9,
   "metadata": {
    "id": "HDXcKkU84oEu"
   },
   "outputs": [],
   "source": [
    "def acc(X,y,net):\n",
    "  p_predict = net(X)\n",
    "  y_predict = torch.argmax(p_predict,axis=1)\n",
    "  output = y_predict - y\n",
    "  right_pre = len(output[output==0])\n",
    "  right_accu = right_pre/len(output)\n",
    "  return right_accu"
   ]
  },
  {
   "cell_type": "code",
   "execution_count": 10,
   "metadata": {
    "colab": {
     "base_uri": "https://localhost:8080/"
    },
    "id": "_e5dEIwT4t6R",
    "outputId": "34e24023-6fe2-4772-8a6c-91a16b860429"
   },
   "outputs": [
    {
     "name": "stderr",
     "output_type": "stream",
     "text": [
      "/usr/local/lib/python3.7/dist-packages/torch/utils/data/dataloader.py:490: UserWarning: This DataLoader will create 4 worker processes in total. Our suggested max number of worker in current system is 2, which is smaller than what this DataLoader is going to create. Please be aware that excessive worker creation might get DataLoader running slow or even freeze, lower the worker number to avoid potential slowness/freeze if necessary.\n",
      "  cpuset_checked))\n"
     ]
    },
    {
     "name": "stdout",
     "output_type": "stream",
     "text": [
      "epoch 1, loss 2.260278, train_accu 0.100066, test_accu 0.099121\n",
      "epoch 2, loss 2.269454, train_accu 0.099983, test_accu 0.097656\n",
      "epoch 3, loss 2.277193, train_accu 0.099956, test_accu 0.099121\n",
      "epoch 4, loss 2.290595, train_accu 0.100011, test_accu 0.102051\n",
      "epoch 5, loss 2.292321, train_accu 0.179000, test_accu 0.184277\n",
      "epoch 6, loss 2.274071, train_accu 0.185018, test_accu 0.186035\n",
      "epoch 7, loss 2.129006, train_accu 0.253502, test_accu 0.256250\n",
      "epoch 8, loss 1.465359, train_accu 0.476114, test_accu 0.481934\n",
      "epoch 9, loss 1.135197, train_accu 0.553219, test_accu 0.556055\n",
      "epoch 10, loss 1.000132, train_accu 0.600909, test_accu 0.601953\n",
      "epoch 11, loss 1.035856, train_accu 0.651008, test_accu 0.651563\n",
      "epoch 12, loss 0.872904, train_accu 0.661686, test_accu 0.658203\n",
      "epoch 13, loss 0.836817, train_accu 0.675061, test_accu 0.668164\n",
      "epoch 14, loss 0.799353, train_accu 0.694210, test_accu 0.692676\n",
      "epoch 15, loss 0.795512, train_accu 0.700859, test_accu 0.698438\n",
      "epoch 16, loss 0.787334, train_accu 0.694875, test_accu 0.690039\n",
      "epoch 17, loss 0.701170, train_accu 0.718434, test_accu 0.715918\n",
      "epoch 18, loss 0.637866, train_accu 0.716628, test_accu 0.711816\n",
      "epoch 19, loss 0.588120, train_accu 0.725515, test_accu 0.721191\n",
      "epoch 20, loss 0.805715, train_accu 0.736037, test_accu 0.733398\n",
      "epoch 21, loss 0.866765, train_accu 0.736447, test_accu 0.731543\n",
      "epoch 22, loss 0.711043, train_accu 0.745872, test_accu 0.745605\n",
      "epoch 23, loss 0.591990, train_accu 0.747374, test_accu 0.747363\n",
      "epoch 24, loss 0.615434, train_accu 0.747496, test_accu 0.744336\n",
      "epoch 25, loss 0.459954, train_accu 0.753430, test_accu 0.751367\n",
      "epoch 26, loss 0.530027, train_accu 0.743301, test_accu 0.741504\n",
      "epoch 27, loss 0.625653, train_accu 0.761913, test_accu 0.760059\n",
      "epoch 28, loss 0.606531, train_accu 0.764877, test_accu 0.760547\n",
      "epoch 29, loss 0.575306, train_accu 0.770146, test_accu 0.766699\n",
      "epoch 30, loss 0.641276, train_accu 0.769675, test_accu 0.764648\n"
     ]
    }
   ],
   "source": [
    "epochs = 30\n",
    "train_accu_history = []\n",
    "test_accu_history = []\n",
    "train_loss = []\n",
    "\n",
    "\n",
    "for epoch in range(epochs):\n",
    "\n",
    "  net.train()\n",
    "\n",
    "  for X,y in train_iter:\n",
    "\n",
    "    l = loss(net(X), y)\n",
    "    optimizer.zero_grad()\n",
    "    l.backward()\n",
    "    optimizer.step()\n",
    "\n",
    "  l = loss(net(X), y)\n",
    "  train_loss.append(l.detach())\n",
    "\n",
    "  net.eval()\n",
    "  train_batch = 0\n",
    "  train_accu = 0\n",
    "  \n",
    "  test_batch = 0\n",
    "  test_accu = 0\n",
    "  \n",
    "  for X_train,y_train in train_iter:\n",
    "\n",
    "    train_accu += acc(X_train, y_train, net)\n",
    "    train_batch += 1\n",
    "    train_avg_acc = train_accu/train_batch\n",
    "  train_accu_history.append(train_avg_acc)\n",
    "\n",
    "  for X_test,y_test in test_iter:\n",
    "\n",
    "    test_accu += acc(X_test, y_test, net)\n",
    "    test_batch += 1\n",
    "    avg_acc = test_accu/test_batch\n",
    "  test_accu_history.append(avg_acc)\n",
    "\n",
    "\n",
    "  print(f'epoch {epoch + 1}, loss {l:f}, train_accu {train_avg_acc:f}, test_accu {avg_acc:f}')"
   ]
  },
  {
   "cell_type": "code",
   "execution_count": 12,
   "metadata": {
    "colab": {
     "base_uri": "https://localhost:8080/",
     "height": 283
    },
    "id": "vkl1qZWVGx9Q",
    "outputId": "519a1e8a-fba2-444a-c2af-70946ba168d2"
   },
   "outputs": [
    {
     "data": {
      "image/png": "[encoded data removed]",
      "text/plain": [
       "<Figure size 432x288 with 1 Axes>"
      ]
     },
     "metadata": {
      "needs_background": "light"
     },
     "output_type": "display_data"
    }
   ],
   "source": [
    "import matplotlib.pyplot as plt\n",
    "x_label_value = [str(i) for i in range(1,epochs+1)]\n",
    "plt.plot(x_label_value, train_accu_history, label='train_accu', color='g', linestyle='dashed')\n",
    "plt.plot(x_label_value, test_accu_history, label='test_accu', color='r', linestyle='dashed')\n",
    "plt.plot(x_label_value, train_loss, label='train_loss', color='b')\n",
    "plt.xlabel('epoch')\n",
    "plt.ylim(0.1,2)\n",
    "plt.legend()\n",
    "plt.show()"
   ]
  }
 ],
 "metadata": {
  "accelerator": "GPU",
  "colab": {
   "collapsed_sections": [],
   "name": "LeNET.ipynb",
   "provenance": []
  },
  "kernelspec": {
   "display_name": "Python 3 (ipykernel)",
   "language": "python",
   "name": "python3"
  },
  "language_info": {
   "codemirror_mode": {
    "name": "ipython",
    "version": 3
   },
   "file_extension": ".py",
   "mimetype": "text/x-python",
   "name": "python",
   "nbconvert_exporter": "python",
   "pygments_lexer": "ipython3",
   "version": "3.7.6"
  }
 },
 "nbformat": 4,
 "nbformat_minor": 1
}
