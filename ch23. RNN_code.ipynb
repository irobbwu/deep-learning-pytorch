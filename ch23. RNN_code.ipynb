{
 "cells": [
  {
   "cell_type": "markdown",
   "metadata": {
    "id": "KSwUDsfsZxXB"
   },
   "source": [
    "# RNN\n",
    "\n",
    "- 潜变量自回归模型\n",
    "\n",
    "使用潜变量$h_t$总结过去信息\n",
    "![title](attachment/rnn.png)\n",
    "\n",
    "- 循环神经网络（RNN）\n",
    "![title](attachment/rnn2.png)\n",
    "\n",
    "更新隐藏状态\n",
    "$$\n",
    "h_t = \\phi(W_{hh}h_{t-1} + W_{hx}x_{t-1} + b_h)\\\\\n",
    "o_t = \\phi(W_{ho}h_t + b_o)\n",
    "$$\n",
    "\n",
    "- 困惑度（perplexity）\n",
    "\n",
    "衡量一个语言模型的好坏可以用平均交叉熵。\n",
    "\n",
    "$$\\pi = \\frac{1}{n}\\sum-logp(x_t|x_{t-1}...) $$\n",
    "\n",
    "NLP 用困惑度 $exp(\\pi)$ 衡量，1表示完美\n",
    "\n",
    "- 梯度剪裁\n",
    "\n",
    "如果梯度长度超过$\\theta$, 那么拖影回长度$\\theta$\n",
    "\n",
    "$$\\pmb g \\leftarrow min(1, \\frac{\\theta}{||\\pmb g||}\\pmb g)$$\n",
    "\n",
    "ps：\n",
    "\n",
    "pip install d2l\n",
    "\n",
    "pip install matplotlib==3.0.0"
   ]
  },
  {
   "cell_type": "code",
   "execution_count": 1,
   "metadata": {
    "id": "puCueUPjZyE2"
   },
   "outputs": [],
   "source": [
    "import os\n",
    "import torch\n",
    "import torchvision\n",
    "from torch import nn\n",
    "import torch.nn.functional as F\n",
    "from d2l import torch as d2l\n",
    "import matplotlib.pyplot as plt\n",
    "import collections\n",
    "import re\n",
    "import numpy as np"
   ]
  },
  {
   "cell_type": "markdown",
   "metadata": {
    "id": "nh0cdHzbRnV5"
   },
   "source": [
    "# Artifical Code"
   ]
  },
  {
   "cell_type": "code",
   "execution_count": 2,
   "metadata": {
    "id": "jN3KZ8GQRm74"
   },
   "outputs": [],
   "source": [
    "batch_size, num_steps = 32, 35\n",
    "train_iter, vocab = d2l.load_data_time_machine(batch_size, num_steps)"
   ]
  },
  {
   "cell_type": "code",
   "execution_count": 3,
   "metadata": {
    "colab": {
     "base_uri": "https://localhost:8080/"
    },
    "id": "ywFfjHL-RjOv",
    "outputId": "7103d3ee-4381-45c6-f63b-8cbf77139312"
   },
   "outputs": [
    {
     "data": {
      "text/plain": [
       "tensor([[1, 0, 0, 0, 0, 0, 0, 0, 0, 0, 0, 0, 0, 0, 0, 0, 0, 0, 0, 0, 0, 0, 0, 0,\n",
       "         0, 0, 0, 0],\n",
       "        [0, 0, 1, 0, 0, 0, 0, 0, 0, 0, 0, 0, 0, 0, 0, 0, 0, 0, 0, 0, 0, 0, 0, 0,\n",
       "         0, 0, 0, 0]])"
      ]
     },
     "execution_count": 3,
     "metadata": {},
     "output_type": "execute_result"
    }
   ],
   "source": [
    "F.one_hot(torch.tensor([0,2]), len(vocab))"
   ]
  },
  {
   "cell_type": "code",
   "execution_count": 4,
   "metadata": {
    "colab": {
     "base_uri": "https://localhost:8080/"
    },
    "id": "hQWIwEN0S4Va",
    "outputId": "74c58be9-7451-4ffa-b120-4bd767d935e5"
   },
   "outputs": [
    {
     "data": {
      "text/plain": [
       "torch.Size([5, 2, 28])"
      ]
     },
     "execution_count": 4,
     "metadata": {},
     "output_type": "execute_result"
    }
   ],
   "source": [
    "X = torch.arange(10).reshape((2, 5))\n",
    "F.one_hot(X.T, 28).shape"
   ]
  },
  {
   "cell_type": "code",
   "execution_count": 5,
   "metadata": {
    "id": "_daTpRHBTMz4"
   },
   "outputs": [],
   "source": [
    "def get_params(vocab_size, num_hiddens, device):\n",
    "  num_inputs = num_outputs = vocab_size\n",
    "\n",
    "  def normal(shape):\n",
    "    return torch.randn(size=shape, device=device)*0.01\n",
    "\n",
    "  # 隐藏层参数\n",
    "  W_xh = normal((num_inputs, num_hiddens))\n",
    "  W_hh = normal((num_hiddens, num_hiddens))\n",
    "  b_h = torch.zeros(num_hiddens, device=device)\n",
    "\n",
    "  # 输出层参数\n",
    "  W_hq = normal((num_hiddens, num_outputs))\n",
    "  b_q = torch.zeros(num_outputs, device=device)\n",
    "\n",
    "  # 附加梯度\n",
    "  params = [W_xh, W_hh, b_h, W_hq, b_q]\n",
    "  for param in params:\n",
    "    param.requires_grad_(True)\n",
    "  return params"
   ]
  },
  {
   "cell_type": "code",
   "execution_count": 6,
   "metadata": {
    "id": "EarzGPeFTOT4"
   },
   "outputs": [],
   "source": [
    "def init_rnn_state(batch_size, num_hiddens, device):\n",
    "  return (torch.zeros((batch_size, num_hiddens), device=device), )"
   ]
  },
  {
   "cell_type": "code",
   "execution_count": 7,
   "metadata": {
    "id": "szwVkoPWTVCI"
   },
   "outputs": [],
   "source": [
    "def rnn(inputs, state, params):\n",
    "  # inputs的形状：(时间步数量，批量⼤⼩，词表⼤⼩)\n",
    "  W_xh, W_hh, b_h, W_hq, b_q = params\n",
    "  H, = state\n",
    "  outputs = []\n",
    "  # X的形状：(批量⼤⼩，词表⼤⼩)\n",
    "  for X in inputs:\n",
    "    H = torch.tanh(torch.mm(X, W_xh) + torch.mm(H, W_hh) + b_h)\n",
    "    Y = torch.mm(H, W_hq) + b_q\n",
    "    outputs.append(Y)\n",
    "  return torch.cat(outputs, dim=0), (H,)"
   ]
  },
  {
   "cell_type": "code",
   "execution_count": 8,
   "metadata": {
    "id": "B5Wea3dVX4ID"
   },
   "outputs": [],
   "source": [
    "class RNNModelScratch: \n",
    "  \"\"\"从零开始实现的循环神经⽹络模型\"\"\"\n",
    "  def __init__(self, vocab_size, num_hiddens, device,\n",
    "         get_params, init_state, forward_fn):\n",
    "    self.vocab_size, self.num_hiddens = vocab_size, num_hiddens\n",
    "    self.params = get_params(vocab_size, num_hiddens, device)\n",
    "    self.init_state, self.forward_fn = init_state, forward_fn\n",
    "\n",
    "  def __call__(self, X, state):\n",
    "    X = F.one_hot(X.T, self.vocab_size).type(torch.float32)\n",
    "    return self.forward_fn(X, state, self.params)\n",
    "\n",
    "  def begin_state(self, batch_size, device):\n",
    "    return self.init_state(batch_size, self.num_hiddens, device)"
   ]
  },
  {
   "cell_type": "code",
   "execution_count": 9,
   "metadata": {
    "colab": {
     "base_uri": "https://localhost:8080/"
    },
    "id": "EITmdtEXYLZL",
    "outputId": "986cea2d-ffcf-46b8-cef8-9e235e79d181"
   },
   "outputs": [
    {
     "data": {
      "text/plain": [
       "(torch.Size([10, 28]), 1, torch.Size([2, 512]))"
      ]
     },
     "execution_count": 9,
     "metadata": {},
     "output_type": "execute_result"
    }
   ],
   "source": [
    "num_hiddens = 512\n",
    "net = RNNModelScratch(len(vocab), num_hiddens, d2l.try_gpu(), get_params,\n",
    "            init_rnn_state, rnn)\n",
    "state = net.begin_state(X.shape[0], d2l.try_gpu())\n",
    "Y, new_state = net(X.to(d2l.try_gpu()), state)\n",
    "Y.shape, len(new_state), new_state[0].shape"
   ]
  },
  {
   "cell_type": "code",
   "execution_count": 10,
   "metadata": {
    "id": "FBEQc8wEerLu"
   },
   "outputs": [],
   "source": [
    "def predict_ch8(prefix, num_preds, net, vocab, device): \n",
    "  \"\"\"在prefix后⾯⽣成新字符\"\"\"\n",
    "  state = net.begin_state(batch_size=1, device=device)\n",
    "  outputs = [vocab[prefix[0]]]\n",
    "  get_input = lambda: torch.tensor([outputs[-1]], device=device).reshape((1, 1))\n",
    "  for y in prefix[1:]: # 预热期\n",
    "    _, state = net(get_input(), state)\n",
    "    outputs.append(vocab[y])\n",
    "\n",
    "  for _ in range(num_preds): # 预测num_preds步\n",
    "    y, state = net(get_input(), state)\n",
    "    outputs.append(int(y.argmax(dim=1).reshape(1)))\n",
    "\n",
    "  return ''.join([vocab.idx_to_token[i] for i in outputs])\n"
   ]
  },
  {
   "cell_type": "code",
   "execution_count": 11,
   "metadata": {
    "colab": {
     "base_uri": "https://localhost:8080/",
     "height": 35
    },
    "id": "7pxNgBTyfo3G",
    "outputId": "d11020ef-c43a-4e0c-abb6-63408eec29f3"
   },
   "outputs": [
    {
     "data": {
      "application/vnd.google.colaboratory.intrinsic+json": {
       "type": "string"
      },
      "text/plain": [
       "'time traveller kg kg kg k'"
      ]
     },
     "execution_count": 11,
     "metadata": {},
     "output_type": "execute_result"
    }
   ],
   "source": [
    "predict_ch8('time traveller ', 10, net, vocab, d2l.try_gpu())"
   ]
  },
  {
   "cell_type": "markdown",
   "metadata": {
    "id": "Qvc5ouJ0ebiJ"
   },
   "source": [
    "## Grad Clip"
   ]
  },
  {
   "cell_type": "markdown",
   "metadata": {
    "id": "w2jrXrb-i-qW"
   },
   "source": [
    "对于⻓度为T的序列，我们在迭代中计算这T个时间步上的梯度，将会在反向传播过程中产⽣⻓度为O(T)的\n",
    "矩阵乘法链。如4.8节所述，当T较⼤时，它可能导致数值不稳定，例如可能导致梯度爆炸或梯度消失。因此，\n",
    "循环神经⽹络模型往往需要额外的⽅式来⽀持稳定训练。"
   ]
  },
  {
   "cell_type": "code",
   "execution_count": 12,
   "metadata": {
    "id": "1gzx3qUEebZZ"
   },
   "outputs": [],
   "source": [
    "def grad_clipping(net, theta):\n",
    "  if isinstance(net, nn.Module):\n",
    "    params = [p for p in net.parameters() if p.requires_grad]\n",
    "  else:\n",
    "    params = net.params\n",
    "  norm = torch.sqrt(sum(torch.sum((p.grad ** 2)) for p in params))\n",
    "  if norm > theta:\n",
    "    for param in params:\n",
    "      param.grad[:] *= theta / norm"
   ]
  },
  {
   "cell_type": "markdown",
   "metadata": {
    "id": "LqyZnGtJtn6V"
   },
   "source": [
    "## Train"
   ]
  },
  {
   "cell_type": "code",
   "execution_count": 13,
   "metadata": {
    "id": "aCHzhZ0ejHT3"
   },
   "outputs": [],
   "source": [
    "loss = nn.CrossEntropyLoss()\n",
    "opt = torch.optim.SGD(net.params, lr=1)\n",
    "state = None\n",
    "epochs = 500\n",
    "\n",
    "\n",
    "perplexity = []\n",
    "for epoch in range(epochs):\n",
    "  epoch_loss = []\n",
    "  for X, Y in train_iter:\n",
    "    y = Y.T.reshape(-1)\n",
    "    X, y = X.cuda(), y.cuda()\n",
    "    state = net.begin_state(batch_size=X.shape[0], device=0)\n",
    "    y_hat, state = net(X, state)\n",
    "    # state 是叶子节点，不可以直接设置grad\n",
    "    state = (state[0].detach(),)\n",
    "    l = loss(y_hat, y.long()).mean()\n",
    "    epoch_loss.append(l.item())\n",
    "    \n",
    "    opt.zero_grad()\n",
    "    l.backward()\n",
    "    grad_clipping(net,1)\n",
    "    opt.step()\n",
    "    \n",
    "  perplexity.append(np.exp(np.mean(epoch_loss)))\n",
    "  \n"
   ]
  },
  {
   "cell_type": "code",
   "execution_count": 14,
   "metadata": {
    "colab": {
     "base_uri": "https://localhost:8080/",
     "height": 283
    },
    "id": "2kYzSO5uraLe",
    "outputId": "f276ef2b-2d2f-4258-ea9c-ee899289010b"
   },
   "outputs": [
    {
     "data": {
      "image/png": "[encoded data removed]",
      "text/plain": [
       "<Figure size 432x288 with 1 Axes>"
      ]
     },
     "metadata": {
      "needs_background": "light"
     },
     "output_type": "display_data"
    }
   ],
   "source": [
    "plt.plot(perplexity, label='train', color='b', linestyle='solid')\n",
    "plt.xlabel('epoch')\n",
    "plt.ylabel('perplexity')\n",
    "plt.legend()\n",
    "plt.show()"
   ]
  },
  {
   "cell_type": "code",
   "execution_count": 15,
   "metadata": {
    "colab": {
     "base_uri": "https://localhost:8080/"
    },
    "id": "Mg0oUKeMtLqu",
    "outputId": "779cec1f-6a48-4754-d1a6-71e5bd4a4d54"
   },
   "outputs": [
    {
     "name": "stdout",
     "output_type": "stream",
     "text": [
      "time traveller smiled are you sure we can move freely inspace rig\n"
     ]
    }
   ],
   "source": [
    "print(predict_ch8('time traveller ', 50, net, vocab, d2l.try_gpu()))"
   ]
  }
 ],
 "metadata": {
  "accelerator": "GPU",
  "colab": {
   "collapsed_sections": [],
   "name": "Net.ipynb",
   "provenance": []
  },
  "kernelspec": {
   "display_name": "Python 3 (ipykernel)",
   "language": "python",
   "name": "python3"
  },
  "language_info": {
   "codemirror_mode": {
    "name": "ipython",
    "version": 3
   },
   "file_extension": ".py",
   "mimetype": "text/x-python",
   "name": "python",
   "nbconvert_exporter": "python",
   "pygments_lexer": "ipython3",
   "version": "3.7.6"
  }
 },
 "nbformat": 4,
 "nbformat_minor": 1
}
