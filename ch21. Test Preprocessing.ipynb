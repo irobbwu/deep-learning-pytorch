{
  "cells": [
    {
      "cell_type": "markdown",
      "metadata": {
        "id": "KSwUDsfsZxXB"
      },
      "source": [
        "# Test Preprocessing\n",
        "\n",
        "ps：\n",
        "\n",
        "pip install d2l\n",
        "\n",
        "pip install matplotlib==3.0.0"
      ]
    },
    {
      "cell_type": "code",
      "execution_count": 1,
      "metadata": {
        "id": "puCueUPjZyE2"
      },
      "outputs": [],
      "source": [
        "import os\n",
        "import torch\n",
        "import torchvision\n",
        "from torch import nn\n",
        "import torch.nn.functional as F\n",
        "from d2l import torch as d2l\n",
        "import matplotlib.pyplot as plt\n",
        "import collections\n",
        "import re"
      ]
    },
    {
      "cell_type": "markdown",
      "source": [
        "## 1. DataSet\n"
      ],
      "metadata": {
        "id": "jlkpCXQbi-pj"
      }
    },
    {
      "cell_type": "code",
      "source": [
        "d2l.DATA_HUB['time_machine'] = (d2l.DATA_URL + 'timemachine.txt',\n",
        "                                '090b5e7e70c295757f55df93cb0a180b9691891a')\n",
        "def read_time_machine(): \n",
        "  \"\"\"将时间机器数据集加载到文本行的列表中\"\"\"\n",
        "  with open(d2l.download('time_machine'), 'r') as f:\n",
        "    lines = f.readlines()\n",
        "  return [re.sub('[^A-Za-z]+', ' ', line).strip().lower() for line in lines]\n",
        "lines = read_time_machine() \n",
        "print(f'# 文本总行数: {len(lines)}') \n",
        "print(lines[0])\n",
        "print(lines[10])"
      ],
      "metadata": {
        "id": "o8sPO8lji61E",
        "colab": {
          "base_uri": "https://localhost:8080/"
        },
        "outputId": "3cc2294b-a3d2-4bed-df88-021319470e0f"
      },
      "execution_count": 2,
      "outputs": [
        {
          "output_type": "stream",
          "name": "stdout",
          "text": [
            "# 文本总行数: 3221\n",
            "the time machine by h g wells\n",
            "twinkled and his usually pale face was flushed and animated the\n"
          ]
        }
      ]
    },
    {
      "cell_type": "markdown",
      "source": [
        "## 2. 词元化"
      ],
      "metadata": {
        "id": "_skCML7U8LoL"
      }
    },
    {
      "cell_type": "markdown",
      "source": [
        "下面的tokenize函数将文本行列表(lines)作为输入，列表中的每个元素是一个文本序列(如一条文本 行)。每个文本序列又被拆分成一个词元列表，词元(token)是文本的基本单位。最后，返回一个由词元列 表组成的列表，其中的每个词元都是一个字符串(string)。"
      ],
      "metadata": {
        "id": "VrGqSBUo6_B0"
      }
    },
    {
      "cell_type": "code",
      "source": [
        "def tokenize(lines, token='word'):\n",
        "   # 将文本行拆分为单词或字符词元\n",
        "  if token == 'word':\n",
        "    return [line.split() for line in lines] \n",
        "  elif token == 'char':\n",
        "    return [list(line) for line in lines] \n",
        "  else:\n",
        "    print('错误:未知词元类型:' + token)"
      ],
      "metadata": {
        "id": "XCqrcoos683o"
      },
      "execution_count": 3,
      "outputs": []
    },
    {
      "cell_type": "code",
      "source": [
        "tokens = tokenize(lines, token='word') \n",
        "for i in range(11):\n",
        "    print(tokens[i])"
      ],
      "metadata": {
        "colab": {
          "base_uri": "https://localhost:8080/"
        },
        "id": "QC0ziScZ7ZES",
        "outputId": "81782d3a-bd5d-4c1b-cca7-ff8e9ede1f3d"
      },
      "execution_count": 4,
      "outputs": [
        {
          "output_type": "stream",
          "name": "stdout",
          "text": [
            "['the', 'time', 'machine', 'by', 'h', 'g', 'wells']\n",
            "[]\n",
            "[]\n",
            "[]\n",
            "[]\n",
            "['i']\n",
            "[]\n",
            "[]\n",
            "['the', 'time', 'traveller', 'for', 'so', 'it', 'will', 'be', 'convenient', 'to', 'speak', 'of', 'him']\n",
            "['was', 'expounding', 'a', 'recondite', 'matter', 'to', 'us', 'his', 'grey', 'eyes', 'shone', 'and']\n",
            "['twinkled', 'and', 'his', 'usually', 'pale', 'face', 'was', 'flushed', 'and', 'animated', 'the']\n"
          ]
        }
      ]
    },
    {
      "cell_type": "markdown",
      "source": [
        "##3. 词表\n",
        "\n",
        "元的类型是字符串，而模型需要的输入是数字，因此这种类型不方便模型使用。\n",
        "\n",
        "现在，让我们构建一个字 典，通常也叫做词表(vocabulary)，用来将字符串类型的词元映射到从0开始的数字索引中。\n",
        "\n",
        "我们先将训练 集中的所有文档合并在一起，对它们的唯一词元进行统计，得到的统计结果称之为语料(corpus)。然后根 据每个唯一词元的出现频率，为其分配一个数字索引。\n",
        "\n",
        "很少出现的词元通常被移除，这可以降低复杂性。另 外，语料库中不存在或已删除的任何词元都将映射到一个特定的未知词元“\\<unk>”。\n",
        "\n",
        "我们可以选择增加一个 列表，用于保存那些被保留的词元，例如:填充词元(“\\<pad>”);序列开始词元(“\\<bos>”);序列结束词元\n",
        "(“\\<eos>”)。"
      ],
      "metadata": {
        "id": "mrcbuiGe8RLX"
      }
    },
    {
      "cell_type": "code",
      "source": [
        "def count_corpus(tokens): \n",
        "  \"\"\"统计词元的频率\"\"\"\n",
        "  # 这里的tokens是1D列表或2D列表\n",
        "  if len(tokens) == 0 or isinstance(tokens[0], list):\n",
        "    # 将词元列表展平成一个列表\n",
        "    tokens = [token for line in tokens for token in line] \n",
        "  return collections.Counter(tokens)\n",
        "\n",
        "class Vocab:\n",
        "  '''文本列表'''\n",
        "  def __init__(self, tokens=None, min_freq=0, reserved_tokens=None):\n",
        "    if tokens is None:\n",
        "      tokens = [] \n",
        "    if reserved_tokens is None:\n",
        "      reserved_tokens = []\n",
        "    counter = count_corpus(tokens)\n",
        "    self._token_freqs = sorted(counter.items(), key = lambda x: x[1], reverse=True)\n",
        "    self.idx_to_token = ['<unk>'] + reserved_tokens\n",
        "    self.token_to_idx = {token: idx   \n",
        "                    for idx, token in enumerate(self.idx_to_token)}\n",
        "    \n",
        "    for token, freq in self._token_freqs:\n",
        "      if freq < min_freq:\n",
        "        break\n",
        "      if token not in self.token_to_idx:\n",
        "        self.idx_to_token.append(token)\n",
        "        self.token_to_idx[token] = len(self.idx_to_token) - 1\n",
        "    \n",
        "  def __len__(self):\n",
        "    return len(self.idx_to_token)\n",
        "\n",
        "  def __getitem__(self, tokens):\n",
        "    if not isinstance(tokens, (list, tuple)):\n",
        "      return self.token_to_idx.get(tokens, self.unk) \n",
        "    return [self.__getitem__(token) for token in tokens]\n",
        "  \n",
        "  def to_tokens(self, indices):\n",
        "    if not isinstance(indices, (list, tuple)):\n",
        "      return self.idx_to_token[indices]\n",
        "    return [self.idx_to_token[index] for index in indices]\n",
        "  \n",
        "  @property\n",
        "  def unk(self): \n",
        "    # 未知词元的索引为0 \n",
        "    return 0\n",
        "\n",
        "  @property\n",
        "  def token_freqs(self): \n",
        "    return self._token_freqs"
      ],
      "metadata": {
        "id": "3yws_3yW8RBv"
      },
      "execution_count": 5,
      "outputs": []
    },
    {
      "cell_type": "code",
      "source": [
        " vocab = Vocab(tokens)"
      ],
      "metadata": {
        "id": "0muRovZt-Sga"
      },
      "execution_count": 6,
      "outputs": []
    },
    {
      "cell_type": "code",
      "source": [
        "print(list(vocab.token_to_idx.items())[:10])"
      ],
      "metadata": {
        "colab": {
          "base_uri": "https://localhost:8080/"
        },
        "id": "74pk6R1vCTOs",
        "outputId": "50aca631-cd9f-4799-bc05-e24459e2f5a2"
      },
      "execution_count": 7,
      "outputs": [
        {
          "output_type": "stream",
          "name": "stdout",
          "text": [
            "[('<unk>', 0), ('the', 1), ('i', 2), ('and', 3), ('of', 4), ('a', 5), ('to', 6), ('was', 7), ('in', 8), ('that', 9)]\n"
          ]
        }
      ]
    },
    {
      "cell_type": "code",
      "source": [
        "for i in [0, 10]:\n",
        "  print('文本:', tokens[i]) \n",
        "  print('索引:', vocab[tokens[i]])"
      ],
      "metadata": {
        "colab": {
          "base_uri": "https://localhost:8080/"
        },
        "id": "_iya2AulDXal",
        "outputId": "8699def0-5391-4bcc-e1a9-4201fd4de738"
      },
      "execution_count": 8,
      "outputs": [
        {
          "output_type": "stream",
          "name": "stdout",
          "text": [
            "文本: ['the', 'time', 'machine', 'by', 'h', 'g', 'wells']\n",
            "索引: [1, 19, 50, 40, 2183, 2184, 400]\n",
            "文本: ['twinkled', 'and', 'his', 'usually', 'pale', 'face', 'was', 'flushed', 'and', 'animated', 'the']\n",
            "索引: [2186, 3, 25, 1044, 362, 113, 7, 1421, 3, 1045, 1]\n"
          ]
        }
      ]
    },
    {
      "cell_type": "markdown",
      "source": [
        "## 4. 整合所有功能"
      ],
      "metadata": {
        "id": "-KsSg4bGFdpv"
      }
    },
    {
      "cell_type": "code",
      "source": [
        "def load_corpus_time_machine(max_tokens=-1): \n",
        "  \"\"\"返回时光机器数据集的词元索引列表和词表\"\"\"\n",
        "  lines = read_time_machine()\n",
        "  tokens = tokenize(lines, 'char')\n",
        "  vocab = Vocab(tokens)\n",
        "  # 因为时光机器数据集中的每个文本行不一定是一个句子或一个段落，\n",
        "  # 所以将所有文本行展平到一个列表中\n",
        "  corpus = [vocab[token] for line in tokens for token in line] \n",
        "  if max_tokens > 0:\n",
        "    corpus = corpus[:max_tokens] \n",
        "  return corpus, vocab\n",
        "corpus, vocab = load_corpus_time_machine()\n",
        "len(corpus), len(vocab)"
      ],
      "metadata": {
        "colab": {
          "base_uri": "https://localhost:8080/"
        },
        "id": "36K2NENUFOMX",
        "outputId": "a4455714-b237-442e-dccc-faaf7cd96212"
      },
      "execution_count": 9,
      "outputs": [
        {
          "output_type": "execute_result",
          "data": {
            "text/plain": [
              "(170580, 28)"
            ]
          },
          "metadata": {},
          "execution_count": 9
        }
      ]
    },
    {
      "cell_type": "code",
      "source": [
        ""
      ],
      "metadata": {
        "id": "_HeTdHkGGKOx"
      },
      "execution_count": null,
      "outputs": []
    }
  ],
  "metadata": {
    "accelerator": "GPU",
    "colab": {
      "collapsed_sections": [],
      "name": "Net.ipynb",
      "provenance": []
    },
    "kernelspec": {
      "display_name": "Python 3",
      "name": "python3"
    },
    "language_info": {
      "name": "python"
    }
  },
  "nbformat": 4,
  "nbformat_minor": 0
}