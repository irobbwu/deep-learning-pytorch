{
 "cells": [
  {
   "cell_type": "markdown",
   "id": "18e08f63",
   "metadata": {},
   "source": [
    "# 线性回归\n"
   ]
  },
  {
   "cell_type": "markdown",
   "id": "a9571d7c",
   "metadata": {},
   "source": [
    "## 生成数据集"
   ]
  },
  {
   "cell_type": "code",
   "execution_count": 1,
   "id": "0aec5011",
   "metadata": {},
   "outputs": [],
   "source": [
    "import numpy as np\n",
    "import torch\n",
    "from torch.utils import data \n",
    "from d2l import torch as d2l"
   ]
  },
  {
   "cell_type": "code",
   "execution_count": 2,
   "id": "a580b019",
   "metadata": {},
   "outputs": [],
   "source": [
    "true_w = torch.tensor([2, -3.4])\n",
    "true_b = 4.2\n",
    "features, labels = d2l.synthetic_data(true_w, true_b, 1000)"
   ]
  },
  {
   "cell_type": "code",
   "execution_count": 3,
   "id": "17bd2c3d",
   "metadata": {},
   "outputs": [],
   "source": [
    "def load_array(data_arrays, batch_size, is_train=True): \n",
    "    #@save \"\"\"构造一个PyTorch数据迭代器\"\"\"\n",
    "    dataset = data.TensorDataset(*data_arrays)\n",
    "    return data.DataLoader(dataset, batch_size, shuffle=is_train)"
   ]
  },
  {
   "cell_type": "code",
   "execution_count": 4,
   "id": "a518af6f",
   "metadata": {},
   "outputs": [],
   "source": [
    "batch_size = 10\n",
    "data_iter = load_array((features, labels), batch_size)"
   ]
  },
  {
   "cell_type": "markdown",
   "id": "3c45a1f3",
   "metadata": {},
   "source": [
    "## torch 线性回归"
   ]
  },
  {
   "cell_type": "markdown",
   "id": "6e5d3f2a",
   "metadata": {},
   "source": [
    "\n",
    "- 1.定义神经网络\n",
    "\n",
    "定义一个模型变量net，它是一个Sequential类的实例。Sequential类 将多个层串联在一起。当给定输入数据时，Sequential实例将数据传入到第一层，然后将第一层的输出作 为第二层的输入，此模型中为输入特征为2，输出特征为1，采用的是nn.Linear线性模型。"
   ]
  },
  {
   "cell_type": "code",
   "execution_count": 5,
   "id": "7b374b72",
   "metadata": {},
   "outputs": [],
   "source": [
    "from torch import nn"
   ]
  },
  {
   "cell_type": "code",
   "execution_count": 6,
   "id": "b7c65ec1",
   "metadata": {},
   "outputs": [],
   "source": [
    "net = nn.Sequential(nn.Linear(2,1))"
   ]
  },
  {
   "cell_type": "markdown",
   "id": "ad586898",
   "metadata": {},
   "source": [
    "- 2.定义weight和bias\n",
    "\n",
    "通过net[0]选择网络中的第一个图层，然后使用weight.data和bias.data方法访问参数。我们还可 以使用替换方法normal_和fill_来重写参数值。"
   ]
  },
  {
   "cell_type": "code",
   "execution_count": 7,
   "id": "fb2b2e44",
   "metadata": {},
   "outputs": [
    {
     "data": {
      "text/plain": [
       "tensor([0.])"
      ]
     },
     "execution_count": 7,
     "metadata": {},
     "output_type": "execute_result"
    }
   ],
   "source": [
    "net[0].weight.data.normal_(0, 0.01)\n",
    "net[0].bias.data.fill_(0)"
   ]
  },
  {
   "cell_type": "markdown",
   "id": "cbc3574f",
   "metadata": {},
   "source": [
    "- 3. 定义loss\n",
    "\n",
    "计算均方误差使用的是MSELoss类，也称为平方L2 范数。默认情况下，它返回所有样本损失的平均值"
   ]
  },
  {
   "cell_type": "code",
   "execution_count": 8,
   "id": "30ecf400",
   "metadata": {},
   "outputs": [],
   "source": [
    "loss = nn.MSELoss()"
   ]
  },
  {
   "cell_type": "markdown",
   "id": "9a2a9861",
   "metadata": {},
   "source": [
    "- 4. 定义优化器"
   ]
  },
  {
   "cell_type": "code",
   "execution_count": 9,
   "id": "ae221e66",
   "metadata": {},
   "outputs": [],
   "source": [
    "optimizer = torch.optim.SGD(net.parameters(), lr=0.03)"
   ]
  },
  {
   "cell_type": "markdown",
   "id": "3ccfd718",
   "metadata": {},
   "source": [
    "- 5. Training"
   ]
  },
  {
   "cell_type": "code",
   "execution_count": 10,
   "id": "df1e9adc",
   "metadata": {},
   "outputs": [
    {
     "name": "stdout",
     "output_type": "stream",
     "text": [
      "epoch 1, loss 0.000195\n",
      "epoch 2, loss 0.000100\n",
      "epoch 3, loss 0.000098\n"
     ]
    }
   ],
   "source": [
    "num_epochs = 3\n",
    "for epoch in range(num_epochs):\n",
    "    \n",
    "    for X, y in data_iter:\n",
    "        l = loss(net(X), y)\n",
    "        optimizer.zero_grad()\n",
    "        l.backward()\n",
    "        optimizer.step()\n",
    "        \n",
    "    l = loss(net(features), labels)\n",
    "    print(f'epoch {epoch + 1}, loss {l:f}')"
   ]
  },
  {
   "cell_type": "code",
   "execution_count": 11,
   "id": "15a73092",
   "metadata": {},
   "outputs": [
    {
     "name": "stdout",
     "output_type": "stream",
     "text": [
      "w的估计误差: tensor([ 0.0007, -0.0002])\n",
      "b的估计误差: tensor([-0.0001])\n"
     ]
    }
   ],
   "source": [
    "w = net[0].weight.data\n",
    "print('w的估计误差:', true_w - w.reshape(true_w.shape)) \n",
    "b = net[0].bias.data\n",
    "print('b的估计误差:', true_b - b)"
   ]
  }
 ],
 "metadata": {
  "kernelspec": {
   "display_name": "Python 3 (ipykernel)",
   "language": "python",
   "name": "python3"
  },
  "language_info": {
   "codemirror_mode": {
    "name": "ipython",
    "version": 3
   },
   "file_extension": ".py",
   "mimetype": "text/x-python",
   "name": "python",
   "nbconvert_exporter": "python",
   "pygments_lexer": "ipython3",
   "version": "3.7.6"
  }
 },
 "nbformat": 4,
 "nbformat_minor": 5
}
