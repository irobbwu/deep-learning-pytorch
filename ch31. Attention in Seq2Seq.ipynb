{
 "cells": [
  {
   "cell_type": "markdown",
   "metadata": {
    "id": "KSwUDsfsZxXB"
   },
   "source": [
    "# Attention in Seq2Seq\n",
    "\n",
    "ps：\n",
    "\n",
    "pip install d2l\n",
    "\n",
    "pip install matplotlib==3.0.0"
   ]
  },
  {
   "cell_type": "code",
   "execution_count": 1,
   "metadata": {
    "id": "puCueUPjZyE2"
   },
   "outputs": [],
   "source": [
    "import os\n",
    "import math\n",
    "import re\n",
    "import collections\n",
    "import numpy as np\n",
    "import torch\n",
    "import torchvision\n",
    "import torch.nn.functional as F\n",
    "import matplotlib.pyplot as plt\n",
    "from torch import nn\n",
    "from d2l import torch as d2l\n",
    "from torch.utils.data import DataLoader, TensorDataset\n",
    "from model.RNN import *"
   ]
  },
  {
   "cell_type": "markdown",
   "metadata": {
    "id": "x54-PXh1Dxlt"
   },
   "source": [
    "## Additive Attention"
   ]
  },
  {
   "cell_type": "code",
   "execution_count": 2,
   "metadata": {
    "colab": {
     "base_uri": "https://localhost:8080/"
    },
    "id": "80LiMn-ixD_g",
    "outputId": "a03e7399-b1ad-4f50-a17e-1934fea741d2"
   },
   "outputs": [
    {
     "data": {
      "text/plain": [
       "tensor([[[1., 1., 1., 1., 1., 1., 1., 1., 1., 1., 1., 1., 1., 1., 1., 1.]],\n",
       "\n",
       "        [[1., 1., 1., 1., 1., 1., 1., 1., 1., 1., 1., 1., 1., 1., 1., 1.]],\n",
       "\n",
       "        [[1., 1., 1., 1., 1., 1., 1., 1., 1., 1., 1., 1., 1., 1., 1., 1.]],\n",
       "\n",
       "        [[1., 1., 1., 1., 1., 1., 1., 1., 1., 1., 1., 1., 1., 1., 1., 1.]]],\n",
       "       grad_fn=<BmmBackward0>)"
      ]
     },
     "execution_count": 2,
     "metadata": {},
     "output_type": "execute_result"
    }
   ],
   "source": [
    "queries, keys = torch.normal(0, 1, (4, 1, 16)), torch.ones((4, 7, 16))\n",
    "values = torch.arange(40, dtype=torch.float32).reshape(1, 10, 4).repeat(\n",
    "            2, 1, 1)\n",
    "valid_lens = torch.tensor([2, 6])\n",
    "attention = AdditiveAttention(key_size=16, query_size=16, num_hiddens=16,\n",
    "                              \n",
    "                dropout=0.1)\n",
    "attention.eval()\n",
    "attention(queries, keys, keys, None)"
   ]
  },
  {
   "cell_type": "code",
   "execution_count": 3,
   "metadata": {
    "colab": {
     "base_uri": "https://localhost:8080/"
    },
    "id": "A23kfpTlxFRA",
    "outputId": "8a3a718f-e826-4580-dcb2-de14fe355698"
   },
   "outputs": [
    {
     "data": {
      "text/plain": [
       "torch.Size([2, 2, 10, 8])"
      ]
     },
     "execution_count": 3,
     "metadata": {},
     "output_type": "execute_result"
    }
   ],
   "source": [
    "x = torch.rand(2,2,10,8)\n",
    "(x.squeeze(-1)).shape"
   ]
  },
  {
   "cell_type": "markdown",
   "metadata": {
    "id": "AYZNiUoCD2fc"
   },
   "source": [
    "## Bahdanau 注意"
   ]
  },
  {
   "cell_type": "markdown",
   "metadata": {
    "id": "5bGXI9fXvSdp"
   },
   "source": [
    "![image.png](data:image/png;base64,iVBORw0KGgoAAAANSUhEUgAAAjMAAADxCAYAAAA+7TZUAAAgAElEQVR4nO3dfVBb550v8C97s4mlEAICTJYKB+OtsLPKgp3IVgJutKkHx2nvihUh2+QmsjdWXd8sMOFOhd281Pbu4hK0ve4A9aS2ehurXmd3HXRRNxuC6mZFQQlBboBENzanrUNBq42LEX4hyMl0hvuHRicIBAbzIo70/cx4xpLOkR5sePie3/NykiYmJiZAREREJFF/FOsGEBERES0EwwwRERFJGsMMERERSRrDDBEREUkawwwRERFJGsMMERERSRrDDBEREUkawwwRERFJGsMMERERSRrDTIILBAJwu93Tnnc6nRAEIQYtIqKVYqb+gWiluSXWDaDYOnv2LI4ePYqioqKI5wVBwJkzZ1BfXx/xvM/nQ0NDQ8RzarUaXq836vtXVVVBqVQCAOx2O8rKyiJen5iYQE1NDSwWi/ic2Wye9rlEtPxOnToFm82G/fv3AwAMBgNqamqiHltfX8/+gWImifdmSmylpaUwGo0wGAxRO5PJJiYmEAgE4HK50NrairS0NGi1WmRlZSEzMzPi2IGBAWzfvh3j4+OQyWQAQp1Va2srzGaz+Hq4s1qzZg1KSkowMDAQNUQR0fIKBAJIT0+H2WyGIAjw+/3o7u6G3W6H3+9HZWUlmpubxb+zf6BY4jBTAhMEAQ6HAzqdDjabDefPn4fZbMbExETEn/7+fvEchUIBg8EAANi2bRsMBgOKioogl8uRn5+PjIwMqFQq5ObmAoDYUYUNDw/D6/VOG8IaHByM+jwRLb9gMIh9+/bBZDLBZDIBCF34+Hw+GAwGXL16FbW1tTAYDCgpKRHPY/9AscJhpgRmtVrR2NiIc+fOYefOnWhsbBSvvCbz+/0RjwOBAKxWKw4cOCA+d+nSJQChzgwAvF4vzGZzxHlZWVlQqVTo6uoCAOj1egiCIJahy8rKYDKZsHXr1kX/Wolofvr6+uDxeGC1WgEADocDly9fxpo1a9DS0oJjx46J1ZRw4AHYP1BsMMwkKEEQIsahT5w4geTkZPj9frEzmWxyx3P27FkAQHd3N7q7u6HT6XDhwoWIY/x+P1JTU8XHgUAAmZmZEZ2e1WqF1WqFyWSCVqvF6OioWJr2+XziWDoRLS+ZTIb9+/ejq6sLWq0WXV1dMJlMsFqtSElJwbFjx1BYWIhTp05hx44d2LFjh3gu+weKBYaZBKVSqdDf34/h4WFUV1ejvLwcra2tyM7OhlarnfXco0ePin+32WxQq9U4f/48BEEQqzpnzpyBSqWC3W6HwWCAy+WacT7O5FAVfsxJfkSxFx7WEQQBTqcTAFBeXg65XI7x8XFYLBb09/dHDBexf6BYYJhJYDk5OXjqqadw5MgRjIyMAAiVkifz+/0oKCiA1WrFxMQE7Ha7eIzBYBCrOEqlEpcvXxYfq1QqjI6OoqysDBMTEzAYDJiYmIAgCLBarXC5XLDb7eLVVVNTE2w2G44cOTJtZRURrRytra0AALlcDgDIz88HAPT398Pr9bJ/oJhgmElgVVVV8Hg8qK6uBgDodDoAgNFoFI+ZXF4GgLy8PJw4cQI7d+6MeK/J54SFOyYAcLvdePXVV2G1WqHX63HkyBGMj48DCC33LikpQUpKCoqLi6HX62EwGKK+JxEtH5VKJVZqS0pKYLFYUFdXh7a2NuTm5iI/P1/8e05ODsbHx9k/UEwwzCSwtWvXorm5GWq1GiqVCqWlpTCZTLDZbOIxfr8fo6Oj4uPCwkLxiixsYGBA7JQmM5lM0Ov1AIBPP/0Ua9euBRCq/oSv3iYmJtDQ0DCtlExEsTf55zI8vKPT6TA2NibuHSMIAsbGxgCwf6DYYZhJYM8//zyCwSDef/99dHV1weFw4MSJE7h69ap4TF9fH8rLy6N2RoIgYHR0FLfffnvUeTbDw8NQqVQAQld1ubm5uHz5sjjWnZSUJB7b398vjqF3dXXxqosoxvx+P5qbmwFMr9BOXiTQ19eHwcFBcTVSGPsHWk4MMwksvLNm+OqotrYWycnJSE5OFo8ZHBwU94SYKjxWbjabo45jHz58OGLFAgCMjo5G3StiYGAAwPRl4EQUG2fOnIHZbMbFixcBQBz2mTzxNlytmRxiwtg/0HJimElgWq0WQ0NDUCqVSEpKiui4JqupqYlYMhk2MTEBm80WUVY+fPgwuru7xTJxT09PxDl9fX1RqzynT59GWloaBEGI2jES0fLx+XxwOBx47bXX0NraCpfLBZfLhYqKijm/B/sHWk68nQEBAHp7e1FYWCheFWVkZAAIXY2Nj48jJydn2m6d0QQCAXGDrIyMDHGTrPBr586dE6/Swssy3W43NmzYAIVCAUEQMDw8zBULRDEW7hMm/0xPDRJ2ux06nS7i53w27B9oqTDMEBERkaTx3kxEREQkaQwzREREJGkMM0RERCRpDDNEREQkaQwzREREJGkMM0RERCRpDDNEREQkaQwzREREJGkMM0RERCRpDDNEREQkaQwzREREJGkMM0RERCRpDDNEREQkaQwzREREJGkMM0RERCRpt8S6AUREiSgpKSnWTaAlNDExEesmJBRWZoiIiEjSWJkhIoohXsHHF1bcYoOVGSIiIpI0hhkiIiKSNIYZIiIikjSGGSIiIpI0hhkiIiKSNIYZIiIikjQuzSYiIpHNZoPX60VVVRWUSmXUY9xuNzIzM6FSqSKeP3z4MNavXw+DwTDr+69btw5FRUXic8FgEA899BCOHTuGwsLCaecEAgFcunTphm2Xy+UztpniG8MMEREBAJqammCz2VBaWgqDwYCTJ09OCywA0NPTg8rKSnR2dmLDhg1wuVwAgBdeeAG1tbWw2+0Rx08ON16vF8nJyQC+CE4A4PF4cPDgQfHz1Go1jEYjAMDlcqGurg46nW7Gto+OjiItLQ319fUL+BcgqWKYISJKcIFAAPv27UNfXx/sdjuUSiVSUlKQn5+P5ubmaZWWiooKAEBxcTE6OzvR1dUFl8sFjUaDy5cvo6urK+J4g8EgVldGR0fh9/sRCASwbt06dHR0IC0tDc3NzQAghpZ169ZFvIdOp5s1qAiCAKvVuhj/HCRBDDNERAnM6XTixRdfREFBAd566y0oFAoAocCiUqmwfft2mEwmmM3miCpNRUUFiouLUVhYiLvvvhsWiwWdnZ3i65OHkYBQdaWsrEx8nJ2dDYPBgIsXL6K1tRUGgwGCIMDj8UStCLlcLtTU1Mz4dYQrM5SYGGaIiBJQIBDAM888A7/fj+zsbOzYsUMcLpqstrYW3d3dyM/Px4kTJ1BeXo6hoSEAoTkqANDQ0ACz2YyioqJpQ0xhBoMBExMTqKmpgVarhcFggN1ux9jYGKxWK7Zu3Qqv1wuNRgOv1wuv1xtRESooKIDJZJr1awq3hxJP0gRvDEJEtOzC9/CJZRdst9uh0+nwxhtviHNXRkdHYbVaYTabxeOqqqowPj4OuVyO8fFx5Ofni69NTExg8+bN8Hg8UT9j6jBVOMzodDrU1dUBCA0R+f3+aXNiwsNKdrsdXV1dqK+vn7U6M3meTayshP/XRMTKDBFRggqHjMkBIDz3ZLb5KRMTExAEQQw13d3d4mvhyky0FU3BYBCjo6MoKytDc3Oz+BlNTU24evUqnn/++Ru2WavVzvhaVlbWDc+n+MQwQ0SUwILBoDhsBAADAwMAQqEmbLYlz4IgiFUdANMm/wIQqz87d+4EEBq6ysvLm3aH6RdeeCHi8dTqxkxDWGEXL16EIAhRV2BRfGOYISJKYENDQxHDRmGTnzObzQte8qzVatHZ2QmHw4H169cjPz8f/f39qKmpwebNm/HYY49hfHwce/bsgdFoRElJiXju+fPnoVarxaAUHgozmUzTJv1mZWUxzCQghhkiogSmUqkiKiDh4aO5zvlQqVRRw8PUYSaFQgGVSgWHwwEAkMlkkMvlcDgc4vkXLlyAx+OJWFUFhIaxHnroIXE47PDhwzCZTDh+/DgA4Jvf/CbKy8sjAhAlFt7OgIiI5iUYDMJisQAIbXx3s5RKJUZGRrBmzRrk5+ejrKwMtbW1EUHG5/PB4XBgw4YNAEK7D7e0tODAgQPiMbt27cL27dvhdrtvui0kbazMEBElKLfbLVZKwkZHRwEg6qqh8FBTOEj09PTg4MGD6OjoQEFBAbKzs+H3+wFEzm/ZvHkzxsfHMTw8DJfLhW3btiEYDKK/vx8ffPABzpw5A41GA6PRCJvNhu7ubnGpd0tLC8xmMxQKBdxuN4qLi6HX69HQ0CAON4UVFxdjaGiItzRIQFyaTUQUAythCe/Uybs3YjAYEAwGUVVVhQMHDkCpVCIYDKKjowNjY2NRJ/8CoaXdQGg/mvDyaZ/Ph5ycHJjNZmzbtg1bt26FTCZDMBhEa2srWltbcfz4cdjtdqjVaqhUqoj25uXlQS6XR0xOPnz4MB599NGo93daLivh/zURMcwQEcUAf+nFJ/6/xgbnzBAREZGkMcwQERGRpDHMEBERkaQxzBAREZGkMcwQERGRpHGfGSKiGJp6fyIimj9WZoiIiEjSWJkhIoqBRNqHZPLGd0RLgZUZIiJaUjabDU6nM9bNoDjGHYCJiGjJhO/CrdFo0N7eDplMFusmURxiZYaIiJZMuCLj8Xjw/vvvx7g1FK8YZoiIaEkEg0HYbDbx8dQ7dBMtFg4zERHRknC73SguLo54bmRkBAqFIkYtonjFygwRES0Jh8MBjUYDs9kMvV4PAHC5XDFuFcUjVmaIiGhJbN68GRUVFdi5cycAwGQyIS0tDfX19TFuGcUbhhkiIloywWAQcrkcAIeYaOkwzBAR0ZIK37KBv25oqXDODBEREUkawwwRERFJGu/NRETzFggE4HK54Pf7MTg4GOvm0Aqj1WqRl5eHwsLCWDeFEgQrM0Q0Z8FgEIcPH0Z6ejrKysoiNkQjAkK3LygrK8PGjRtRWloKn88X6yZRAuAEYCKak2AwiKqqKlitVjQ2NuLJJ5/kyhSKKhgMoqOjAy+++CKA0K0MAE4ApqXDMENEc1JTUwOLxYLOzk4UFRXFujkkAT6fDwaDgWGGlhzDDBHdkM/nQ05ODk6cOAGj0Rjr5pCEhO+aDTDM0NLhnBkiuqG3334bAFBeXh7jlpDUqFSqWDeBEgDDDBHdkNfrhclkgkwmi3VTiIimYZghojlJS0uLdROIiKJimCEiIiJJY5ghIiIiSWOYISIiIkljmCEiIiJJ472ZiIhiICkpKdZNWHaJ9DVzT53lxTCzhBLpBzcRsbMiIloZGGaIiGLoZ/2JEYo/vx7Eravif5+iv8znRWwsMMwsg0TprBIFOyui+UuEIEOxwwnAREREJGkMM0RERCRpDDNEREQkaQwzREREJGkMM0RERCRpXM1EGPnEh1tXyXFHqmLaa9cuB3Dt8iVcD44jb0NhDFpHJE2BQACPPPIIjEYjSkpKoFKpYt2km9LT6cSd6asjfv7D/cKVwDAuX7oIAHigxBD1/M+vB3Hpk6Gor922So70u5Q3PG6q7Fxp/lvS0mGYSXCfXw/ilb+rwMOlRgTHxzD4ay8AYOzKKJynrQCAL9+rgXZbKfI2FOLa5QC83a6I90jNyMK+J4qjvr/BZMYucz0AwD8gYO/2/Dm1SwrL2e12e6ybEFVycjJyc3PndY5cLodSqVzQ5wqCcFPnLcZnr1SlpaWorKwEAOj1ejz77LO4//77oVBMv3BYia5dDuDkD16E6fkjeNVSA7vVEvG6wWTG7XekQpm3HkDowujfftoQcUzBA9twYPf2qO8/uX+49MlQXPUPtLwYZhLcz1//MQK/9+O+r+zAqcYDyPyTNdhYXAIAWLu+ALLkFDxcahSP//z6OPr7uvDhey4oVmfjS2tVKCk34ZW2fvGYvdvz8Z3GZtytUuO2VfJpnzn52Kku+gZm7PhWmrKyslg3YVGNjIzc9C9Zt9uN4uLogTYemc3mGx5z7do1XL16FSaTCVarFQ6HAw6HAwBQW1u71E1csM+vB3HiH/dh7foCbNhUhPd+4cB3GpvFCsy7Tjt8F86jfO/z4jm3rpIjv0CLt1ts+NJaFfILtPhT9f1i+Pj8ehCPFcjxk/YhsSIz1WxBZT4XRJRYGGYA/Pa3v8XXvvY1vPPOOxGd+Z49ewAAx44di1XTltS/n2zCj/6+Ej9pHxI3tOp95wyG/2sQAPCfH4eutMPVmv/+dBXS71Jil7ker1pqkF+gnVZaPve+G1++VzNjyRkAfid4Z3wt8Hv/gr6m5bRSb2cQDAYxNDS3cn2YXC5fULWgqKgI/f0zh9TZjI+P48KFCzf92bHQ1dU152P7+vqmPZeSkrKYzVkSx/6hCgCw89sv4/PrQQDA9yqnB/ifHnkBQOgiJTtXhQdKDOjv64raP/zql63Y8lX9jEEGAF611Mz42tiV0Xl/HVLz+OOP4+GHH8bevXvF5zweD55++mmcP38+6jmBQAAyWagPHxkZidtK52ziOswIggCr1QpBENDU1ISKigps27YNFRUVEcetW7cOzz33HB588EEx0Dz++OP44IMP8M4778So9Uvv7RYbftDSg8HffIS3W2wAIF5NAaEwM/nxrVGqLFPZrRbcu0WHa5cDUefg3IhidTa+09g87/PoCzKZLCbzMxbymYWF0pqPZTDMHNbDfD4fDh06BI/HAyBUzdHr9di0aRNkMpk4/LRSJd+ZhicrD6HzrdP46GwHku9Mw7deahQrt3arBWvXF4iPM+7KmfX9Pr8exOvH6nDvFh3Ove/Ghk1FUY8rKTfN+j4G042rYlL2yiuv4MEHHwQA7N27Fx6PB3q9XqzqTRYIBPDMM8/A4XCgs7MTDocDFosFPT09kvuZWqi4DjM5OTkYHR1FZmYmGhoaYDabUVxcjN27d4spNiycgh988EH8+Z//uRhkpDK2fTO+d7Idn10P4ocv7cFTz/0D+t49IwaXqVIzsnBHqkKcMxOu2gCAerMOd6Qq0NPpxHu/cGDLV/X4H1vSxSu1qR4oMcA/MPP8imhDU0RSI5fLMTw8jObmZuh0Osn1JbvM9bhwrhc/2LcTr7T1w3naCsXqbHEu3cfn+3AlMIzh/xrEmi+r8XCpSpwz8+F7oT6iv69LrOh2vnUav/7QA8XqbFgPV+Op5/5BDEKTZeeq8K5z5vloqRlZcT0BWKFQ4J133sGDDz6ICxcu4OTJk3A4HNBoNFGPffbZZ+H3+9He3o5Dhw7BYrHg008/jUHLYyuuwwwAWK1W6PV6NDQ0oLW1FXq9flqQCdu7dy9+8pOf4PTp0/jNb34juc7nZpz4x324d4sOG4tL0PfuGQChUvK3XmoU58r094VK6jNdSQGhiX8nf/AitnxVjy+tVeG5l0/g+99+Cgetb0Wt0IQ7xGhCHaNxxteJpEChUKClpSXWzbhp/gEBP3xpD771UmNEeLBbLTj04zaxgtLT6RSHou9ITUdJuQljV0bFqs0dqek4974bP9i3U6yqGExm7HuieMYLnkSnUCjQ0NCA7du3w2w2Rw0yYWfOnIHH44HdbsfIyAgAYMOGDcvV1BUjrsNMeAy/vr4eMpkMXV1ds5aHH3/8cdx9990oLS2NOocmnly7HEDD88+Ik/rCUjOyZj3vjlTFtDHxz68HcdD0CO7dokN+gRb9fV14uNSIj852oPl4nbha4UpgGFu+qgcA8TkiWnlGPvGJE20f27MfQGi+SlZOHgDA/dZpJN+ZBuCL4WggdDPJ7FwVku9Mg2J1NrJzVbhwrhf7nigW+5n+vi5s2FSEp6tr8f1vP4XvnWzHratkuOgbQEm5Cf4BAXer1Dds32zzbqTO4/Fg165daGtrQ1VVFfLy8iLm0ExmsVjQ3NwMpVIJp9MJvV4ft7+3ZhPXYeaDDz6AXq+HSqVCMBiExWJBZ2cnBEGYNr7/+OOPAwD+9V//FQCQlpYWMYcmHj1QYsCdikzx8YfvuW44Xh2N5X89gbXrC/Bk5SH86pet4vNPVBzA3zyUg698/UnkbSjE5UsX8aW1qjnddXrykk0iWl53pKbjBy09+OUbp8TnnKetYmWl6JFyZClDy/97Op3iooGpPr8exHOlG/GtlxrxQIkhYvhIv6saXWdacOmTIWTnqnB9fAzJd6ZFVG3tVotY7Z0snqu3k+fIaDQaccgJwLRA09vbCwDQ6XQAQlWabdu2wW63z2leVzyJ6zAz+T80vLrj1VdfxYEDByKO83g8SE1NjVi1FP6m+dGPfoTvfOc7y9Ti5XNHqgIPlxrF8vDn14P49Ycecb7Kx+f7IlY1Te1MgNAV1q9+2YovrVXhycpD4oqosPS7lBFLMH0XzmPNl9Xi0ssL53rxXOlG8ZieTidWyW+fdTiLYmN0dBRpaWmxbgYtk1tXyZC3oVAMM9cuBwAAd6RmAMC07RMmT8od+cSHsSujeLvFJg5Zf+2pyEUX4c/4/uvd4uOpK6Deddrx5Xs1MP/v13DrKhn+/WQTAER9r3hy/PjxiDky4Tk03/jGN6aFmQ8++AAmk0m84B4dHRUnACeauA4z9fX1yMkJzbBXqVRoa2vDPffcM23ZmkajiTomOVNZLx75Pg4NyYWDx0xXXufed8N6uBq//tCDknIT7vvKDqg366YFmbDJpeCuMy34278PBcZrlwP44Ut78J3GZvGYVfLbse+J4ln3oFhJ5rtpXm9vL65fv35Tn5WamorMzEykp6fP6zy1Wo2cnJwZ54nNldVqRXMzV5klKt+Fc/jyvRpx/tvkuS7vOu3ivLp3nXZ8r7IMW76qxwMlBuz9btOcfpY/vx6E3WoR96DyDwj4XmUZXmnrF/sW7bZS/M1DOci7Z2NcX/BE2wpEoVDA6XROe95oNMJo/KJC1dDQgJdffjluRxNmE9dhZupQUknJ9JnzFHLuV514uvqLjbxmGhNfnX03TM8fgTJvw7yWXp973w0AUK7Nx8gnPrzWdAhr1xcACHWAgd/7xcB0uMIw48ThlUQqm+ZpNBpUVFSgvLx8waGGEtN7v3BEDOtM3bguXJm57ys78E/vjcz7Zze8/0x4js0PX9qDknKTOOT0nx8LeO8XoaXJnDg8M5lMlrA/47zRJAEI7TlT9Mhj4uO16wuQX6BFfoE2Yogp/S4lNmwqmndn9V+Dv8XDpUbcukqGz66PI/nONCTfmSZe0SlWZ2PLV/V4pa0fa9cXRIzVr1QTExPL9mdoaAhtbW1iBbGzs/OG54yMjKCnpwc6nQ47d+5EVVUVgsFgjP/VSIrGroziK19/Unz8Sls/ftY/gZ/1T0QsILh1leymLkJSM7LEsJT5J2vw2J79uO8rO5BfoEVJuQl/U1OPf3pvBD/rn8C3XmqcdeNNSkxJEyt1G9M4kJQUmui6ku8jEr7JJACxE/IPCMi4K0cs7167HMDn18fnVC6e7djPrwdnHI6a+h4ruSoTnsAcix+dYDCIqqoqWK3WeW2MFb7dgNlsRn39/CdWJyUlobm5OeEmFS4lKfQPNH+x7B8SGcPMEmJnFZ9i3VkFg0E88cQTADCvfUzsdjvKysrQ2dmJoqL5zTlgmFl87B/iU6z7h0TFYSYiiZHJZDCbzXA4HPO6U7XBYIBGo0F7e/sSto6IaPkxzBBJ0KZNmwAAXu/85g4YjUZJ70pLRBQNwwyRBN3sioXs7GzxxodERPGCYYaIiIgkLa73mVkp5rJ9PxElJvYPRAvHygwRERFJGiszSyiRlub19vZizZo1CbmNNtHNkFr/4HQ6b3oXdafTidzc3Gm7shMtFlZmaFGcOnUKb7zxRqybQURLIBAIYPv27QgEAjd1/tGjR6PeW4hosTDM0IIFAgFYLJZ533iRiKTh7NmzAHBTFyw+nw8OhwM2m42306AlwzBDC+ZyuQAADocDvb29MW4NES2206dPAwCamprmHUjC+xp5PB68//77i942IoBhhhaBzWYT/97Z2RnDlhDRYgsEArBaQ3evvplAMrl/cDgci9o2ojCGGVoQQRAiOqjKykqWkoniSHiIKezVV1+d87lutztik0aLxXLT826IZsMwQwsSntRnMpnE51hKJoofp0+fhl6vBwBoNBpYrdY53xOsvb0dGo0GZrMZGo0GwBfD0kSLiWGGFsRms6G2tlYsQ+v1+nlduRHRyhUeYgrfLX3Xrl0AMOeVSS+88AKMRiMsFgs8Hg9MJhNaW1uXrL2UuLjPDC3IsWPHkJGRgRdeeAEAcPDgQWRkZMS4VUS0GGQyGdra2rBu3ToAQHJyMnp6epCfnz+n88fHxwGEhp8B4OWXX+ZeVLQkGGZoQQoLC2d9TETSJZPJUFJSIm678PDDD0OpVM7r/MkYZGipcJiJiIhm5PP5UFdXB7PZPK8gQ7ScGGaIiCgqQRDE+TJVVVUxbg3RzDjMREQkcT6fT5yfshADAwMYGxsDAHR1dcFisUCj0cBut7MqQysawwwRJRyfz4ePPvpI/MU9X36/H4ODgwtuh8vlitiHZSXR6/Vobm7Gjh07ps19IVppGGaIKGH09vbi4MGDC96JVq/XL8odoI1GI/bv37/g98nKykJmZuaC3ycnJ4fBhSSJYYZIYgKBQMQvHJ/PN6chAJ/PJ/49GAwiGAzecHXJ1M8KBAKSXZHS1NSEyspK6PV6dHZ24u677+bQCVGc4ARgIgkJBAJIT09HR0cHAGBkZAQGgwFNTU2zntfU1ASDwYCRkREAQEdHB9LT02fdWt7n8yE9PV3c0XlwcBCPPPLIDT9rJXK73aisrERjYyNee+01FBUVMcgQxRGGGSIJUSgUMJlMOHr0KACgu7sbHo8HGzdunPW8jRs3wuPxoLu7GwBw9OhRmEymWassSqUyYkfn8PyO4uLiRfpqlk91dTX0ej12797NYRSiOJQ0MTExEetGkPQlJSUBAPjttPScTie2b98uPtZoNGhvb5/1l3QwGMRDDz0UMdm0ra0NJSUls36WzWbDzp07Iz4rHIikore3Fxs3bkRnZyeKiopi3ZyExKZ8UYIAAA9ASURBVP6BlhorM0QSs3Xr1ojHRqPxhtUGmUwGo9E46/tE8/Wvfz3icUVFxRxbuXJcuHABABhkiOIYwwyRxMhkMtTW1oqPb1RdiXZcbW3tnIZbwsNaYVPDDRHRSsAwQyRBjz76KID5LRFWqVTQ6/UR589F+E7JN5pjQ0QUK1yaTSRBhYWF0Gg004aObsRoNMLv98/rhqCbNm0C8EWoISJaaRhmiCSqoqICOp1uXufodLp573obHtYKhxoiopWGq5mWUHgGP8Wn+f7o8PshvvH7gSbjr9blxTkzREREJGkcZloGTOjxZaFX1Hv+g98P8eTYXyzs+4H9Q3xhxS02WJkhIiIiSWOYISIiIkljmCEiIiJJY5ghIiIiSWOYISIiIkljmCEiIiJJ49LsBCcIAnJycsSbDrrdbvz2t7+N2CZ/6jGTNTU1YePGjXO6I3EwGMTQ0NCc2jXX+w3R4vl02IfrVy4h/U8Lpz3vtTdgy7fq5/Q+n10NoL3+GWzZW487lXP/fxTabAAA1fb53aKBlg77B5IKhpkEl5+fj/7+frFzuHjxIrxe76zHTKZSqVBcXIyenp4b3u9naGgI+fn5c2oX995Yfr8/342ff7cMj1raoLz/izts35aSDn+vC5943bhLPf2X0scddvz8u2XTnh9wO6Y999c/7Z8x4IwOeKM+T7HD/oGkgmGGYLFYkJaWBiB0leX3+1FTUzOnc0tKStDY2Ig9e/agvb096tXZVLN1RIIgzLlDo8W1dqsBf9nYiZ9VFkO3/wT+WJ4svpa+rgAf/LMFwe0XxeeyC3S4LUWB7AId/vqn/QheHsbPKovxqKUNd9yVCwC40P46hs91Y8veUFXn9sycWduQvHrNEnxltBDsH0gKeG+mJRTeCXIl/xPb7Xbk5eVBLpdjYGAAt99+OzIzM+F0OpGdnQ21Wg0AM5aRgVB5WC6Xo7m5GQaDYcbPCndEZrN5xmNGR0dhtVpX9L/Zzf6/hs9bqTsAfzrsw+2ZSoz8phe3rJLj/L9bxdeuDAn4dMSP7MIvbmypNlThD5+N41+ent8vl/DX/96PatD3z5YbHl/wDfOch7hiIbwD8M1+P6zk73X2D/Mnhf/XeMTKTIIrKysTS8RWqxVarRZFRUWwWCxQqVRzGpsOBoMAgLq6ulk7qzCtVjvr6zt27Jhb42lROb9rQHahDvftOoRbbpNFBIiPO+z4/UddUUPFnv+YwKfDPvzhs/FZ339VSgZuS1GIj9WGKqz/mkl8/N4rNfjSfdug1HwxxOXzODH2+8GFfFm0AOwfSCoYZhJYuFQcLiO7XC4IgoDk5GRYrVZYrdaI42e60nC5XDCZTOjr64Pb7b7hZD+DwQC73T7j61lZWfP8SmgxlPydHc7vGvBZYxW+8u3j8zrXa2/AlSEBd+ZE/+Xm73Wh8Mn9WLv1i19mt2cqI44ZcDtw366DEXNqAh97GWZihP0DSQnDTAIzmUywWCwoLy9Hbm4uRkdHUVBQgLGxMej1epjNZmRmZqKrqws+n2/G96mrq8ORI0fQ09MDh8Mxp5ULtPLcnqnEoy+/BX+fCwAiqi3jl/z47NoorvgEAMAtt8mnhZGF+HQ49P3FOTMrx1z7B6/Xi/Pnz8/4PuwfaDkwzCSwcIk4NzcXKpUKaWlpSElJETsfh8MBrVaLjo4OlJeXR32P8BXUpk2bsGHDBqSnp+PJJ5+MunJhYGAAJpMJgiCIY+0z8fl8UCoX75clzc1tKQrI0rLw2dUAvPaGaXNawvNoos1jmTpENNln10Zn/dzR332E3CJ9xDAUxdZc+4fW1lb2DxRzDDMUsTqgubkZR44cQVFRERyO0NJas9mMjIyMaef5fD7U1dVh//79kMlkkMlkaGxsxMGDB/Haa69NmxA4NjaGtLS0iPK0xWKBXq+fNvauVqsj9rKg5fHZ1QB+VlmMsuM92PKtejGwzDZnJszdUDnre+dsmXmuw0ctR5G7dfp8ivFLflZrYoz9A0kBwwyhra0Nubm5sFhCV+FFRUUIBoNiRxKt4wkGgzh06BAKCgoiJvXt3r0bNpsNR44cwfPPPx9xTldXF7RarXi80+mEy+US399msyE5OXlOkwRpafj7XMgt0k/bOG82nw77sPoeLfb8xwQ+7rAju0CHj/7tFdwqT8Gf/VUFAOCKT8DF/9cV9fyPO+wYcDvwUM3/mfba2O8Hsfqe2SeE0tJi/0BSwDBDEWXksNOnT0Oj0SAzMxM//vGPUVFRIb4WCASwb98+9PX1ob29PeK9ZDIZTp48ifz8fKSkpIjnhTu//v5+AKGrtu3bt6Onp0fsCLVaLfLz89HZ2clx9Rj4w2dB9J6qQ+GT++d1ntfegM+ujWLtVgN+/t0y/PVP+7Fmy6No/uZGpH95I4KjF/HHsmS46nZCnn5XxIZ8n3jd4kZ9U4eYPh32wd/rwt1F+kX5+ujmsH8gKeA+M0tICvsNhNsY1tzcjLGxMezcuRM9PT3IyMiAwWBAaWkpqqurMTQ0hKeeegrZ2dloamqacdza7XajuLgYZrMZhw4dQmtrK2w2G1paWiAIAp566ikUFBSgoKAAg4OD4v4RYUNDQyt2TDxe95kJ7+S70zGC0cFz+N2kHXyj7TNzd5EestRM/MvT+fjLxk7cpS7C//2fm6EqMUKpKcG1TwYgS12NX35/Dx742yMIjl4U3/+/3SbDh68fgcf6AnT7T0TcwuCKT8Afro/jl9/fg+HzHux0jKzouTTxvM8M+4f5k8L/azximFlCUvimTkpKEsvIADA8PIzq6mocO3ZMnKTn8/lw6NAh7NixA2q1Gk6nE7t3777hbp6CIOD1119HdXU1Ojo6MDY2BoPBAJ/Ph5aWFmRnZwMILbXMzMyEXC6HUqnE4cOHoVQqV+yYeDyHmfFLfvzZX1Xgik9A4OPZby+gWKvGqpQM/O7dN8QwEr6P02S3Jqfi3seqccttMoz8phfpf1qIKz4B771Sg/t2HZw2pOV8sRQDbgdyi/Tzvr9TLMR7mGH/MD9S+H+NRwwzS4jf1PEpXsMM3Zx4DjM0f/x/jY0/inUDiIiIiBaCYYaIiIgkjWGGiIiIJI1hhoiIiCSNYYaIiIgkjauZltDUPRoovtzs6hWKT/x+oMn4q3V5sTJDREREksbKDC0Kp9OJe+65Z8XuyklEscP+gZYaKzO0KE6fPo2WlpZYN4OIViD2D7TUWJmhBfP5fMjJyYFGo0F3d3esm0NEKwj7B1oOrMzQgr399tsAAI/HA7fbHePWENFKwv6BlgPDDC1YU1OT+Pf29vYYtoSIVhr2D7QcOMxEC9Lb24uNGzdGPDcyMgKFQhGjFhHRSsH+gZYLKzO0IG+++SY0Gg3MZjM0Gg0A4OzZszFuFRGtBOwfaLmwMkMLkpSUhMbGRlRWVgIA9Ho9MjMzcfz48Ri3jIhijf0DLReGGVqQQCAAmUwGuVwOIFRClslkkMlkMW4ZEcUa+wdaLgwztCjCW7Pz24mIpmL/QEuNc2aIiIhI0hhmiIiISNIYZoiIiEjSGGaIiIhI0hhmiIiISNIYZoiIiEjSGGaIiIhI0hhmiIiISNIYZoiIiEjSuAMwERERSRorM0RERCRpDDNEREQkaQwzREREJGkMM0RERCRpDDNERLRsAoEAAoFArJtBceaWWDeApCUQCOCZZ56B2WxGUVER3G43HA7HrOfU19cvU+uIaLm43W5cvHhx1mOysrJQVFQU8ZzL5QIAGAwGAIDdbo96rlqthkqlWoSWUiJgmKF5USgUePbZZ1FcXIy2tjaMjY1BEAQYjUYAgN/vR2VlJZqbm2PcUiJaSg6HA4IgzBg4wq9NDTNTdXV1RX0+KyuLYYbmjGGG5q2kpASdnZ2orq6G0WiESqWCWq2G1+vF4OAg9Hq9eKxOp4thS4loKRmNRrHCMpXdbo8IKj6fDw0NDRAEAUAoxFRVVbFyS4uCYYbmJRgMoqOjAyUlJeju7obdbsfg4CC8Xi9sNhuMRiO0Wi0AwGazQa1WQ6FQxLjVRLQU/H6/GE6ivTaZXC6HVqsVKzZarRZyuXw5mkkJgGGG5mVkZAQvvvgizp49i+rq6lg3h4hi6MyZMxgcHIz62tQhKIVCAYPBgLq6OmzevBkGgwE1NTWwWCwzvn9/fz+HmmhOGGZoXpRKJex2OwwGA1JSUpCdnR3rJhFRjMxnmAkITRr2eDzweDxISUlBfX29OMwUPp7DTnQzGGZo3pRKJd566y3IZDK0trbGujlEJBEWiwV6vR7btm2DzWZDdnY2zp8/j/vvv188xu12w2KxoKWlJYYtJanhPjN0U86dO4cjR45gbGwMqampUKvVMBqN8Pv9KCsrAxC6asvIyIhxS4loqZSVlSEpKSnqn3A/EOZ0OgGE+oXs7GwcO3YMarUaLS0tWL16tXjchg0b4HA44PP5lvVrIWljmKGb4nA4kJKSAq/Xi/Xr10Mul8Pv96OkpARAaBXT+fPnIZPJYtxSIloqjY2N6O/vj/qnsbEx4lhBEGA2m8XHhYWFGB4ehsfjQX5+vvi8QqGAyWTC22+/vWxfB0kfwwzNWyAQgMViQWlpKVwuF/Ly8tDS0oKrV6+KxygUCnR3d3MYiiiOZWdnQ6VSRf0zdT7d7t27p+0543A40NjYOO2iZ8eOHejo6Fjy9lP84JwZmrdTp07BZDLh0qVL8Hg8yMjIQGVlJfr7+yOOM5vNqK6unnGCIBFJ20wb3kV7bWpgCc+NGRkZmXauWq1GWVkZGhoaWN2lOWGYoXkJBAKorKxEZ2cn3nzzTdTW1uLSpUuora3F+Pg43nzzTZhMJgDApk2boNPpEAgEuNcMURyaaY+Z8GuzLasuKipCT08PxsfHUVdXB5fLhYqKCgCASqVCW1vboreX4lfSxMTERKwbQdIxedO88AQ9pVIJINR5eb1e6HQ6hheiOOd2u5GZmTnr7QyGh4enDS2FA9Dk8+x2O5KTk8U5d0TzxTBDREREksYJwERERCRpDDNEREQkaQwzREREJGkMM0RERCRpDDNEREQkaQwzREREJGkMM0RERCRpDDNEREQkaQwzREREJGkMM0RERCRpDDNEREQkaQwzREREJGkMM0RERCRpDDNEREQkaQwzREREJGkMM0RERCRpDDNEREQkaQwzREREJGkMM0RERCRpDDNEREQkaQwzREREJGkMM0RERCRpDDNEREQkaQwzREREJGn/H6OXQ7NZoNbTAAAAAElFTkSuQmCC)"
   ]
  },
  {
   "cell_type": "code",
   "execution_count": 4,
   "metadata": {
    "id": "AOOoyUBdxzJw"
   },
   "outputs": [],
   "source": [
    "class Seq2SeqAttentionDecoder(nn.Module):\n",
    "  def __init__(self, vocab_size, embed_size, num_hiddens, num_layers,\n",
    "    dropout=0, **kwargs):\n",
    "    super().__init__(**kwargs)\n",
    "    self.attention = AdditiveAttention(\n",
    "                num_hiddens, num_hiddens, num_hiddens, dropout)\n",
    "    self.embedding = nn.Embedding(vocab_size, embed_size)\n",
    "    self.rnn = nn.GRU(embed_size + num_hiddens, \n",
    "                num_hiddens, num_layers,\n",
    "                dropout=dropout)\n",
    "    self.dense = nn.Linear(num_hiddens, vocab_size)\n",
    "\n",
    "  def init_state(self, enc_outputs, enc_valid_lens, *args):\n",
    "    # outputs的形状为(batch_size，num_steps，num_hiddens).\n",
    "    # hidden_state的形状为(num_layers，batch_size，num_hiddens)\n",
    "    outputs, hidden_state = enc_outputs\n",
    "    return (outputs.permute(1, 0, 2), hidden_state, enc_valid_lens)\n",
    "  \n",
    "  def forward(self, X, state):\n",
    "    # enc_outputs的形状为(batch_size,num_steps,num_hiddens).\n",
    "    # hidden_state的形状为(num_layers,batch_size,\n",
    "    # num_hiddens)\n",
    "    enc_outputs, hidden_state, enc_valid_lens = state\n",
    "    # 输出X的形状为(num_steps,batch_size,embed_size)\n",
    "    X = self.embedding(X).permute(1, 0, 2)\n",
    "    outputs, self._attention_weights = [], []\n",
    "    for x in X:\n",
    "      # query的形状为(batch_size,1,num_hiddens)\n",
    "      query = torch.unsqueeze(hidden_state[-1], dim=1)\n",
    "      # context的形状为(batch_size,1,num_hiddens)\n",
    "      context = self.attention(\n",
    "      query, enc_outputs, enc_outputs, enc_valid_lens)\n",
    "      # 在特征维度上连结\n",
    "      x = torch.cat((context, torch.unsqueeze(x, dim=1)), dim=-1)\n",
    "      # 将x变形为(1,batch_size,embed_size+num_hiddens)\n",
    "      out, hidden_state = self.rnn(x.permute(1, 0, 2), hidden_state)\n",
    "      outputs.append(out)\n",
    "      self._attention_weights.append(self.attention.attention_weights)\n",
    "    # 全连接层变换后，outputs的形状为\n",
    "    # (num_steps,batch_size,vocab_size)\n",
    "    outputs = self.dense(torch.cat(outputs, dim=0))\n",
    "    return outputs.permute(1, 0, 2), [enc_outputs, hidden_state,\n",
    "                        enc_valid_lens]\n",
    "\n",
    "  @property\n",
    "  def attention_weights(self):\n",
    "    return self._attention_weights             "
   ]
  },
  {
   "cell_type": "code",
   "execution_count": 5,
   "metadata": {
    "colab": {
     "base_uri": "https://localhost:8080/"
    },
    "id": "55maoio018jj",
    "outputId": "9d7a74f0-52ea-4cdc-f9ec-5e9d8567b724"
   },
   "outputs": [
    {
     "data": {
      "text/plain": [
       "(torch.Size([4, 7, 10]), 3, torch.Size([4, 7, 16]), 2, torch.Size([4, 16]))"
      ]
     },
     "execution_count": 5,
     "metadata": {},
     "output_type": "execute_result"
    }
   ],
   "source": [
    "encoder = d2l.Seq2SeqEncoder(vocab_size=10, embed_size=8, num_hiddens=16,\n",
    "num_layers=2)\n",
    "encoder.eval()\n",
    "decoder = Seq2SeqAttentionDecoder(vocab_size=10, embed_size=8, num_hiddens=16,\n",
    "num_layers=2)\n",
    "decoder.eval()\n",
    "X = torch.zeros((4, 7), dtype=torch.long) # (batch_size,num_steps)\n",
    "state = decoder.init_state(encoder(X), None)\n",
    "output, state = decoder(X, state)\n",
    "output.shape, len(state), state[0].shape, len(state[1]), state[1][0].shape"
   ]
  },
  {
   "cell_type": "code",
   "execution_count": 6,
   "metadata": {
    "id": "XVJg7uWO_E_E"
   },
   "outputs": [],
   "source": [
    "# 1. 载入数据集\n",
    "embed_size, num_hiddens, num_layers, dropout = 32, 32, 2, 0.1\n",
    "batch_size, num_steps = 64, 10\n",
    "lr, num_epochs, device = 0.005, 250, d2l.try_gpu()\n",
    "train_iter, src_vocab, tgt_vocab = d2l.load_data_nmt(batch_size, num_steps)\n",
    "\n",
    "# 2. 定义网络\n",
    "encoder = Seq2SeqEncoder(\n",
    "        len(src_vocab), embed_size, num_hiddens, num_layers, dropout)\n",
    "decoder = Seq2SeqAttentionDecoder(\n",
    "        len(tgt_vocab), embed_size, num_hiddens, num_layers, dropout)\n",
    "net = EncoderDecoder(encoder, decoder)"
   ]
  },
  {
   "cell_type": "code",
   "execution_count": 7,
   "metadata": {
    "id": "gVxEBICxCh0e"
   },
   "outputs": [],
   "source": [
    "# 3.初始化weight\n",
    "def xavier_init_weights(m):\n",
    "  if type(m) == nn.Linear:\n",
    "    nn.init.xavier_uniform_(m.weight)\n",
    "  if type(m) == nn.GRU:\n",
    "    for param in m._flat_weights_names:\n",
    "      if \"weight\" in param:\n",
    "        nn.init.xavier_uniform_(m._parameters[param])\n",
    "\n",
    "net.apply(xavier_init_weights)\n",
    "\n",
    "# 4.定义losss和optimizer\n",
    "loss = MaskedSoftmaxCELoss()\n",
    "optimizer = torch.optim.Adam(net.parameters(), lr=0.005)"
   ]
  },
  {
   "cell_type": "code",
   "execution_count": 8,
   "metadata": {
    "colab": {
     "base_uri": "https://localhost:8080/",
     "height": 503
    },
    "id": "TnaVyx29Cmef",
    "outputId": "26af10d3-31c1-4051-ee9a-a9626029bee9"
   },
   "outputs": [
    {
     "name": "stdout",
     "output_type": "stream",
     "text": [
      "epoch: 50, loss:0.272235\n",
      "epoch: 100, loss:0.128784\n",
      "epoch: 150, loss:0.095491\n",
      "epoch: 200, loss:0.089054\n",
      "epoch: 250, loss:0.085297\n",
      "epoch: 300, loss:0.081428\n",
      "epoch: 350, loss:0.076888\n",
      "epoch: 400, loss:0.079170\n",
      "epoch: 450, loss:0.076665\n",
      "epoch: 500, loss:0.080568\n"
     ]
    },
    {
     "data": {
      "image/png": "[encoded data removed]",
      "text/plain": [
       "<Figure size 432x288 with 1 Axes>"
      ]
     },
     "metadata": {
      "needs_background": "light"
     },
     "output_type": "display_data"
    },
    {
     "name": "stdout",
     "output_type": "stream",
     "text": [
      "CPU times: user 2min 3s, sys: 3.21 s, total: 2min 6s\n",
      "Wall time: 2min 10s\n"
     ]
    }
   ],
   "source": [
    "%%time\n",
    "train_seq2seq(net, 500, train_iter, loss, optimizer, tgt_vocab)"
   ]
  },
  {
   "cell_type": "code",
   "execution_count": 9,
   "metadata": {
    "colab": {
     "base_uri": "https://localhost:8080/"
    },
    "id": "nyiQ6GPiCoYP",
    "outputId": "848b4988-b5d9-4759-cdf4-987b122e0b44"
   },
   "outputs": [
    {
     "name": "stdout",
     "output_type": "stream",
     "text": [
      "go . => pred: va ! => true: va !, bleu 1.000\n",
      "i lost . => pred: j'ai perdu . => true: j'ai perdu ., bleu 1.000\n",
      "he's calm . => pred: il est paresseux . => true: il est calme ., bleu 0.658\n",
      "i'm home . => pred: je suis chez moi . => true: je suis chez moi ., bleu 1.000\n"
     ]
    }
   ],
   "source": [
    "engs = ['go .', \"i lost .\", 'he\\'s calm .', 'i\\'m home .']\n",
    "fras = ['va !', 'j\\'ai perdu .', 'il est calme .', 'je suis chez moi .']\n",
    "for eng, fra in zip(engs, fras):\n",
    "    translation, attention_weight_seq = predict_seq2seq(\n",
    "            net, eng, src_vocab, tgt_vocab, num_steps)\n",
    "    print(f'{eng} => pred: {translation} => true: {fra}, bleu {bleu(translation, fra, k=2):.3f}')"
   ]
  }
 ],
 "metadata": {
  "accelerator": "GPU",
  "colab": {
   "collapsed_sections": [],
   "name": "Net.ipynb",
   "provenance": []
  },
  "kernelspec": {
   "display_name": "Python 3 (ipykernel)",
   "language": "python",
   "name": "python3"
  },
  "language_info": {
   "codemirror_mode": {
    "name": "ipython",
    "version": 3
   },
   "file_extension": ".py",
   "mimetype": "text/x-python",
   "name": "python",
   "nbconvert_exporter": "python",
   "pygments_lexer": "ipython3",
   "version": "3.7.6"
  }
 },
 "nbformat": 4,
 "nbformat_minor": 1
}
