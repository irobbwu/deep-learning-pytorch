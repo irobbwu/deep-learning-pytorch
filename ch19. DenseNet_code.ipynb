{
 "cells": [
  {
   "cell_type": "markdown",
   "metadata": {
    "id": "KSwUDsfsZxXB"
   },
   "source": [
    "# DenseNet\n",
    "\n",
    "回想一下任意函数的泰勒展开式(Taylor expansion)，它把这个函数分解成越来越高阶的项。在x接近0时\n",
    "\n",
    "$$\n",
    "f(x) = f(0) + f^{'}(0)x + \\frac{f^{''}(0)x^2 }{2!}+\\frac{f^{'''}(0)x^3 }{3!} + ···\n",
    "$$\n",
    "\n",
    "同样，ResNet将函数展开为\n",
    "\n",
    "$$\n",
    "f(\\pmb x) = \\pmb x + g(\\pmb x)\n",
    "$$\n",
    "\n",
    "也就是说，ResNet将f 分解为两部分:一个简单的线性项和一个复杂的非线性项。那么再向前拓展一步，如\n",
    "果我们想将f 拓展成超过两部分的信息呢?一种方案便是DenseNet。\n",
    "![title](attachment/densenet.png)\n",
    "\n",
    "ResNet和DenseNet的关键区别在于，DenseNet输出是连接(用图中的[,]表示)而不是\n",
    "如ResNet的简单相加。因此，在应用越来越复杂的函数序列后，我们执行从x到其展开式的映射:\n",
    "\n",
    "$$x → [\\pmb x, f_1(\\pmb x), f_2([\\pmb x, f_1(\\pmb x)]), f_3([\\pmb x, f_1(\\pmb x), f_2([\\pmb x, f_1(\\pmb x)])]), . . .]$$\n",
    "\n",
    "![title](attachment/densenet2.png)\n",
    "\n",
    "ps：\n",
    "\n",
    "pip install d2l\n",
    "\n",
    "pip install matplotlib==3.0.0"
   ]
  },
  {
   "cell_type": "code",
   "execution_count": 1,
   "metadata": {
    "id": "puCueUPjZyE2"
   },
   "outputs": [],
   "source": [
    "import os\n",
    "import torch\n",
    "import torchvision\n",
    "from torch import nn\n",
    "import torch.nn.functional as F\n",
    "from d2l import torch as d2l\n",
    "import matplotlib.pyplot as plt"
   ]
  },
  {
   "cell_type": "markdown",
   "metadata": {
    "id": "jlkpCXQbi-pj"
   },
   "source": [
    "## Dense Block\n"
   ]
  },
  {
   "cell_type": "code",
   "execution_count": 2,
   "metadata": {
    "id": "o8sPO8lji61E"
   },
   "outputs": [],
   "source": [
    "def conv_block(input_channels, num_channels):\n",
    "  return nn.Sequential(\n",
    "      nn.BatchNorm2d(input_channels), nn.ReLU(),\n",
    "      nn.Conv2d(input_channels, num_channels, kernel_size=3, padding=1)\n",
    "  )"
   ]
  },
  {
   "cell_type": "code",
   "execution_count": 3,
   "metadata": {
    "id": "1iCbRZ1jjT1L"
   },
   "outputs": [],
   "source": [
    "class DenseBlock(nn.Module):\n",
    "  def __init__(self, num_convs, input_channels, num_channels):\n",
    "    super().__init__()\n",
    "    layer = []\n",
    "    for i in range(num_convs):\n",
    "      layer.append(conv_block(\n",
    "          num_channels * i + input_channels, num_channels\n",
    "      ))\n",
    "    self.net = nn.Sequential(*layer)\n",
    "\n",
    "  def forward(self, X):\n",
    "    for blk in self.net:\n",
    "      Y = blk(X)\n",
    "      X = torch.cat((X, Y), dim=1)\n",
    "    return X"
   ]
  },
  {
   "cell_type": "code",
   "execution_count": 4,
   "metadata": {
    "colab": {
     "base_uri": "https://localhost:8080/"
    },
    "id": "3g0HatqekXdT",
    "outputId": "8359d1bd-20ac-47cc-ab50-92d436368fd5"
   },
   "outputs": [
    {
     "data": {
      "text/plain": [
       "torch.Size([4, 23, 8, 8])"
      ]
     },
     "execution_count": 4,
     "metadata": {},
     "output_type": "execute_result"
    }
   ],
   "source": [
    "blk = DenseBlock(2, 3, 10)\n",
    "X = torch.randn(4, 3, 8, 8)\n",
    "Y = blk(X)\n",
    "Y.shape"
   ]
  },
  {
   "cell_type": "markdown",
   "metadata": {
    "id": "b093zgR-l_CN"
   },
   "source": [
    "- Transition Block\n",
    "\n",
    "由于每个稠密块都会带来通道数的增加，使用过多则会过于复杂化模型。而过渡层可以用来控制模型复杂度。\n",
    "\n",
    "它通过1 × 1卷积层来减小通道数，并使用步幅为2的平均汇聚层减半高和宽，从而进一步降低模型复杂度。\n"
   ]
  },
  {
   "cell_type": "code",
   "execution_count": 5,
   "metadata": {
    "id": "3xT0K_B8lcAu"
   },
   "outputs": [],
   "source": [
    "def transition_block(input_channels, num_channels): \n",
    "  return nn.Sequential(\n",
    "        nn.BatchNorm2d(input_channels), nn.ReLU(),\n",
    "        nn.Conv2d(input_channels, num_channels, kernel_size=1),\n",
    "        nn.AvgPool2d(kernel_size=2, stride=2))"
   ]
  },
  {
   "cell_type": "code",
   "execution_count": 6,
   "metadata": {
    "colab": {
     "base_uri": "https://localhost:8080/"
    },
    "id": "09_cyI2KmJxI",
    "outputId": "0c4ed210-1989-4fcc-b2d0-bf9fad01a31e"
   },
   "outputs": [
    {
     "data": {
      "text/plain": [
       "torch.Size([4, 10, 4, 4])"
      ]
     },
     "execution_count": 6,
     "metadata": {},
     "output_type": "execute_result"
    }
   ],
   "source": [
    "blk = transition_block(23, 10)\n",
    "blk(Y).shape"
   ]
  },
  {
   "cell_type": "markdown",
   "metadata": {
    "id": "cqOdz6zwmOPS"
   },
   "source": [
    "## DenseNet\n",
    "\n",
    "接下来，类似于ResNet使用的4个残差块，DenseNet使用的是4个稠密块。与ResNet类似，我们可以设置每个\n",
    "稠密块使用多少个卷积层。这里我们设成4，从而与 7.6节的ResNet-18保持一致。稠密块里的卷积层通道数 (即增⻓率)设为32，所以每个稠密块将增加128个通道。\n",
    "\n",
    "在每个模块之间，ResNet通过步幅为2的残差块减小高和宽，DenseNet则使用过渡层来减半高和宽，并减半 通道数。"
   ]
  },
  {
   "cell_type": "code",
   "execution_count": 7,
   "metadata": {
    "id": "-g3halqImNxI"
   },
   "outputs": [],
   "source": [
    "b1 = nn.Sequential(\n",
    "    nn.Conv2d(1, 64, kernel_size=7, stride=2, padding=3),\n",
    "    nn.BatchNorm2d(64), nn.ReLU(),\n",
    "    nn.MaxPool2d(kernel_size=3, stride=2, padding=1))"
   ]
  },
  {
   "cell_type": "code",
   "execution_count": 8,
   "metadata": {
    "id": "toUydkE0mb7L"
   },
   "outputs": [],
   "source": [
    "num_channels, growth_rate = 64, 32 \n",
    "num_convs_in_dense_blocks = [4, 4, 4, 4]\n",
    "blks = []\n",
    "\n",
    "for i, num_convs in enumerate(num_convs_in_dense_blocks):\n",
    "  blks.append(DenseBlock(num_convs, num_channels, growth_rate)) \n",
    "  # 上一个稠密块的输出通道数\n",
    "  num_channels += num_convs * growth_rate\n",
    "  # 在稠密块之间添加一个转换层，使通道数量减半\n",
    "  if i != len(num_convs_in_dense_blocks) - 1: \n",
    "    blks.append(transition_block(num_channels, num_channels // 2)) \n",
    "    num_channels = num_channels // 2"
   ]
  },
  {
   "cell_type": "code",
   "execution_count": 9,
   "metadata": {
    "id": "EKWlLX_7mlvu"
   },
   "outputs": [],
   "source": [
    "net = nn.Sequential(\n",
    "    b1, *blks,\n",
    "    nn.BatchNorm2d(num_channels), nn.ReLU(),\n",
    "    nn.AdaptiveAvgPool2d((1, 1)),\n",
    "    nn.Flatten(),\n",
    "    nn.Linear(num_channels, 10))"
   ]
  },
  {
   "cell_type": "code",
   "execution_count": 10,
   "metadata": {
    "colab": {
     "base_uri": "https://localhost:8080/"
    },
    "id": "3HzEUHyjm2wE",
    "outputId": "0ba0fa43-34da-4037-966a-9c6711d8cfd6"
   },
   "outputs": [
    {
     "name": "stdout",
     "output_type": "stream",
     "text": [
      "Sequential output shape:\t torch.Size([64, 64, 24, 24])\n",
      "DenseBlock output shape:\t torch.Size([64, 192, 24, 24])\n",
      "Sequential output shape:\t torch.Size([64, 96, 12, 12])\n",
      "DenseBlock output shape:\t torch.Size([64, 224, 12, 12])\n",
      "Sequential output shape:\t torch.Size([64, 112, 6, 6])\n",
      "DenseBlock output shape:\t torch.Size([64, 240, 6, 6])\n",
      "Sequential output shape:\t torch.Size([64, 120, 3, 3])\n",
      "DenseBlock output shape:\t torch.Size([64, 248, 3, 3])\n",
      "BatchNorm2d output shape:\t torch.Size([64, 248, 3, 3])\n",
      "ReLU output shape:\t torch.Size([64, 248, 3, 3])\n",
      "AdaptiveAvgPool2d output shape:\t torch.Size([64, 248, 1, 1])\n",
      "Flatten output shape:\t torch.Size([64, 248])\n",
      "Linear output shape:\t torch.Size([64, 10])\n"
     ]
    }
   ],
   "source": [
    "X = torch.randn(64, 1, 96, 96)\n",
    "for layer in net: \n",
    "    X = layer(X)\n",
    "    print(layer.__class__.__name__,'output shape:\\t', X.shape)"
   ]
  },
  {
   "cell_type": "markdown",
   "metadata": {
    "id": "JIx7XIzCpayw"
   },
   "source": [
    "## Train\n"
   ]
  },
  {
   "cell_type": "code",
   "execution_count": 11,
   "metadata": {
    "colab": {
     "base_uri": "https://localhost:8080/"
    },
    "id": "l3hkGiiapZT-",
    "outputId": "7c52716a-f6f5-44bd-dcd9-23271a43d321"
   },
   "outputs": [
    {
     "name": "stderr",
     "output_type": "stream",
     "text": [
      "/usr/local/lib/python3.7/dist-packages/torch/utils/data/dataloader.py:490: UserWarning: This DataLoader will create 4 worker processes in total. Our suggested max number of worker in current system is 2, which is smaller than what this DataLoader is going to create. Please be aware that excessive worker creation might get DataLoader running slow or even freeze, lower the worker number to avoid potential slowness/freeze if necessary.\n",
      "  cpuset_checked))\n"
     ]
    }
   ],
   "source": [
    "# 载入数据集\n",
    "batch_size = 256\n",
    "train_iter, test_iter = d2l.load_data_fashion_mnist(batch_size, resize=96)"
   ]
  },
  {
   "cell_type": "code",
   "execution_count": 12,
   "metadata": {
    "id": "1JUDcS7hnw4y"
   },
   "outputs": [],
   "source": [
    "# 3. 初始化weight\n",
    "\n",
    "def init_weights(m):\n",
    "  if type(m) in [nn.Linear, nn.Conv2d]:\n",
    "    nn.init.xavier_uniform_(m.weight)\n",
    "net.apply(init_weights)\n",
    "\n",
    "# 4. 定义loss\n",
    "\n",
    "l = nn.CrossEntropyLoss()\n",
    "\n",
    "# 5. 定义优化器\n",
    "\n",
    "o = torch.optim.SGD(net.parameters(), lr=0.05)"
   ]
  },
  {
   "cell_type": "code",
   "execution_count": 13,
   "metadata": {
    "id": "bn-ZWLd0pvdX"
   },
   "outputs": [],
   "source": [
    "# 6. Train\n",
    "def acc(X,y,net):\n",
    "  p_predict = net(X)\n",
    "  y_predict = torch.argmax(p_predict,axis=1)\n",
    "  output = y_predict - y\n",
    "  right_pre = len(output[output==0])\n",
    "  right_accu = right_pre/len(output)\n",
    "  return right_accu\n",
    "\n",
    "def eval_accu(net=None, dataset=None, cuda=False):\n",
    "  accu = 0\n",
    "  batch = 0\n",
    "  net.eval()\n",
    "\n",
    "  for X,y in dataset:\n",
    "    if cuda:\n",
    "      net.cuda()\n",
    "      X,y = X.cuda(),y.cuda()\n",
    "    accu += acc(X, y, net)\n",
    "    batch += 1\n",
    "  avg_acc = accu/batch\n",
    "  return avg_acc\n",
    "\n",
    "def train_net(net=None, epochs=10, loss = None, optimizer=None, \n",
    "              train_iter=None, test_iter=None, cuda=False):\n",
    "  train_accu_history = []\n",
    "  test_accu_history = []\n",
    "  train_loss = []\n",
    "\n",
    "  for epoch in range(epochs):\n",
    "\n",
    "    net.train()\n",
    "    for X,y in train_iter:\n",
    "      if cuda:\n",
    "        net.cuda()\n",
    "        X,y = X.cuda(),y.cuda()\n",
    "      l = loss(net(X), y)\n",
    "      optimizer.zero_grad()\n",
    "      l.backward()\n",
    "      optimizer.step()\n",
    "\n",
    "    net.eval() \n",
    "    l = loss(net(X), y)\n",
    "    train_loss.append(l.cpu().detach())\n",
    "    \n",
    "\n",
    "    train_avg_acc = eval_accu(net, train_iter, cuda)\n",
    "    test_avg_acc = eval_accu(net, test_iter, cuda)\n",
    "    train_accu_history.append(train_avg_acc)\n",
    "    test_accu_history.append(test_avg_acc)\n",
    "\n",
    "    print(f'epoch {epoch + 1}, loss {l:f}, train_accu {train_avg_acc:f}, test_accu {test_avg_acc:f}')\n",
    "  \n",
    "  x_label_value = [str(i) for i in range(1,epochs+1)]\n",
    "  plt.plot(x_label_value, train_accu_history, label='train_accu', color='g', linestyle='dashed')\n",
    "  plt.plot(x_label_value, test_accu_history, label='test_accu', color='r', linestyle='dashed')\n",
    "  plt.plot(x_label_value, train_loss, label='train_loss', color='b')\n",
    "  plt.xlabel('epoch')\n",
    "  plt.ylim(0.1,2)\n",
    "  plt.legend()\n",
    "  plt.show()"
   ]
  },
  {
   "cell_type": "code",
   "execution_count": 14,
   "metadata": {
    "colab": {
     "base_uri": "https://localhost:8080/",
     "height": 553
    },
    "id": "DG5vDD2FqDjG",
    "outputId": "eecbc497-5586-4a25-ca02-708194185e48"
   },
   "outputs": [
    {
     "name": "stderr",
     "output_type": "stream",
     "text": [
      "/usr/local/lib/python3.7/dist-packages/torch/utils/data/dataloader.py:490: UserWarning: This DataLoader will create 4 worker processes in total. Our suggested max number of worker in current system is 2, which is smaller than what this DataLoader is going to create. Please be aware that excessive worker creation might get DataLoader running slow or even freeze, lower the worker number to avoid potential slowness/freeze if necessary.\n",
      "  cpuset_checked))\n"
     ]
    },
    {
     "name": "stdout",
     "output_type": "stream",
     "text": [
      "epoch 1, loss 0.263736, train_accu 0.836630, test_accu 0.836824\n",
      "epoch 2, loss 0.214977, train_accu 0.870313, test_accu 0.870340\n",
      "epoch 3, loss 0.315730, train_accu 0.801313, test_accu 0.801313\n",
      "epoch 4, loss 0.479373, train_accu 0.816284, test_accu 0.816201\n",
      "epoch 5, loss 0.209065, train_accu 0.881643, test_accu 0.881588\n",
      "epoch 6, loss 0.127758, train_accu 0.897778, test_accu 0.897557\n",
      "epoch 7, loss 0.164139, train_accu 0.908461, test_accu 0.908322\n",
      "epoch 8, loss 0.064365, train_accu 0.931715, test_accu 0.931937\n",
      "epoch 9, loss 0.187993, train_accu 0.881571, test_accu 0.881461\n",
      "epoch 10, loss 0.131744, train_accu 0.889367, test_accu 0.889617\n"
     ]
    },
    {
     "data": {
      "image/png": "[encoded data removed]",
      "text/plain": [
       "<Figure size 432x288 with 1 Axes>"
      ]
     },
     "metadata": {
      "needs_background": "light"
     },
     "output_type": "display_data"
    },
    {
     "name": "stdout",
     "output_type": "stream",
     "text": [
      "CPU times: user 7min 12s, sys: 22.6 s, total: 7min 35s\n",
      "Wall time: 10min 1s\n"
     ]
    }
   ],
   "source": [
    "%%time\n",
    "train_net(net=net, epochs=10, loss = l, optimizer=o, \n",
    "          train_iter=train_iter, test_iter=train_iter, cuda=True)"
   ]
  }
 ],
 "metadata": {
  "accelerator": "GPU",
  "colab": {
   "collapsed_sections": [],
   "name": "Net.ipynb",
   "provenance": []
  },
  "kernelspec": {
   "display_name": "Python 3 (ipykernel)",
   "language": "python",
   "name": "python3"
  },
  "language_info": {
   "codemirror_mode": {
    "name": "ipython",
    "version": 3
   },
   "file_extension": ".py",
   "mimetype": "text/x-python",
   "name": "python",
   "nbconvert_exporter": "python",
   "pygments_lexer": "ipython3",
   "version": "3.7.6"
  }
 },
 "nbformat": 4,
 "nbformat_minor": 1
}
