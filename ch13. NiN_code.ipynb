{
 "cells": [
  {
   "cell_type": "markdown",
   "metadata": {
    "id": "KSwUDsfsZxXB"
   },
   "source": [
    "# NiN\n",
    "\n",
    "ps：\n",
    "\n",
    "pip install d2l\n",
    "\n",
    "pip install matplotlib==3.0.0\n",
    "\n",
    "回想一下，卷积层的输入和输出由四维张量组成，张量的每个轴分别对应样本、通道、高度和宽度。另外， 全连接层的输入和输出通常是分别对应于样本和特征的二维张量。NiN的想法是在每个像素位置(针对每个 高度和宽度)应用一个全连接层。如果我们将权重连接到每个空间位置，我们可以将其视为1 × 1卷积层(如 6.4节中所述)，或作为在每个像素位置上独立作用的全连接层。从另一个⻆度看，即将空间维度中的每个像 素视为单个样本，将通道维度视为不同特征(feature)。\n",
    "\n",
    "![title](attachment/nin.png)\n",
    "\n",
    "图7.3.1说明了VGG和NiN及它们的块之间主要架构差异。NiN块以一个普通卷积层开始，后面是两个1 × 1的 卷积层。这两个1 × 1卷积层充当带有ReLU激活函数的逐像素全连接层。第一层的卷积窗口形状通常由用戶 设置。随后的卷积窗口形状固定为1 × 1。\n",
    "\n",
    "\n",
    "最初的NiN网络是在AlexNet后不久提出的，显然从中得到了一些启示。NiN使用窗口形状为11 × 11、5 × 5和3 × 3的卷积层，输出通道数量与AlexNet中的相同。每个NiN块后有一个最大汇聚层，汇聚窗口形状为3 × 3，步 幅为2。\n",
    "\n",
    "\n",
    "NiN和AlexNet之间的一个显著区别是NiN完全取消了全连接层。相反，NiN使用一个NiN块，其输出通道数等 于标签类别的数量。最后放一个全局平均汇聚层(global average pooling layer)，生成一个对数几率(logits)。 NiN设计的一个优点是，它显著减少了模型所需参数的数量。然而，在实践中，这种设计有时会增加训练模 型的时间。"
   ]
  },
  {
   "cell_type": "code",
   "execution_count": 1,
   "metadata": {
    "id": "puCueUPjZyE2"
   },
   "outputs": [],
   "source": [
    "import torch\n",
    "from torch import nn\n",
    "from d2l import torch as d2l\n",
    "import matplotlib.pyplot as plt"
   ]
  },
  {
   "cell_type": "markdown",
   "metadata": {
    "id": "m4PssPNj4nne"
   },
   "source": [
    "- NiN_block"
   ]
  },
  {
   "cell_type": "code",
   "execution_count": 2,
   "metadata": {
    "id": "Ph9nsFSF4NWa"
   },
   "outputs": [],
   "source": [
    "def nin_block(in_channels, out_channels, kernel_size, strides, padding): \n",
    "  return nn.Sequential(\n",
    "    nn.Conv2d(in_channels, out_channels, kernel_size, strides, padding),\n",
    "    nn.ReLU(),\n",
    "    nn.Conv2d(out_channels, out_channels, kernel_size=1), nn.ReLU(),\n",
    "    nn.Conv2d(out_channels, out_channels, kernel_size=1), nn.ReLU())"
   ]
  },
  {
   "cell_type": "markdown",
   "metadata": {
    "id": "p7w_rESx5JVa"
   },
   "source": [
    "1. 定义网络"
   ]
  },
  {
   "cell_type": "code",
   "execution_count": 3,
   "metadata": {
    "id": "X_DDylSL5I1o"
   },
   "outputs": [],
   "source": [
    "net = nn.Sequential(\n",
    "  nin_block(1, 96, kernel_size=11, strides=4, padding=0), \n",
    "  nn.MaxPool2d(3, stride=2),\n",
    "  nin_block(96, 256, kernel_size=5, strides=1, padding=2), \n",
    "  nn.MaxPool2d(3, stride=2),\n",
    "  nin_block(256, 384, kernel_size=3, strides=1, padding=1), \n",
    "  nn.MaxPool2d(3, stride=2),\n",
    "  nn.Dropout(0.5),\n",
    "  # 标签类别数是10\n",
    "  nin_block(384, 10, kernel_size=3, strides=1, padding=1), \n",
    "  nn.AdaptiveAvgPool2d((1, 1)),\n",
    "  # 将四维的输出转成二维的输出，其形状为(批量大小,10) \n",
    "  nn.Flatten())"
   ]
  },
  {
   "cell_type": "code",
   "execution_count": 4,
   "metadata": {
    "colab": {
     "base_uri": "https://localhost:8080/"
    },
    "id": "MXqb57J64v4x",
    "outputId": "9927552a-1f06-4535-d0ec-b392f9739e14"
   },
   "outputs": [
    {
     "name": "stdout",
     "output_type": "stream",
     "text": [
      "Sequential output shape:\t torch.Size([1, 96, 54, 54])\n",
      "MaxPool2d output shape:\t torch.Size([1, 96, 26, 26])\n",
      "Sequential output shape:\t torch.Size([1, 256, 26, 26])\n",
      "MaxPool2d output shape:\t torch.Size([1, 256, 12, 12])\n",
      "Sequential output shape:\t torch.Size([1, 384, 12, 12])\n",
      "MaxPool2d output shape:\t torch.Size([1, 384, 5, 5])\n",
      "Dropout output shape:\t torch.Size([1, 384, 5, 5])\n",
      "Sequential output shape:\t torch.Size([1, 10, 5, 5])\n",
      "AdaptiveAvgPool2d output shape:\t torch.Size([1, 10, 1, 1])\n",
      "Flatten output shape:\t torch.Size([1, 10])\n"
     ]
    }
   ],
   "source": [
    "X = torch.rand(size=(1, 1, 224, 224)) \n",
    "for layer in net:\n",
    "  X = layer(X)\n",
    "  print(layer.__class__.__name__,'output shape:\\t', X.shape)"
   ]
  },
  {
   "cell_type": "code",
   "execution_count": 5,
   "metadata": {
    "colab": {
     "base_uri": "https://localhost:8080/"
    },
    "id": "kBdd_qsA6CG3",
    "outputId": "655bde3e-5f00-4a90-835d-260232e4c106"
   },
   "outputs": [
    {
     "name": "stderr",
     "output_type": "stream",
     "text": [
      "/usr/local/lib/python3.7/dist-packages/torch/utils/data/dataloader.py:490: UserWarning: This DataLoader will create 4 worker processes in total. Our suggested max number of worker in current system is 2, which is smaller than what this DataLoader is going to create. Please be aware that excessive worker creation might get DataLoader running slow or even freeze, lower the worker number to avoid potential slowness/freeze if necessary.\n",
      "  cpuset_checked))\n"
     ]
    }
   ],
   "source": [
    "# 2. 载入数据集\n",
    "batch_size = 128\n",
    "train_iter, test_iter = d2l.load_data_fashion_mnist(batch_size, resize=224)\n",
    "\n",
    "# 3. 初始化weight\n",
    "\n",
    "def init_weights(m):\n",
    "  if type(m) in [nn.Linear, nn.Conv2d]:\n",
    "    nn.init.xavier_uniform_(m.weight)\n",
    "net.apply(init_weights)\n",
    "\n",
    "# 4. 定义loss\n",
    "\n",
    "l = nn.CrossEntropyLoss()\n",
    "\n",
    "# 5. 定义优化器\n",
    "\n",
    "o = torch.optim.SGD(net.parameters(), lr=0.05)"
   ]
  },
  {
   "cell_type": "markdown",
   "metadata": {
    "id": "6v1xPWas6VXx"
   },
   "source": [
    "6. Training and Prediction"
   ]
  },
  {
   "cell_type": "code",
   "execution_count": 6,
   "metadata": {
    "id": "SZxyskAV6IfE"
   },
   "outputs": [],
   "source": [
    "def acc(X,y,net):\n",
    "  p_predict = net(X)\n",
    "  y_predict = torch.argmax(p_predict,axis=1)\n",
    "  output = y_predict - y\n",
    "  right_pre = len(output[output==0])\n",
    "  right_accu = right_pre/len(output)\n",
    "  return right_accu\n",
    "\n",
    "def eval_accu(net=None, dataset=None, cuda=False):\n",
    "  \n",
    "  accu = 0\n",
    "  batch = 0\n",
    "  net.eval()\n",
    "\n",
    "  for X,y in dataset:\n",
    "    if cuda:\n",
    "      net.cuda()\n",
    "      X,y = X.cuda(),y.cuda()\n",
    "    accu += acc(X, y, net)\n",
    "    batch += 1\n",
    "  avg_acc = accu/batch\n",
    "\n",
    "  return avg_acc\n",
    "\n",
    "def train_net(net=None, epochs=10, loss = None, optimizer=None, \n",
    "              train_iter=None, test_iter=None, cuda=False):\n",
    "  train_accu_history = []\n",
    "  test_accu_history = []\n",
    "  train_loss = []\n",
    "\n",
    "  for epoch in range(epochs):\n",
    "\n",
    "    net.train()\n",
    "    for X,y in train_iter:\n",
    "      if cuda:\n",
    "        net.cuda()\n",
    "        X,y = X.cuda(),y.cuda()\n",
    "      l = loss(net(X), y)\n",
    "      optimizer.zero_grad()\n",
    "      l.backward()\n",
    "      optimizer.step()\n",
    "\n",
    "    net.eval() \n",
    "    l = loss(net(X), y)\n",
    "    train_loss.append(l.cpu().detach())\n",
    "    \n",
    "\n",
    "    train_avg_acc = eval_accu(net, train_iter, cuda)\n",
    "    test_avg_acc = eval_accu(net, test_iter, cuda)\n",
    "    train_accu_history.append(train_avg_acc)\n",
    "    test_accu_history.append(test_avg_acc)\n",
    "\n",
    "    print(f'epoch {epoch + 1}, loss {l:f}, train_accu {train_avg_acc:f}, test_accu {test_avg_acc:f}')\n",
    "  \n",
    "  x_label_value = [str(i) for i in range(1,epochs+1)]\n",
    "  plt.plot(x_label_value, train_accu_history, label='train_accu', color='g', linestyle='dashed')\n",
    "  plt.plot(x_label_value, test_accu_history, label='test_accu', color='r', linestyle='dashed')\n",
    "  plt.plot(x_label_value, train_loss, label='train_loss', color='b')\n",
    "  plt.xlabel('epoch')\n",
    "  plt.ylim(0.1,2)\n",
    "  plt.legend()\n",
    "  plt.show()"
   ]
  },
  {
   "cell_type": "code",
   "execution_count": 7,
   "metadata": {
    "colab": {
     "base_uri": "https://localhost:8080/",
     "height": 553
    },
    "id": "RfT-IsDd6YAd",
    "outputId": "2658f071-3dd1-447d-e63d-e5cb103e6785"
   },
   "outputs": [
    {
     "metadata": {
      "tags": null
     },
     "name": "stderr",
     "output_type": "stream",
     "text": [
      "/usr/local/lib/python3.7/dist-packages/torch/utils/data/dataloader.py:490: UserWarning: This DataLoader will create 4 worker processes in total. Our suggested max number of worker in current system is 2, which is smaller than what this DataLoader is going to create. Please be aware that excessive worker creation might get DataLoader running slow or even freeze, lower the worker number to avoid potential slowness/freeze if necessary.\n",
      "  cpuset_checked))\n"
     ]
    },
    {
     "name": "stdout",
     "output_type": "stream",
     "text": [
      "epoch 1, loss 2.253298, train_accu 0.182958, test_accu 0.182936\n",
      "epoch 2, loss 1.192538, train_accu 0.477840, test_accu 0.477834\n",
      "epoch 3, loss 0.790754, train_accu 0.726929, test_accu 0.726968\n",
      "epoch 4, loss 0.638407, train_accu 0.790695, test_accu 0.790689\n",
      "epoch 5, loss 0.391801, train_accu 0.804649, test_accu 0.804621\n",
      "epoch 6, loss 0.275933, train_accu 0.833300, test_accu 0.833306\n",
      "epoch 7, loss 0.351656, train_accu 0.857459, test_accu 0.857432\n",
      "epoch 8, loss 0.337220, train_accu 0.858426, test_accu 0.858420\n",
      "epoch 9, loss 0.344777, train_accu 0.871630, test_accu 0.871652\n",
      "epoch 10, loss 0.247570, train_accu 0.871146, test_accu 0.871163\n"
     ]
    },
    {
     "data": {
      "image/png": "[encoded data removed]",
      "text/plain": [
       "<Figure size 432x288 with 1 Axes>"
      ]
     },
     "metadata": {
      "needs_background": "light"
     },
     "output_type": "display_data"
    },
    {
     "name": "stdout",
     "output_type": "stream",
     "text": [
      "CPU times: user 38min 53s, sys: 1min 49s, total: 40min 42s\n",
      "Wall time: 45min 39s\n"
     ]
    }
   ],
   "source": [
    "%%time\n",
    "train_net(net=net, epochs=10, loss = l, optimizer=o, \n",
    "          train_iter=train_iter, test_iter=train_iter, cuda=True)"
   ]
  }
 ],
 "metadata": {
  "accelerator": "GPU",
  "colab": {
   "collapsed_sections": [],
   "history_visible": true,
   "name": "Net.ipynb",
   "provenance": []
  },
  "kernelspec": {
   "display_name": "Python 3 (ipykernel)",
   "language": "python",
   "name": "python3"
  },
  "language_info": {
   "codemirror_mode": {
    "name": "ipython",
    "version": 3
   },
   "file_extension": ".py",
   "mimetype": "text/x-python",
   "name": "python",
   "nbconvert_exporter": "python",
   "pygments_lexer": "ipython3",
   "version": "3.7.6"
  }
 },
 "nbformat": 4,
 "nbformat_minor": 1
}
