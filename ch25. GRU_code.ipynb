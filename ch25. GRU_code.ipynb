{
 "cells": [
  {
   "cell_type": "markdown",
   "metadata": {
    "id": "KSwUDsfsZxXB"
   },
   "source": [
    "# GRU⻔控循环单元\n",
    "\n",
    "我们可能会遇到这样的情况:\n",
    "\n",
    "早期观测值对预测所有未来观测值具有非常重要的意义。\n",
    "\n",
    "考虑一个极端 情况，其中第一个观测值包含一个校验和，目标是在序列的末尾辨别校验和是否正确。\n",
    "\n",
    "在这种情况下， 第一个词元的影响至关重要。我们希望有某些机制能够在一个记忆元里存储重要的早期信息。如果没 有这样的机制，我们将不得不给这个观测值指定一个非常大的梯度，因为它会影响所有后续的观测值。\n",
    "\n",
    "• 我们可能会遇到这样的情况:一些词元没有相关的观测值。例如，在对网⻚内容进行情感分析时，可能 有一些辅助HTML代码与网⻚传达的情绪无关。我们希望有一些机制来跳过隐状态表示中的此类词元。\n",
    "\n",
    "\n",
    "• 我们可能会遇到这样的情况:序列的各个部分之间存在逻辑中断。例如，书的章节之间可能会有过渡存 在，或者证券的熊市和牛市之间可能会有过渡存在。在这种情况下，最好有一种方法来重置我们的内部 状态表示。\n",
    "\n",
    "## 门\n",
    "\n",
    "- 更新门(update gate)\n",
    "\n",
    "能关注的机制\n",
    "\n",
    "\n",
    "- 遗忘门(reset gate)\n",
    "\n",
    "能遗忘的机制\n",
    "\n",
    "![title](attachment/gru.png)\n",
    "\n",
    "$$\n",
    "R_t = \\sigma(X_tW_{xr} + H_{t-1}W_{hr} + b_r)\\\\\n",
    "Z_t = \\sigma(X_tW_{xz} + H_{t-1}W_{hz} + b_z)\n",
    "$$\n",
    "\n",
    "- 候选隐状态\n",
    "![title](attachment/gru2.png)\n",
    "$$\n",
    "\\widetilde H_t = tanh(X_tW_{xr} + (R_t\\odot H_{t-1})W_{hr} + b_r)\n",
    "$$\n",
    "\n",
    "- 隐状态\n",
    "\n",
    "$$\n",
    "H_t = Z_t\\odot H_{t-1} + (1-Z_t)\\odot {\\widetilde H}_{t}\n",
    "$$\n",
    "\n",
    "ps：\n",
    "\n",
    "pip install d2l\n",
    "\n",
    "pip install matplotlib==3.0.0"
   ]
  },
  {
   "cell_type": "code",
   "execution_count": 1,
   "metadata": {
    "id": "puCueUPjZyE2"
   },
   "outputs": [],
   "source": [
    "import os\n",
    "import torch\n",
    "import torchvision\n",
    "from torch import nn\n",
    "import torch.nn.functional as F\n",
    "from d2l import torch as d2l\n",
    "import matplotlib.pyplot as plt\n",
    "import collections\n",
    "import re\n",
    "import numpy as np"
   ]
  },
  {
   "cell_type": "markdown",
   "metadata": {
    "id": "CvSo8_ghuRr6"
   },
   "source": [
    "## Artifical GRU\n"
   ]
  },
  {
   "cell_type": "code",
   "execution_count": 2,
   "metadata": {
    "id": "9W6DqnEhGbWD"
   },
   "outputs": [],
   "source": [
    "def get_params(vocab_size, num_hiddens, device):\n",
    "  def three():\n",
    "    return (\n",
    "        torch.randn((vocab_size, num_hiddens), device=device)*0.001,\n",
    "        torch.randn((num_hiddens, num_hiddens), device=device)*0.001,\n",
    "        torch.zeros(num_hiddens, device=device)\n",
    "    )\n",
    "\n",
    "  W_xz, W_hz, b_z = three() # update\n",
    "  W_xr, W_hr, b_r = three() # reset\n",
    "  W_xh, W_hh, b_h = three() # 候选隐状态\n",
    "\n",
    "  # output w，b\n",
    "  W_hq = torch.randn((num_hiddens, vocab_size), device=device)*0.001\n",
    "  b_q = torch.zeros(vocab_size, device=device)\n",
    "\n",
    "  params = [W_xz, W_hz, b_z, W_xr, W_hr, b_r, W_xh, W_hh, b_h, W_hq, b_q]\n",
    "  \n",
    "  for i in params:\n",
    "    i.requires_grad_(True)\n",
    "\n",
    "  return params\n",
    "  "
   ]
  },
  {
   "cell_type": "code",
   "execution_count": 3,
   "metadata": {
    "id": "jCP6kiANKBS1"
   },
   "outputs": [],
   "source": [
    "def init_gru_state(batch_size, num_hiddens, device):\n",
    "  return (torch.zeros((batch_size, num_hiddens), device=device), )"
   ]
  },
  {
   "cell_type": "code",
   "execution_count": 4,
   "metadata": {
    "id": "Ku3vgsZNLIQf"
   },
   "outputs": [],
   "source": [
    "def gru(inputs, state, params):\n",
    "  W_xz, W_hz, b_z, W_xr, W_hr, b_r, W_xh, W_hh, b_h, W_hq, b_q = params\n",
    "  H, = state\n",
    "  outputs = []\n",
    "\n",
    "  for X in inputs:\n",
    "    Z = torch.sigmoid(X@W_xz + H@W_hz + b_z)\n",
    "    R = torch.sigmoid(X@W_xr + H@W_hr + b_r)\n",
    "    H_hidden_state = torch.tanh(X@W_xh + (R*H)@W_hh + b_h)\n",
    "    H = Z*H + (1-Z)*H_hidden_state\n",
    "    Y = H@W_hq + b_q\n",
    "    outputs.append(Y)\n",
    "  return torch.cat(outputs, dim=0), (H,)"
   ]
  },
  {
   "cell_type": "markdown",
   "metadata": {
    "id": "1Vgcf2TxN8uJ"
   },
   "source": [
    "## Train"
   ]
  },
  {
   "cell_type": "code",
   "execution_count": 5,
   "metadata": {
    "id": "iiizsgk5Nwj2"
   },
   "outputs": [],
   "source": [
    "# 1.load_dataset\n",
    "batch_size, num_steps = 32, 35\n",
    "train_iter, vocab = d2l.load_data_time_machine(batch_size, num_steps)"
   ]
  },
  {
   "cell_type": "code",
   "execution_count": 6,
   "metadata": {
    "id": "37w89CL6OAc1"
   },
   "outputs": [],
   "source": [
    "# 2. Structure RNN\n",
    "num_hiddens = 256\n",
    "state = torch.zeros(batch_size, num_hiddens)\n",
    "\n",
    "\n",
    "class RNNModel:\n",
    "  '''循环神经网络'''\n",
    "  def __init__(self, forward_fn, init_state, batch_size, \n",
    "               vocab_size, num_hidden, params, \n",
    "               device=torch.device('cuda')):\n",
    "    self.device = device\n",
    "    self.vocab_size = vocab_size\n",
    "    self.forward_fn = forward_fn\n",
    "    self.params = get_params(vocab_size, num_hiddens, device)\n",
    "    self.init_state = init_state\n",
    "    self.batch_size = batch_size\n",
    "    self.num_hidden = num_hidden\n",
    "\n",
    "  def __call__(self, X, state):\n",
    "    X = F.one_hot(X.T.long(), self.vocab_size).type(torch.float32)\n",
    "    return self.forward_fn(X, state, self.params)\n",
    "\n",
    "  def begin_state(self, batch_size):\n",
    "    return self.init_state(batch_size, self.num_hidden, self.device)\n",
    "\n",
    "net = RNNModel(forward_fn=gru, init_state=init_gru_state, \n",
    "               batch_size=batch_size, num_hidden=256, \n",
    "               params=get_params, vocab_size=len(vocab))"
   ]
  },
  {
   "cell_type": "code",
   "execution_count": 7,
   "metadata": {
    "colab": {
     "base_uri": "https://localhost:8080/"
    },
    "id": "r3liYAPdR9Gv",
    "outputId": "fa68de15-baf9-4423-b4c0-feabef00fe58"
   },
   "outputs": [
    {
     "data": {
      "text/plain": [
       "(torch.Size([1120, 28]), torch.Size([32, 256]))"
      ]
     },
     "execution_count": 7,
     "metadata": {},
     "output_type": "execute_result"
    }
   ],
   "source": [
    "state = net.begin_state(batch_size)\n",
    "X = torch.rand(32,35).cuda()\n",
    "y, state = net(X, state)\n",
    "y.shape, state[0].shape"
   ]
  },
  {
   "cell_type": "code",
   "execution_count": 8,
   "metadata": {
    "id": "2gD1O9sAOKlT"
   },
   "outputs": [],
   "source": [
    "# 3. loss\n",
    "loss = nn.CrossEntropyLoss()\n",
    "\n",
    "# 4. optimizer\n",
    "opt = torch.optim.SGD(net.params, lr=1)"
   ]
  },
  {
   "cell_type": "code",
   "execution_count": 9,
   "metadata": {
    "colab": {
     "base_uri": "https://localhost:8080/"
    },
    "id": "uvxC-s0mOYNX",
    "outputId": "81cb2333-adf4-4c82-ed53-1d7e3eb272a3"
   },
   "outputs": [
    {
     "name": "stdout",
     "output_type": "stream",
     "text": [
      "epoch: 50, perplexity:12.703597\n",
      "epoch: 100, perplexity:10.017522\n",
      "epoch: 150, perplexity:8.504002\n",
      "epoch: 200, perplexity:7.453061\n",
      "epoch: 250, perplexity:6.491690\n",
      "epoch: 300, perplexity:5.408006\n",
      "epoch: 350, perplexity:4.255309\n",
      "epoch: 400, perplexity:3.193586\n",
      "epoch: 450, perplexity:2.301708\n",
      "epoch: 500, perplexity:1.828007\n",
      "CPU times: user 2min 9s, sys: 433 ms, total: 2min 10s\n",
      "Wall time: 2min 15s\n"
     ]
    }
   ],
   "source": [
    "# 5. Train\n",
    "%%time\n",
    "def predict(prefix, num_preds, net, vocab, state, device=torch.device('cuda')):\n",
    "  def get_word_order_tensor(word, vocab, device):\n",
    "    return torch.LongTensor([vocab[word]]).reshape(1,1).to(device)\n",
    "\n",
    "  state = net.begin_state(device)\n",
    "  output = []\n",
    "\n",
    "  net.to(device)\n",
    "  for y in prefix:\n",
    "    word_num = get_word_order_tensor(y, vocab, device)\n",
    "    _, state = net(word_num, state)\n",
    "    output.append(word_num)\n",
    "\n",
    "  for p in range(num_preds):\n",
    "    y, state = net(get_word_order_tensor(output[-1], vocab, device), state)\n",
    "    output.append(torch.argmax(y, axis=1))\n",
    "  \n",
    "  return ''.join([vocab.idx_to_token[i] for i in output])\n",
    "\n",
    "def grad_clipping(net, theta):\n",
    "  if isinstance(net, nn.Module):\n",
    "    params = [p for p in net.parameters() if p.requires_grad]\n",
    "  else:\n",
    "    params = net.params\n",
    "  norm = torch.sqrt(sum(torch.sum((p.grad ** 2)) for p in params))\n",
    "  if norm > theta:\n",
    "    for param in params:\n",
    "      param.grad[:] *= theta / norm\n",
    "\n",
    "state = None\n",
    "epochs = 500\n",
    "perplexity = []\n",
    "for epoch in range(epochs):\n",
    "  epoch_loss = []\n",
    "  for X, Y in train_iter:\n",
    "    y = Y.T.reshape(-1)\n",
    "    X, y = X.cuda(), y.cuda()\n",
    "    state = net.begin_state(batch_size=X.shape[0])\n",
    "    y_hat, state = net(X, state)\n",
    "    # state 是叶子节点，不可以直接设置grad\n",
    "    state = (state[0].detach(),)\n",
    "    l = loss(y_hat, y.long()).mean()\n",
    "    epoch_loss.append(l.item())\n",
    "    \n",
    "    opt.zero_grad()\n",
    "    l.backward()\n",
    "    grad_clipping(net,1)\n",
    "    opt.step()\n",
    "  \n",
    "  epoch_perplexity = np.exp(np.mean(epoch_loss))\n",
    "  if (epoch+1)%50==0:\n",
    "    print(f'epoch: {epoch+1}, perplexity:{epoch_perplexity:f}')\n",
    "  perplexity.append(epoch_perplexity)"
   ]
  },
  {
   "cell_type": "code",
   "execution_count": 10,
   "metadata": {
    "colab": {
     "base_uri": "https://localhost:8080/",
     "height": 283
    },
    "id": "UTqk7NICUKwF",
    "outputId": "9f1779a8-9d93-43f7-fd2d-6901d5dad821"
   },
   "outputs": [
    {
     "data": {
      "image/png": "[encoded data removed]",
      "text/plain": [
       "<Figure size 432x288 with 1 Axes>"
      ]
     },
     "metadata": {
      "needs_background": "light"
     },
     "output_type": "display_data"
    }
   ],
   "source": [
    "plt.plot(perplexity, label='train', color='b', linestyle='solid')\n",
    "plt.xlabel('epoch')\n",
    "plt.ylabel('perplexity')\n",
    "plt.legend()\n",
    "plt.show()"
   ]
  },
  {
   "cell_type": "code",
   "execution_count": 11,
   "metadata": {
    "id": "D-N3NRzpZf41"
   },
   "outputs": [],
   "source": [
    "def predict_ch8(prefix, num_preds, net, vocab, device): \n",
    "  \"\"\"在prefix后面生成新字符\"\"\"\n",
    "  state = net.begin_state(batch_size=1) \n",
    "  outputs = [vocab[prefix[0]]]\n",
    "  get_input = lambda: torch.tensor([outputs[-1]], device=device).reshape((1, 1)) \n",
    "  for y in prefix[1:]: # 预热期\n",
    "    _, state = net(get_input(), state)\n",
    "    outputs.append(vocab[y])\n",
    "  for _ in range(num_preds): # 预测num_preds步\n",
    "    y, state = net(get_input(), state)\n",
    "    outputs.append(int(y.argmax(dim=1).reshape(1))) \n",
    "  return ''.join([vocab.idx_to_token[i] for i in outputs])"
   ]
  },
  {
   "cell_type": "code",
   "execution_count": 12,
   "metadata": {
    "colab": {
     "base_uri": "https://localhost:8080/",
     "height": 35
    },
    "id": "ceyoWpKiZpOH",
    "outputId": "a8eef635-24c5-4efa-a48d-f4a46ea2f75d"
   },
   "outputs": [
    {
     "data": {
      "application/vnd.google.colaboratory.intrinsic+json": {
       "type": "string"
      },
      "text/plain": [
       "'time traveller to be abou'"
      ]
     },
     "execution_count": 12,
     "metadata": {},
     "output_type": "execute_result"
    }
   ],
   "source": [
    "predict_ch8('time traveller ', 10, net, vocab, d2l.try_gpu())"
   ]
  },
  {
   "cell_type": "markdown",
   "metadata": {
    "id": "Wto-oXMLawhS"
   },
   "source": [
    "## Torch code"
   ]
  },
  {
   "cell_type": "code",
   "execution_count": 13,
   "metadata": {
    "id": "P6gocA7da7HB"
   },
   "outputs": [],
   "source": [
    "class RNNModel(nn.Module):\n",
    "  '''循环神经网络'''\n",
    "  def __init__(self, rnn_layer, vocab_size, **kwargs):\n",
    "    super().__init__(**kwargs)\n",
    "    self.rnn = rnn_layer\n",
    "    self.vocab_size = vocab_size\n",
    "    self.num_hiddens = self.rnn.hidden_size\n",
    "    # 如果RNN是双向的(之后将介绍)，num_directions应该是2，否则应该是1\n",
    "    if not self.rnn.bidirectional:\n",
    "      self.num_directions = 1\n",
    "      self.linear = nn.Linear(self.num_hiddens, self.vocab_size) \n",
    "    else:\n",
    "      self.num_directions = 2\n",
    "      self.linear = nn.Linear(self.num_hiddens * 2, self.vocab_size)\n",
    "  \n",
    "  def forward(self, inputs, state):\n",
    "    X = F.one_hot(inputs.T.long(), self.vocab_size)\n",
    "    X = X.to(torch.float32)\n",
    "    Y, state = self.rnn(X, state)\n",
    "    # 全连接层首先将Y的形状改为(时间步数*批量大小,隐藏单元数) \n",
    "    # 它的输出形状是(时间步数*批量大小,词表大小)。\n",
    "    output = self.linear(Y.reshape((-1, Y.shape[-1]))) \n",
    "    return output, state\n",
    "\n",
    "  def begin_state(self, device, batch_size=1): \n",
    "    if not isinstance(self.rnn, nn.LSTM):\n",
    "      # nn.GRU以张量作为隐状态\n",
    "      return torch.zeros((self.num_directions * self.rnn.num_layers,\n",
    "                             batch_size, self.num_hiddens),\n",
    "                            device=device)\n",
    "    else:\n",
    "    # nn.LSTM以元组作为隐状态 \n",
    "      return (torch.zeros((self.num_directions * self.rnn.num_layers,\n",
    "                batch_size, self.num_hiddens), device=device),\n",
    "                    torch.zeros((\n",
    "                        self.num_directions * self.rnn.num_layers,\n",
    "                    batch_size, self.num_hiddens), device=device))\n"
   ]
  },
  {
   "cell_type": "code",
   "execution_count": 14,
   "metadata": {
    "id": "RfEbl3Vjaxj1"
   },
   "outputs": [],
   "source": [
    "def predict(prefix, num_preds, net, vocab, device=torch.device('cuda')):\n",
    "  def get_word_order_tensor(sign, device):\n",
    "    return torch.LongTensor([sign]).reshape(1,1).to(device)\n",
    "\n",
    "  state = net.begin_state(batch_size=1, device=device)\n",
    "  output = []\n",
    "\n",
    "  net.to(device)\n",
    "  for y in prefix[:-1]:\n",
    "    word_num = get_word_order_tensor(vocab[y], device)\n",
    "    _, state = net(word_num, state)\n",
    "    output.append(int(word_num))\n",
    "  word_num = get_word_order_tensor(vocab[prefix[-1]], device)\n",
    "  output.append(word_num)\n",
    "\n",
    "  for _ in range(num_preds):\n",
    "    word_num = get_word_order_tensor(output[-1], device)\n",
    "    y, state = net(word_num, state)\n",
    "    output.append(int(torch.argmax(y, axis=1).reshape(1)))\n",
    "  return ''.join([vocab.idx_to_token[i] for i in output])\n",
    "\n",
    "def train_rnn(net, epochs, train_iter, loss, optim, \n",
    "              state=None, grad_clip_theta=1, device=torch.device('cuda')):\n",
    "  # 梯度裁剪\n",
    "  def grad_clipping(net, theta=grad_clip_theta):\n",
    "    if isinstance(net, nn.Module):\n",
    "      params = [p for p in net.parameters() if p.requires_grad]\n",
    "    else:\n",
    "      params = net.params\n",
    "    norm = torch.sqrt(sum(torch.sum((p.grad ** 2)) for p in params))\n",
    "    if norm > theta:\n",
    "      for param in params:\n",
    "        param.grad[:] *= theta / norm\n",
    "\n",
    "  loss = loss\n",
    "  opt = optim\n",
    "  state = state\n",
    "  epochs = epochs\n",
    "  perplexity = []\n",
    "\n",
    "  net.to(device=device)\n",
    "  for epoch in range(epochs):\n",
    "    epoch_loss = []\n",
    "    for X, Y in train_iter:\n",
    "      y = Y.T.reshape(-1)\n",
    "      X, y = X.to(device), y.to(device)\n",
    "      state = net.begin_state(batch_size=X.shape[0], device=device)\n",
    "      y_hat, state = net(X, state)\n",
    "      # state 是叶子节点，不可以直接设置grad\n",
    "      state = (state[0].detach(),)\n",
    "      l = loss(y_hat, y.long()).mean()\n",
    "      epoch_loss.append(l.item())\n",
    "      \n",
    "      opt.zero_grad()\n",
    "      l.backward()\n",
    "      grad_clipping(net)\n",
    "      opt.step()\n",
    "    epoch_perplexity = np.exp(np.mean(epoch_loss))\n",
    "    if (epoch+1)%50==0:\n",
    "      print(f'epoch: {epoch+1}, perplexity:{epoch_perplexity:f}')\n",
    "    perplexity.append(epoch_perplexity)\n",
    "\n",
    "  plt.plot(perplexity, label='train', color='b', linestyle='solid')\n",
    "  plt.xlabel('epoch')\n",
    "  plt.ylabel('perplexity')\n",
    "  plt.legend()\n",
    "  plt.show()"
   ]
  },
  {
   "cell_type": "code",
   "execution_count": 15,
   "metadata": {
    "id": "uHS8cfRKbEAi"
   },
   "outputs": [],
   "source": [
    "num_inputs = len(vocab)\n",
    "gru_layer = nn.GRU(num_inputs, num_hiddens)\n",
    "model = RNNModel(gru_layer, len(vocab))"
   ]
  },
  {
   "cell_type": "code",
   "execution_count": 16,
   "metadata": {
    "colab": {
     "base_uri": "https://localhost:8080/",
     "height": 497
    },
    "id": "BtbrTDCcbEoj",
    "outputId": "8b5f6600-134c-43bb-a9ac-b49d8a196ab1"
   },
   "outputs": [
    {
     "name": "stdout",
     "output_type": "stream",
     "text": [
      "epoch: 50, perplexity:9.570560\n",
      "epoch: 100, perplexity:7.858408\n",
      "epoch: 150, perplexity:6.345326\n",
      "epoch: 200, perplexity:4.518107\n",
      "epoch: 250, perplexity:2.697252\n",
      "epoch: 300, perplexity:1.745538\n",
      "epoch: 350, perplexity:1.412773\n",
      "epoch: 400, perplexity:1.429291\n",
      "epoch: 450, perplexity:1.419175\n",
      "epoch: 500, perplexity:1.360161\n"
     ]
    },
    {
     "data": {
      "image/png": "[encoded data removed]",
      "text/plain": [
       "<Figure size 432x288 with 1 Axes>"
      ]
     },
     "metadata": {
      "needs_background": "light"
     },
     "output_type": "display_data"
    },
    {
     "name": "stdout",
     "output_type": "stream",
     "text": [
      "CPU times: user 11.5 s, sys: 382 ms, total: 11.9 s\n",
      "Wall time: 11.7 s\n"
     ]
    }
   ],
   "source": [
    "%%time\n",
    "loss = nn.CrossEntropyLoss()\n",
    "opt = torch.optim.SGD(model.parameters(), lr=1)\n",
    "train_rnn(model, epochs=500, train_iter=train_iter, loss=loss, optim=opt)"
   ]
  },
  {
   "cell_type": "code",
   "execution_count": 18,
   "metadata": {
    "colab": {
     "base_uri": "https://localhost:8080/"
    },
    "id": "mSU7Z-M3ecZL",
    "outputId": "d2d67cd1-bcde-4bb0-c0eb-fa0286ff581e"
   },
   "outputs": [
    {
     "name": "stdout",
     "output_type": "stream",
     "text": [
      "time machine by h g wellsithe tim\n"
     ]
    }
   ],
   "source": [
    "print(predict('time machine ', 20, model, vocab))"
   ]
  }
 ],
 "metadata": {
  "accelerator": "GPU",
  "colab": {
   "collapsed_sections": [],
   "name": "Net.ipynb",
   "provenance": []
  },
  "kernelspec": {
   "display_name": "Python 3 (ipykernel)",
   "language": "python",
   "name": "python3"
  },
  "language_info": {
   "codemirror_mode": {
    "name": "ipython",
    "version": 3
   },
   "file_extension": ".py",
   "mimetype": "text/x-python",
   "name": "python",
   "nbconvert_exporter": "python",
   "pygments_lexer": "ipython3",
   "version": "3.7.6"
  }
 },
 "nbformat": 4,
 "nbformat_minor": 1
}
