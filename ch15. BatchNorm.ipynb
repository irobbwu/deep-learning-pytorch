{
 "cells": [
  {
   "cell_type": "markdown",
   "metadata": {
    "id": "KSwUDsfsZxXB"
   },
   "source": [
    "# BatchNorm\n",
    "\n",
    "ps：\n",
    "\n",
    "pip install d2l\n",
    "\n",
    "pip install matplotlib==3.0.0\n",
    "\n",
    "\n",
    "训练深层神经网络是十分困难的，特别是在较短的时间内使他们收敛更加棘手。在本节中，我们将介绍批量 规范化(batch normalization)[Ioffe & Szegedy, 2015]，这是一种流行且有效的技术，可持续加速深层网络 的收敛速度。\n",
    "\n",
    "首先，数据预处理的方式通常会对最终结果产生巨大影响。回想一下我们应用多层感知机来预测房价的例子 (4.10节)。使用真实数据时，我们的第一步是标准化输入特征，使其平均值为0，方差为1。直观地说，这种标准化可以很好地与我们的优化器配合使用，因为它可以将参数的量级进行统一。\n",
    "\n",
    "第二，对于典型的多层感知机或卷积神经网络。当我们训练时，中间层中的变量(例如，多层感知机中的仿射变换输出)可能具有更广的变化范围:不论是沿着从输入到输出的层，跨同一层中的单元，或是随着时间的推移，模型参数的随着训练更新变幻莫测。批量规范化的发明者非正式地假设，这些变量分布中的这种偏移可能会阻碍网络的收敛。直观地说，我们可能会猜想，如果一个层的可变值是另一层的100倍，这可能需要 对学习率进行补偿调整。\n",
    "\n",
    "第三，更深层的网络很复杂，容易过拟合。这意味着正则化变得更加重要。\n",
    "\n",
    "批量规范化应用于单个可选层(也可以应用到所有层)，其原理如下:在每次训练迭代中，我们首先规范化输 入，即通过减去其均值并除以其标准差，其中两者均基于当前小批量处理。接下来，我们应用比例系数和比 例偏移。正是由于这个基于批量统计的标准化，才有了批量规范化的名称。\n",
    "\n",
    "从形式上来说，用$\\pmb x ∈ B$表示一个来自小批量B的输入，批量规范化$B_N$根据以下表达式转换$\\pmb x$:\n",
    "\n",
    "$$B_N(\\pmb x) = \\gamma \\frac{\\pmb X - \\pmb {\\hat\\mu_B}}{\\pmb{\\hat  \\sigma_B}} + \\pmb \\beta$$\n"
   ]
  },
  {
   "cell_type": "code",
   "execution_count": 1,
   "metadata": {
    "id": "puCueUPjZyE2"
   },
   "outputs": [],
   "source": [
    "import torch\n",
    "from torch import nn\n",
    "import torch.nn.functional as F\n",
    "from d2l import torch as d2l\n",
    "import matplotlib.pyplot as plt"
   ]
  },
  {
   "cell_type": "markdown",
   "metadata": {
    "id": "EV1knNFnunGz"
   },
   "source": [
    "## Artifical BatchNorm Code"
   ]
  },
  {
   "cell_type": "code",
   "execution_count": 2,
   "metadata": {
    "id": "ouunawKBuhjD"
   },
   "outputs": [],
   "source": [
    "# def batch_norm(X, gamma, beta, moving_mean, moving_var, eps, momentum): \n",
    "#   # 通过is_grad_enabled来判断当前模式是训练模式还是预测模式\n",
    "#   if not torch.is_grad_enabled():\n",
    "#   # 如果是在预测模式下，直接使用传入的移动平均所得的均值和方差\n",
    "#     X_hat = (X - moving_mean) / torch.sqrt(moving_var + eps) \n",
    "#   else:\n",
    "#     assert len(X.shape) in (2, 4) \n",
    "#     if len(X.shape) == 2:\n",
    "#     # 使用全连接层的情况，计算特征维上的均值和方差 \n",
    "#       mean = X.mean(dim=0)\n",
    "#       var = ((X - mean) ** 2).mean(dim=0)\n",
    "#     else:\n",
    "#       # 使用二维卷积层的情况，计算通道维上(axis=1)的均值和方差。\n",
    "#       # 这里我们需要保持X的形状以便后面可以做广播运算\n",
    "#       mean = X.mean(dim=(0, 2, 3), keepdim=True)\n",
    "#       var = ((X - mean) ** 2).mean(dim=(0, 2, 3), keepdim=True)\n",
    "#     # 训练模式下，用当前的均值和方差做标准化\n",
    "#     X_hat = (X - mean) / torch.sqrt(var + eps)\n",
    "#     # 更新移动平均的均值和方差\n",
    "#     moving_mean = momentum * moving_mean + (1.0 - momentum) * mean \n",
    "#     moving_var = momentum * moving_var + (1.0 - momentum) * var \n",
    "#     # 缩放和移位\n",
    "#   Y = gamma * X_hat + beta \n",
    "#   return Y, moving_mean.data, moving_var.data"
   ]
  },
  {
   "cell_type": "code",
   "execution_count": 3,
   "metadata": {
    "id": "QsuHeXpBut01"
   },
   "outputs": [],
   "source": [
    "# class BatchNorm(nn.Module):\n",
    "#   # num_features:完全连接层的输出数量或卷积层的输出通道数。 \n",
    "#   # num_dims:2表示完全连接层，4表示卷积层\n",
    "#   def __init__(self, num_features, num_dims):\n",
    "#     super().__init__() \n",
    "#     if num_dims == 2:\n",
    "#       shape = (1, num_features) \n",
    "#     else:\n",
    "#       shape = (1, num_features, 1, 1)\n",
    "#     # 参与求梯度和迭代的拉伸和偏移参数，分别初始化成1和0 \n",
    "#     self.gamma = nn.Parameter(torch.ones(shape)) \n",
    "#     self.beta = nn.Parameter(torch.zeros(shape)) \n",
    "#     # 非模型参数的变量初始化为0和1\n",
    "#     self.moving_mean = torch.zeros(shape) \n",
    "#     self.moving_var = torch.ones(shape)\n",
    "\n",
    "#   def forward(self, X):\n",
    "#     # 如果X不在内存上，将moving_mean和moving_var # 复制到X所在显存上\n",
    "#     if self.moving_mean.device != X.device:\n",
    "#         self.moving_mean = self.moving_mean.to(X.device)\n",
    "#     self.moving_var = self.moving_var.to(X.device) # 保存更新过的moving_mean和moving_var\n",
    "#     Y, self.moving_mean, self.moving_var = batch_norm(\n",
    "#              X, self.gamma, self.beta, self.moving_mean,\n",
    "#               self.moving_var, eps=1e-5, momentum=0.9) \n",
    "#     return Y"
   ]
  },
  {
   "cell_type": "markdown",
   "metadata": {
    "id": "DlwIoADMuvnV"
   },
   "source": [
    "## Test on LeNet"
   ]
  },
  {
   "cell_type": "code",
   "execution_count": 4,
   "metadata": {
    "colab": {
     "base_uri": "https://localhost:8080/"
    },
    "id": "cQ0Wd0ffu4uP",
    "outputId": "6707bf51-9b2b-4c7b-b3a3-f1db3a5a44a3"
   },
   "outputs": [
    {
     "name": "stderr",
     "output_type": "stream",
     "text": [
      "/usr/local/lib/python3.7/dist-packages/torch/utils/data/dataloader.py:490: UserWarning: This DataLoader will create 4 worker processes in total. Our suggested max number of worker in current system is 2, which is smaller than what this DataLoader is going to create. Please be aware that excessive worker creation might get DataLoader running slow or even freeze, lower the worker number to avoid potential slowness/freeze if necessary.\n",
      "  cpuset_checked))\n"
     ]
    }
   ],
   "source": [
    "# 1. 加载数据集\n",
    "batch_size = 256\n",
    "train_iter, test_iter = d2l.load_data_fashion_mnist(batch_size=batch_size)"
   ]
  },
  {
   "cell_type": "code",
   "execution_count": 8,
   "metadata": {
    "id": "aCZd1ro82w2c"
   },
   "outputs": [],
   "source": [
    "# 2. net\n",
    "class Reshape(torch.nn.Module):\n",
    "\n",
    "  def forward(self, x):\n",
    "    return x.reshape(-1, 1, 28, 28)\n",
    "\n",
    "net = nn.Sequential(\n",
    "    Reshape(),\n",
    "    nn.Conv2d(1, 6, kernel_size=5, padding=2),\n",
    "    nn.BatchNorm2d(6),\n",
    "    nn.Sigmoid(),\n",
    "    nn.AvgPool2d(2, stride=2),\n",
    "    nn.Conv2d(6, 16, kernel_size=5),\n",
    "    nn.BatchNorm2d(16),\n",
    "    nn.Sigmoid(),\n",
    "    nn.AvgPool2d(kernel_size=2, stride=2),\n",
    "    nn.Flatten(),\n",
    "    nn.Linear(16*5*5, 120),\n",
    "    nn.BatchNorm1d(120),\n",
    "    nn.Sigmoid(),\n",
    "    nn.Linear(120, 84),\n",
    "    nn.BatchNorm1d(84),\n",
    "    nn.Sigmoid(),\n",
    "    nn.Linear(84, 10),\n",
    ")"
   ]
  },
  {
   "cell_type": "code",
   "execution_count": 9,
   "metadata": {
    "id": "-rrTYmm53RWY"
   },
   "outputs": [],
   "source": [
    "# 3. 初始化weight\n",
    "\n",
    "def init_weights(m):\n",
    "  if type(m) in [nn.Linear, nn.Conv2d]:\n",
    "    nn.init.xavier_uniform_(m.weight)\n",
    "net.apply(init_weights)\n",
    "\n",
    "# 4. 定义loss\n",
    "\n",
    "l = nn.CrossEntropyLoss()\n",
    "\n",
    "# 5. 定义优化器\n",
    "\n",
    "o = torch.optim.SGD(net.parameters(), lr=1)"
   ]
  },
  {
   "cell_type": "code",
   "execution_count": 10,
   "metadata": {
    "id": "vh4PB5Qz3n7h"
   },
   "outputs": [],
   "source": [
    "def acc(X,y,net):\n",
    "  p_predict = net(X)\n",
    "  y_predict = torch.argmax(p_predict,axis=1)\n",
    "  output = y_predict - y\n",
    "  right_pre = len(output[output==0])\n",
    "  right_accu = right_pre/len(output)\n",
    "  return right_accu\n",
    "\n",
    "def eval_accu(net=None, dataset=None, cuda=False):\n",
    "  accu = 0\n",
    "  batch = 0\n",
    "  net.eval()\n",
    "\n",
    "  for X,y in dataset:\n",
    "    if cuda:\n",
    "      net.cuda()\n",
    "      X,y = X.cuda(),y.cuda()\n",
    "    accu += acc(X, y, net)\n",
    "    batch += 1\n",
    "  avg_acc = accu/batch\n",
    "  return avg_acc\n",
    "\n",
    "def train_net(net=None, epochs=10, loss = None, optimizer=None, \n",
    "              train_iter=None, test_iter=None, cuda=False):\n",
    "  train_accu_history = []\n",
    "  test_accu_history = []\n",
    "  train_loss = []\n",
    "\n",
    "  for epoch in range(epochs):\n",
    "\n",
    "    net.train()\n",
    "    for X,y in train_iter:\n",
    "      if cuda:\n",
    "        net.cuda()\n",
    "        X,y = X.cuda(),y.cuda()\n",
    "      l = loss(net(X), y)\n",
    "      optimizer.zero_grad()\n",
    "      l.backward()\n",
    "      optimizer.step()\n",
    "\n",
    "    net.eval() \n",
    "    l = loss(net(X), y)\n",
    "    train_loss.append(l.cpu().detach())\n",
    "    \n",
    "\n",
    "    train_avg_acc = eval_accu(net, train_iter, cuda)\n",
    "    test_avg_acc = eval_accu(net, test_iter, cuda)\n",
    "    train_accu_history.append(train_avg_acc)\n",
    "    test_accu_history.append(test_avg_acc)\n",
    "\n",
    "    print(f'epoch {epoch + 1}, loss {l:f}, train_accu {train_avg_acc:f}, test_accu {test_avg_acc:f}')\n",
    "  \n",
    "  x_label_value = [str(i) for i in range(1,epochs+1)]\n",
    "  plt.plot(x_label_value, train_accu_history, label='train_accu', color='g', linestyle='dashed')\n",
    "  plt.plot(x_label_value, test_accu_history, label='test_accu', color='r', linestyle='dashed')\n",
    "  plt.plot(x_label_value, train_loss, label='train_loss', color='b')\n",
    "  plt.xlabel('epoch')\n",
    "  plt.ylim(0.1,2)\n",
    "  plt.legend()\n",
    "  plt.show()"
   ]
  },
  {
   "cell_type": "code",
   "execution_count": 11,
   "metadata": {
    "colab": {
     "base_uri": "https://localhost:8080/",
     "height": 553
    },
    "id": "VyBj_MOc4HW8",
    "outputId": "39b870e3-681b-4b24-9b69-3ab758227d06"
   },
   "outputs": [
    {
     "name": "stderr",
     "output_type": "stream",
     "text": [
      "/usr/local/lib/python3.7/dist-packages/torch/utils/data/dataloader.py:490: UserWarning: This DataLoader will create 4 worker processes in total. Our suggested max number of worker in current system is 2, which is smaller than what this DataLoader is going to create. Please be aware that excessive worker creation might get DataLoader running slow or even freeze, lower the worker number to avoid potential slowness/freeze if necessary.\n",
      "  cpuset_checked))\n"
     ]
    },
    {
     "name": "stdout",
     "output_type": "stream",
     "text": [
      "epoch 1, loss 0.456225, train_accu 0.745717, test_accu 0.745634\n",
      "epoch 2, loss 0.296749, train_accu 0.795833, test_accu 0.796055\n",
      "epoch 3, loss 0.249613, train_accu 0.842753, test_accu 0.842642\n",
      "epoch 4, loss 0.217552, train_accu 0.840309, test_accu 0.840226\n",
      "epoch 5, loss 0.226981, train_accu 0.872933, test_accu 0.872850\n",
      "epoch 6, loss 0.215108, train_accu 0.858732, test_accu 0.858843\n",
      "epoch 7, loss 0.504898, train_accu 0.817830, test_accu 0.818052\n",
      "epoch 8, loss 0.102806, train_accu 0.903923, test_accu 0.903951\n",
      "epoch 9, loss 0.506696, train_accu 0.795107, test_accu 0.794969\n",
      "epoch 10, loss 0.166105, train_accu 0.857441, test_accu 0.857469\n"
     ]
    },
    {
     "data": {
      "image/png": "[encoded data removed]",
      "text/plain": [
       "<Figure size 432x288 with 1 Axes>"
      ]
     },
     "metadata": {
      "needs_background": "light"
     },
     "output_type": "display_data"
    },
    {
     "name": "stdout",
     "output_type": "stream",
     "text": [
      "CPU times: user 32.7 s, sys: 10.3 s, total: 43 s\n",
      "Wall time: 2min 48s\n"
     ]
    }
   ],
   "source": [
    "%%time\n",
    "train_net(net=net, epochs=10, loss = l, optimizer=o, \n",
    "          train_iter=train_iter, test_iter=train_iter, cuda=True)"
   ]
  }
 ],
 "metadata": {
  "accelerator": "GPU",
  "colab": {
   "collapsed_sections": [],
   "name": "Net.ipynb",
   "provenance": []
  },
  "kernelspec": {
   "display_name": "Python 3 (ipykernel)",
   "language": "python",
   "name": "python3"
  },
  "language_info": {
   "codemirror_mode": {
    "name": "ipython",
    "version": 3
   },
   "file_extension": ".py",
   "mimetype": "text/x-python",
   "name": "python",
   "nbconvert_exporter": "python",
   "pygments_lexer": "ipython3",
   "version": "3.7.6"
  }
 },
 "nbformat": 4,
 "nbformat_minor": 1
}
