{
 "cells": [
  {
   "cell_type": "markdown",
   "metadata": {
    "id": "KSwUDsfsZxXB"
   },
   "source": [
    "# ResNet_code\n",
    "\n",
    "ps：\n",
    "\n",
    "pip install d2l\n",
    "\n",
    "pip install matplotlib==3.0.0"
   ]
  },
  {
   "cell_type": "code",
   "execution_count": 1,
   "metadata": {
    "id": "puCueUPjZyE2"
   },
   "outputs": [],
   "source": [
    "import torch\n",
    "from torch import nn\n",
    "import torch.nn.functional as F\n",
    "from d2l import torch as d2l\n",
    "import matplotlib.pyplot as plt"
   ]
  },
  {
   "cell_type": "code",
   "execution_count": 2,
   "metadata": {
    "colab": {
     "base_uri": "https://localhost:8080/"
    },
    "id": "cQ0Wd0ffu4uP",
    "outputId": "9833ea7d-a325-4890-fee0-dd838e3b02fb"
   },
   "outputs": [
    {
     "name": "stderr",
     "output_type": "stream",
     "text": [
      "/usr/local/lib/python3.7/dist-packages/torch/utils/data/dataloader.py:490: UserWarning: This DataLoader will create 4 worker processes in total. Our suggested max number of worker in current system is 2, which is smaller than what this DataLoader is going to create. Please be aware that excessive worker creation might get DataLoader running slow or even freeze, lower the worker number to avoid potential slowness/freeze if necessary.\n",
      "  cpuset_checked))\n"
     ]
    }
   ],
   "source": [
    "# 1. 加载数据集\n",
    "batch_size = 256\n",
    "train_iter, test_iter = d2l.load_data_fashion_mnist(batch_size, resize=96)"
   ]
  },
  {
   "cell_type": "code",
   "execution_count": 3,
   "metadata": {
    "id": "aCZd1ro82w2c"
   },
   "outputs": [],
   "source": [
    "# 2. net\n",
    "class Residual(nn.Module):\n",
    "    def __init__(self, input_channels, num_channels,\n",
    "                use_1x1conv=False, strides=1):\n",
    "        super().__init__()\n",
    "        self.conv1 = nn.Conv2d(input_channels, num_channels,\n",
    "                              kernel_size=3, padding=1, stride=strides)\n",
    "        self.conv2 = nn.Conv2d(num_channels, num_channels,\n",
    "                              kernel_size=3, padding=1)\n",
    "        if use_1x1conv:\n",
    "            self.conv3 = nn.Conv2d(input_channels, num_channels,\n",
    "                              kernel_size=1, stride=strides)\n",
    "        else:\n",
    "            self.conv3 = None\n",
    "        self.bn1 = nn.BatchNorm2d(num_channels)\n",
    "        self.bn2 = nn.BatchNorm2d(num_channels)\n",
    "        \n",
    "    def forward(self, X):\n",
    "        Y = F.relu(self.bn1(self.conv1(X)))\n",
    "        Y = self.bn2(self.conv2(Y))\n",
    "        if self.conv3:\n",
    "            X = self.conv3(X)\n",
    "        Y += X\n",
    "        return F.relu(Y)\n",
    "\n",
    "def resnet_block(input_channels, num_channels, \n",
    "                 num_residuals, first_block=False):\n",
    "    blk = []\n",
    "    for i in range(num_residuals):\n",
    "        if i==0 and not first_block:\n",
    "            blk.append(Residual(input_channels, num_channels,\n",
    "                               use_1x1conv=True, strides=2))\n",
    "        else:\n",
    "            blk.append(Residual(num_channels, num_channels))\n",
    "    return blk\n",
    "\n",
    "b1 = nn.Sequential(nn.Conv2d(1, 64, kernel_size=7, stride=2, padding=3),\n",
    "                   nn.BatchNorm2d(64), nn.ReLU(),\n",
    "                   nn.MaxPool2d(kernel_size=3, stride=2, padding=1))\n",
    "b2 = nn.Sequential(*resnet_block(64, 64, 2, first_block=True)) \n",
    "b3 = nn.Sequential(*resnet_block(64, 128, 2))\n",
    "b4 = nn.Sequential(*resnet_block(128, 256, 2))\n",
    "b5 = nn.Sequential(*resnet_block(256, 512, 2))\n",
    "net = nn.Sequential(b1, b2, b3, b4, b5,\n",
    "                    nn.AdaptiveAvgPool2d((1,1)),\n",
    "                    nn.Flatten(), nn.Linear(512, 10))"
   ]
  },
  {
   "cell_type": "code",
   "execution_count": 4,
   "metadata": {
    "id": "-rrTYmm53RWY"
   },
   "outputs": [],
   "source": [
    "# 3. 初始化weight\n",
    "\n",
    "def init_weights(m):\n",
    "  if type(m) in [nn.Linear, nn.Conv2d]:\n",
    "    nn.init.xavier_uniform_(m.weight)\n",
    "net.apply(init_weights)\n",
    "\n",
    "# 4. 定义loss\n",
    "\n",
    "l = nn.CrossEntropyLoss()\n",
    "\n",
    "# 5. 定义优化器\n",
    "\n",
    "o = torch.optim.SGD(net.parameters(), lr=0.05)"
   ]
  },
  {
   "cell_type": "code",
   "execution_count": 5,
   "metadata": {
    "id": "vh4PB5Qz3n7h"
   },
   "outputs": [],
   "source": [
    "def acc(X,y,net):\n",
    "  p_predict = net(X)\n",
    "  y_predict = torch.argmax(p_predict,axis=1)\n",
    "  output = y_predict - y\n",
    "  right_pre = len(output[output==0])\n",
    "  right_accu = right_pre/len(output)\n",
    "  return right_accu\n",
    "\n",
    "def eval_accu(net=None, dataset=None, cuda=False):\n",
    "  accu = 0\n",
    "  batch = 0\n",
    "  net.eval()\n",
    "\n",
    "  for X,y in dataset:\n",
    "    if cuda:\n",
    "      net.cuda()\n",
    "      X,y = X.cuda(),y.cuda()\n",
    "    accu += acc(X, y, net)\n",
    "    batch += 1\n",
    "  avg_acc = accu/batch\n",
    "  return avg_acc\n",
    "\n",
    "def train_net(net=None, epochs=10, loss = None, optimizer=None, \n",
    "              train_iter=None, test_iter=None, cuda=False):\n",
    "  train_accu_history = []\n",
    "  test_accu_history = []\n",
    "  train_loss = []\n",
    "\n",
    "  for epoch in range(epochs):\n",
    "\n",
    "    net.train()\n",
    "    for X,y in train_iter:\n",
    "      if cuda:\n",
    "        net.cuda()\n",
    "        X,y = X.cuda(),y.cuda()\n",
    "      l = loss(net(X), y)\n",
    "      optimizer.zero_grad()\n",
    "      l.backward()\n",
    "      optimizer.step()\n",
    "\n",
    "    net.eval() \n",
    "    l = loss(net(X), y)\n",
    "    train_loss.append(l.cpu().detach())\n",
    "    \n",
    "\n",
    "    train_avg_acc = eval_accu(net, train_iter, cuda)\n",
    "    test_avg_acc = eval_accu(net, test_iter, cuda)\n",
    "    train_accu_history.append(train_avg_acc)\n",
    "    test_accu_history.append(test_avg_acc)\n",
    "\n",
    "    print(f'epoch {epoch + 1}, loss {l:f}, train_accu {train_avg_acc:f}, test_accu {test_avg_acc:f}')\n",
    "  \n",
    "  x_label_value = [str(i) for i in range(1,epochs+1)]\n",
    "  plt.plot(x_label_value, train_accu_history, label='train_accu', color='g', linestyle='dashed')\n",
    "  plt.plot(x_label_value, test_accu_history, label='test_accu', color='r', linestyle='dashed')\n",
    "  plt.plot(x_label_value, train_loss, label='train_loss', color='b')\n",
    "  plt.xlabel('epoch')\n",
    "  plt.ylim(0.1,2)\n",
    "  plt.legend()\n",
    "  plt.show()"
   ]
  },
  {
   "cell_type": "code",
   "execution_count": 6,
   "metadata": {
    "colab": {
     "base_uri": "https://localhost:8080/",
     "height": 553
    },
    "id": "VyBj_MOc4HW8",
    "outputId": "f648dc49-c2f8-4459-d453-7094782e0ce8"
   },
   "outputs": [
    {
     "metadata": {
      "tags": null
     },
     "name": "stderr",
     "output_type": "stream",
     "text": [
      "/usr/local/lib/python3.7/dist-packages/torch/utils/data/dataloader.py:490: UserWarning: This DataLoader will create 4 worker processes in total. Our suggested max number of worker in current system is 2, which is smaller than what this DataLoader is going to create. Please be aware that excessive worker creation might get DataLoader running slow or even freeze, lower the worker number to avoid potential slowness/freeze if necessary.\n",
      "  cpuset_checked))\n"
     ]
    },
    {
     "name": "stdout",
     "output_type": "stream",
     "text": [
      "epoch 1, loss 0.202452, train_accu 0.839816, test_accu 0.839982\n",
      "epoch 2, loss 0.103097, train_accu 0.881261, test_accu 0.881233\n",
      "epoch 3, loss 0.058206, train_accu 0.911004, test_accu 0.911004\n",
      "epoch 4, loss 0.141420, train_accu 0.892121, test_accu 0.892343\n",
      "epoch 5, loss 0.115330, train_accu 0.909984, test_accu 0.909846\n",
      "epoch 6, loss 0.010613, train_accu 0.968141, test_accu 0.968085\n",
      "epoch 7, loss 0.122145, train_accu 0.925837, test_accu 0.925781\n",
      "epoch 8, loss 0.024290, train_accu 0.965824, test_accu 0.965880\n",
      "epoch 9, loss 0.002056, train_accu 0.989716, test_accu 0.989716\n",
      "epoch 10, loss 0.116301, train_accu 0.985029, test_accu 0.985001\n"
     ]
    },
    {
     "data": {
      "image/png": "[encoded data removed]",
      "text/plain": [
       "<Figure size 432x288 with 1 Axes>"
      ]
     },
     "metadata": {
      "needs_background": "light"
     },
     "output_type": "display_data"
    },
    {
     "name": "stdout",
     "output_type": "stream",
     "text": [
      "CPU times: user 8min 48s, sys: 22.3 s, total: 9min 10s\n",
      "Wall time: 11min 41s\n"
     ]
    }
   ],
   "source": [
    "%%time\n",
    "train_net(net=net, epochs=10, loss = l, optimizer=o, \n",
    "          train_iter=train_iter, test_iter=train_iter, cuda=True)"
   ]
  }
 ],
 "metadata": {
  "accelerator": "GPU",
  "colab": {
   "collapsed_sections": [],
   "name": "Net.ipynb",
   "provenance": []
  },
  "kernelspec": {
   "display_name": "Python 3 (ipykernel)",
   "language": "python",
   "name": "python3"
  },
  "language_info": {
   "codemirror_mode": {
    "name": "ipython",
    "version": 3
   },
   "file_extension": ".py",
   "mimetype": "text/x-python",
   "name": "python",
   "nbconvert_exporter": "python",
   "pygments_lexer": "ipython3",
   "version": "3.7.6"
  }
 },
 "nbformat": 4,
 "nbformat_minor": 1
}
