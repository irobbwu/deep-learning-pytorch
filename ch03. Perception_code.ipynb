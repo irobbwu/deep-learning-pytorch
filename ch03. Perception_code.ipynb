{
 "cells": [
  {
   "cell_type": "code",
   "execution_count": null,
   "metadata": {
    "id": "KWeXHRK1sNEg"
   },
   "outputs": [],
   "source": [
    "pip install d2l"
   ]
  },
  {
   "cell_type": "code",
   "execution_count": null,
   "metadata": {
    "id": "sUBaF-Et50Tj"
   },
   "outputs": [],
   "source": [
    "pip install matplotlib==3.0.0"
   ]
  },
  {
   "cell_type": "markdown",
   "metadata": {
    "id": "4YAca2m6tStx"
   },
   "source": [
    "# Perception Code\n",
    "\n",
    "## Perception torch code"
   ]
  },
  {
   "cell_type": "code",
   "execution_count": 3,
   "metadata": {
    "id": "0Z0SqX4ZsVKr"
   },
   "outputs": [],
   "source": [
    "import torch\n",
    "import matplotlib.pyplot as plt\n",
    "from torch import nn\n",
    "from d2l import torch as d2l"
   ]
  },
  {
   "cell_type": "markdown",
   "metadata": {
    "id": "VHrnYhyUtibB"
   },
   "source": [
    "1. 载入数据集"
   ]
  },
  {
   "cell_type": "code",
   "execution_count": 4,
   "metadata": {
    "colab": {
     "base_uri": "https://localhost:8080/"
    },
    "id": "fdKNhGbptfMQ",
    "outputId": "beec0ee4-204f-4b39-d4e7-7dadfe1459ed"
   },
   "outputs": [
    {
     "name": "stderr",
     "output_type": "stream",
     "text": [
      "/usr/local/lib/python3.7/dist-packages/torch/utils/data/dataloader.py:490: UserWarning: This DataLoader will create 4 worker processes in total. Our suggested max number of worker in current system is 2, which is smaller than what this DataLoader is going to create. Please be aware that excessive worker creation might get DataLoader running slow or even freeze, lower the worker number to avoid potential slowness/freeze if necessary.\n",
      "  cpuset_checked))\n"
     ]
    }
   ],
   "source": [
    "batch_size = 256\n",
    "train_iter, test_iter = d2l.load_data_fashion_mnist(batch_size)"
   ]
  },
  {
   "cell_type": "markdown",
   "metadata": {
    "id": "KfosLquRuVdK"
   },
   "source": [
    "2. 定义网络层\n",
    "\n",
    "输入层，hidden层，输出层"
   ]
  },
  {
   "cell_type": "code",
   "execution_count": 5,
   "metadata": {
    "id": "plRTbMCAt2pP"
   },
   "outputs": [],
   "source": [
    "num_inputs, num_outputs, num_hiddens = 784, 10, 256\n",
    "\n",
    "W1 = nn.Parameter(\n",
    "    torch.randn(num_inputs, num_hiddens, requires_grad=True) * 0.01  \n",
    "  )\n",
    "\n",
    "b1 = nn.Parameter(\n",
    "    torch.zeros(num_hiddens, requires_grad=True)\n",
    "  )\n",
    "\n",
    "W2 = nn.Parameter(\n",
    "    torch.randn(num_hiddens, num_outputs, requires_grad=True) * 0.01  \n",
    "  )\n",
    "\n",
    "b2 = nn.Parameter(\n",
    "    torch.zeros(num_outputs, requires_grad=True) * 0.01  \n",
    "  )\n"
   ]
  },
  {
   "cell_type": "code",
   "execution_count": 6,
   "metadata": {
    "id": "R8kSSwUovD8D"
   },
   "outputs": [],
   "source": [
    "params = [W1, b1, W2, b2]"
   ]
  },
  {
   "cell_type": "markdown",
   "metadata": {
    "id": "n0TtVz7wvYTV"
   },
   "source": [
    "3. 定义网络"
   ]
  },
  {
   "cell_type": "code",
   "execution_count": 7,
   "metadata": {
    "id": "X6Uu9aPIvYKN"
   },
   "outputs": [],
   "source": [
    "net = nn.Sequential(\n",
    "    nn.Flatten(), \n",
    "    nn.Linear(784, 256), # 隐藏层线性模型\n",
    "    nn.ReLU(), # 激活隐藏层\n",
    "    nn.Linear(256, 10)\n",
    "    )"
   ]
  },
  {
   "cell_type": "markdown",
   "metadata": {
    "id": "Y8F_aTe2vg_3"
   },
   "source": [
    "4. 初始化参数"
   ]
  },
  {
   "cell_type": "code",
   "execution_count": 8,
   "metadata": {
    "colab": {
     "base_uri": "https://localhost:8080/"
    },
    "id": "tWyU3PfTvYG_",
    "outputId": "62cbffcf-c1cc-4e3b-a00f-94c56fd486ca"
   },
   "outputs": [
    {
     "data": {
      "text/plain": [
       "Sequential(\n",
       "  (0): Flatten(start_dim=1, end_dim=-1)\n",
       "  (1): Linear(in_features=784, out_features=256, bias=True)\n",
       "  (2): ReLU()\n",
       "  (3): Linear(in_features=256, out_features=10, bias=True)\n",
       ")"
      ]
     },
     "execution_count": 8,
     "metadata": {},
     "output_type": "execute_result"
    }
   ],
   "source": [
    "def init_weights(m):\n",
    "  if type(m) == nn.Linear:\n",
    "    nn.init.normal_(m.weight, std=0.01)\n",
    "net.apply(init_weights)"
   ]
  },
  {
   "cell_type": "markdown",
   "metadata": {
    "id": "NBzU1k6DwHJn"
   },
   "source": [
    "5. 定义loss"
   ]
  },
  {
   "cell_type": "code",
   "execution_count": 9,
   "metadata": {
    "id": "NZcmmrnsvSOF"
   },
   "outputs": [],
   "source": [
    "loss = nn.CrossEntropyLoss()"
   ]
  },
  {
   "cell_type": "markdown",
   "metadata": {
    "id": "YnEM-HV9wMwG"
   },
   "source": [
    "6. 定义优化器"
   ]
  },
  {
   "cell_type": "code",
   "execution_count": 10,
   "metadata": {
    "id": "BeOHlgiZwLyp"
   },
   "outputs": [],
   "source": [
    "optimizer = torch.optim.SGD(net.parameters(), lr=0.01)"
   ]
  },
  {
   "cell_type": "markdown",
   "metadata": {
    "id": "lbHXOQdcyHnM"
   },
   "source": [
    "7. Training and Prediction"
   ]
  },
  {
   "cell_type": "code",
   "execution_count": 11,
   "metadata": {
    "id": "L5T_WGyRworb"
   },
   "outputs": [],
   "source": [
    "def acc(X,y,net):\n",
    "  p_predict = net(X)\n",
    "  y_predict = torch.argmax(p_predict,axis=1)\n",
    "  output = y_predict - y\n",
    "  right_pre = len(output[output==0])\n",
    "  right_accu = right_pre/len(output)\n",
    "  return right_accu"
   ]
  },
  {
   "cell_type": "code",
   "execution_count": 12,
   "metadata": {
    "colab": {
     "base_uri": "https://localhost:8080/"
    },
    "id": "G5gzcBC8yLdM",
    "outputId": "7c21d892-23d7-43e8-a2e0-e2630222f590"
   },
   "outputs": [
    {
     "name": "stderr",
     "output_type": "stream",
     "text": [
      "/usr/local/lib/python3.7/dist-packages/torch/utils/data/dataloader.py:490: UserWarning: This DataLoader will create 4 worker processes in total. Our suggested max number of worker in current system is 2, which is smaller than what this DataLoader is going to create. Please be aware that excessive worker creation might get DataLoader running slow or even freeze, lower the worker number to avoid potential slowness/freeze if necessary.\n",
      "  cpuset_checked))\n"
     ]
    },
    {
     "name": "stdout",
     "output_type": "stream",
     "text": [
      "epoch 1, loss 1.859383, train_accu 0.452388, test_accu 0.445020\n",
      "epoch 2, loss 1.200269, train_accu 0.622911, test_accu 0.616992\n",
      "epoch 3, loss 1.028513, train_accu 0.664583, test_accu 0.652246\n",
      "epoch 4, loss 0.948160, train_accu 0.683001, test_accu 0.668750\n",
      "epoch 5, loss 0.872777, train_accu 0.704754, test_accu 0.694727\n",
      "epoch 6, loss 0.793644, train_accu 0.727842, test_accu 0.717676\n",
      "epoch 7, loss 0.813485, train_accu 0.751258, test_accu 0.744336\n",
      "epoch 8, loss 0.591461, train_accu 0.758428, test_accu 0.752930\n",
      "epoch 9, loss 0.690905, train_accu 0.774230, test_accu 0.768555\n",
      "epoch 10, loss 0.566383, train_accu 0.783466, test_accu 0.776758\n",
      "epoch 11, loss 0.548102, train_accu 0.790182, test_accu 0.779395\n",
      "epoch 12, loss 0.538783, train_accu 0.795224, test_accu 0.785254\n",
      "epoch 13, loss 0.567733, train_accu 0.803635, test_accu 0.792383\n",
      "epoch 14, loss 0.472033, train_accu 0.805685, test_accu 0.795410\n",
      "epoch 15, loss 0.541149, train_accu 0.812068, test_accu 0.799805\n",
      "epoch 16, loss 0.517816, train_accu 0.816617, test_accu 0.804785\n",
      "epoch 17, loss 0.541597, train_accu 0.817847, test_accu 0.807617\n",
      "epoch 18, loss 0.620290, train_accu 0.819659, test_accu 0.808398\n",
      "epoch 19, loss 0.429334, train_accu 0.820595, test_accu 0.810254\n",
      "epoch 20, loss 0.550836, train_accu 0.827543, test_accu 0.815918\n"
     ]
    }
   ],
   "source": [
    "epochs = 20\n",
    "train_accu_history = []\n",
    "test_accu_history = []\n",
    "train_loss = []\n",
    "for epoch in range(epochs):\n",
    "\n",
    "  for X,y in train_iter:\n",
    "\n",
    "    l = loss(net(X), y)\n",
    "    optimizer.zero_grad()\n",
    "    l.backward()\n",
    "    optimizer.step()\n",
    "\n",
    "  l = loss(net(X), y)\n",
    "  train_loss.append(l.detach())\n",
    "\n",
    "  train_batch = 0\n",
    "  train_accu = 0\n",
    "  \n",
    "  test_batch = 0\n",
    "  test_accu = 0\n",
    "  \n",
    "  for X_train,y_train in train_iter:\n",
    "    train_accu += acc(X_train, y_train, net)\n",
    "    train_batch += 1\n",
    "    train_avg_acc = train_accu/train_batch\n",
    "  train_accu_history.append(train_avg_acc)\n",
    "\n",
    "  for X_test,y_test in test_iter:\n",
    "    test_accu += acc(X_test, y_test, net)\n",
    "    test_batch += 1\n",
    "    avg_acc = test_accu/test_batch\n",
    "  test_accu_history.append(avg_acc)\n",
    "\n",
    "\n",
    "  print(f'epoch {epoch + 1}, loss {l:f}, train_accu {train_avg_acc:f}, test_accu {avg_acc:f}')"
   ]
  },
  {
   "cell_type": "code",
   "execution_count": 15,
   "metadata": {
    "colab": {
     "base_uri": "https://localhost:8080/",
     "height": 283
    },
    "id": "8rKR1ujyyhdX",
    "outputId": "dec8a919-10cd-4c2c-ec54-245cb2aebd48"
   },
   "outputs": [
    {
     "data": {
      "image/png": "[encoded data removed]",
      "text/plain": [
       "<Figure size 432x288 with 1 Axes>"
      ]
     },
     "metadata": {
      "needs_background": "light"
     },
     "output_type": "display_data"
    }
   ],
   "source": [
    "x_label_value = [str(i) for i in range(1,epochs+1)]\n",
    "plt.plot(x_label_value, train_accu_history, label='train_accu', color='g', linestyle='dashed')\n",
    "plt.plot(x_label_value, test_accu_history, label='test_accu', color='r', linestyle='dashed')\n",
    "plt.plot(x_label_value, train_loss, label='train_loss', color='b')\n",
    "plt.xlabel('epoch')\n",
    "plt.ylim(0.4,1)\n",
    "plt.legend()\n",
    "plt.show()"
   ]
  }
 ],
 "metadata": {
  "accelerator": "GPU",
  "colab": {
   "collapsed_sections": [],
   "name": "Untitled5.ipynb",
   "provenance": []
  },
  "kernelspec": {
   "display_name": "Python 3 (ipykernel)",
   "language": "python",
   "name": "python3"
  },
  "language_info": {
   "codemirror_mode": {
    "name": "ipython",
    "version": 3
   },
   "file_extension": ".py",
   "mimetype": "text/x-python",
   "name": "python",
   "nbconvert_exporter": "python",
   "pygments_lexer": "ipython3",
   "version": "3.7.6"
  }
 },
 "nbformat": 4,
 "nbformat_minor": 1
}
