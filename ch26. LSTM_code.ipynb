{
 "cells": [
  {
   "cell_type": "markdown",
   "metadata": {
    "id": "KSwUDsfsZxXB"
   },
   "source": [
    "# LSTM\n",
    "\n",
    "⻓短期记忆网络引入了记忆元(memory cell)， 或简称为单元(cell)。\n",
    "\n",
    "有些文献认为记忆元是隐状态的一种特殊类型，它们与隐状态具有相同的形状，其设 计目的是用于记录附加的信息。\n",
    "\n",
    "为了控制记忆元，我们需要许多⻔。其中一个⻔用来从单元中输出条目，我们将其称为输出⻔(output gate)。另\n",
    "\n",
    "外一个⻔用来决定何时将数据读入单元，我们将其称为输入⻔(input gate)。\n",
    "\n",
    "我们还需要一种机制来重置单元的内容，由遗忘⻔(forget gate)来管理，这种设计的动机与⻔控循 环单元相同，能够通过专用机制决定什么时候记忆或忽略隐状态中的输入。\n",
    "\n",
    "![title](attachment/lstm.png)\n",
    "\n",
    "- 输入门 （input gate）\n",
    "\n",
    "$$\n",
    "I_t = \\sigma(X_tW_{xi} + H_{t-1}W_{hi} + b_i)\n",
    "$$\n",
    "\n",
    "- 遗忘门 （forget gate）\n",
    "$$\n",
    "F_t = \\sigma(X_tW_{xf} + H_{t-1}W_{hf} + b_f)\n",
    "$$\n",
    "\n",
    "\n",
    "- 输出门 （output gate）\n",
    "$$\n",
    "O_t = \\sigma(X_tW_{xo} + H_{t-1}W_{ho} + b_o)\n",
    "$$\n",
    "\n",
    "\n",
    "- 候选记忆元(candidate memory cell)\n",
    "\n",
    "$$\n",
    "\\tilde C_t = \\sigma(X_tW_{xc} + H_{t-1}W_{hc} + b_c)\n",
    "$$\n",
    "\n",
    "![title](attachment/lstm2.png)\n",
    "\n",
    "## 记忆元\n",
    "在⻔控循环单元中，有一种机制来控制输入和遗忘(或跳过)。类似地，在⻓短期记忆网络中，也有两个⻔用于 这样的目的:输入⻔$I_t$控制采用多少来自$\\tilde C_t$的新数据，而遗忘⻔$F_t$控制保留多少过去的记忆元$C_{t−1} ∈ R_{n×h}$的 内容。使用按元素乘法，得出:\n",
    "$$C_t =F_t ⊙C_{t−1} +I_t ⊙\\tilde C_t$$ 如果遗忘⻔始终为1且输入⻔始终为0，则过去的记忆元$C_{t−1}$ 将随时间被保存并传递到当前时间步。引入这种\n",
    "设计是为了缓解梯度消失问题，并更好地捕获序列中的⻓距离依赖关系。\n",
    "![title](attachment/lstm3.png)\n",
    "\n",
    "## 隐状态\n",
    "\n",
    "我们需要定义如何计算隐状态 $H_t ∈ R_{n×h}$，这就是输出⻔发挥作用的地方。在⻓短期记忆网络中，它 仅仅是记忆元的tanh的⻔控版本。这就确保了$H_t$的值始终在区间(−1, 1)内:\n",
    "$$H_t = O_t ⊙ tanh(C_t)$$\n",
    "\n",
    "ps：\n",
    "\n",
    "pip install d2l\n",
    "\n",
    "pip install matplotlib==3.0.0"
   ]
  },
  {
   "cell_type": "code",
   "execution_count": 1,
   "metadata": {
    "id": "puCueUPjZyE2"
   },
   "outputs": [],
   "source": [
    "import os\n",
    "import torch\n",
    "import torchvision\n",
    "from torch import nn\n",
    "import torch.nn.functional as F\n",
    "from d2l import torch as d2l\n",
    "import matplotlib.pyplot as plt\n",
    "import collections\n",
    "import re\n",
    "import numpy as np"
   ]
  },
  {
   "cell_type": "markdown",
   "metadata": {
    "id": "ejR2ddP-kEkq"
   },
   "source": [
    "## Artifical Codde"
   ]
  },
  {
   "cell_type": "code",
   "execution_count": 2,
   "metadata": {
    "id": "X9vx_pJekEL5"
   },
   "outputs": [],
   "source": [
    "def get_lstm_params(vocab_size, num_hiddens, device=torch.device('cuda')):\n",
    "  def three():\n",
    "    return (\n",
    "        torch.randn((vocab_size, num_hiddens), device=device)*0.01,\n",
    "        torch.randn((num_hiddens, num_hiddens), device=device)*0.01,\n",
    "        torch.zeros(num_hiddens, device=device),\n",
    "    )\n",
    "  \n",
    "  Wxi, Whi, bi = three()\n",
    "  Wxf, Whf, bf = three()\n",
    "  Wxo, Who, bo = three()\n",
    "  Wxc, Whc, bc = three()\n",
    "\n",
    "  Woy, boy = torch.randn((num_hiddens, vocab_size),device=device)*0.01, torch.zeros(vocab_size, device=device)\n",
    "\n",
    "  params = [Wxi, Whi, bi,\n",
    "        Wxf, Whf, bf,\n",
    "        Wxo, Who, bo,\n",
    "        Wxc, Whc, bc,\n",
    "        Woy, boy]\n",
    "\n",
    "  for i in params:\n",
    "    i.requires_grad_(True)\n",
    "\n",
    "  return params"
   ]
  },
  {
   "cell_type": "code",
   "execution_count": 3,
   "metadata": {
    "id": "oznwPgO2mgIY"
   },
   "outputs": [],
   "source": [
    "def init_lstm_state(batch_size, num_hiddens, device=torch.device('cuda')):\n",
    "  return (torch.zeros((batch_size, num_hiddens), device=device)*0.01,\n",
    "       torch.zeros((batch_size, num_hiddens), device=device)*0.01)"
   ]
  },
  {
   "cell_type": "code",
   "execution_count": 4,
   "metadata": {
    "id": "eHd4UkDbmgBP"
   },
   "outputs": [],
   "source": [
    "def lstm(input, state, params):\n",
    "  [Wxi, Whi, bi, Wxf, Whf, bf, Wxo, Who, bo, Wxc, Whc, bc, Woy, boy] = params\n",
    "  H, C = state\n",
    "\n",
    "  output = []\n",
    "  for X in input:\n",
    "    I = torch.sigmoid(X@Wxi + H@Whi + bi)\n",
    "    F = torch.sigmoid(X@Wxf + H@Whf + bf)\n",
    "    O = torch.sigmoid(X@Wxo + H@Who + bo)\n",
    "    C_tilde = torch.sigmoid(X@Wxc + H@Whc + bc)\n",
    "    C = F*C + I*C_tilde\n",
    "    H = O*torch.tanh(C)\n",
    "    Y = H@Woy + boy\n",
    "    output.append(Y)\n",
    "  return torch.cat(output, dim=0), (H, C)"
   ]
  },
  {
   "cell_type": "code",
   "execution_count": 5,
   "metadata": {
    "colab": {
     "base_uri": "https://localhost:8080/"
    },
    "id": "1fj7lnjIo8Ru",
    "outputId": "5c6b5563-04e5-4e6c-b871-74f4620c29f2"
   },
   "outputs": [
    {
     "data": {
      "text/plain": [
       "(torch.Size([1120, 28]), torch.Size([35, 256]), torch.Size([35, 256]))"
      ]
     },
     "execution_count": 5,
     "metadata": {},
     "output_type": "execute_result"
    }
   ],
   "source": [
    "X = torch.randn(32, 35, 28)\n",
    "params = get_lstm_params(28, 256)\n",
    "state = init_lstm_state(35, 256)\n",
    "y, state = lstm(X.cuda(), state, params)\n",
    "y.shape, state[0].shape, state[1].shape,"
   ]
  },
  {
   "cell_type": "markdown",
   "metadata": {
    "id": "CvSo8_ghuRr6"
   },
   "source": [
    "## Train"
   ]
  },
  {
   "cell_type": "code",
   "execution_count": 6,
   "metadata": {
    "id": "b8TMLbGAlAd4"
   },
   "outputs": [],
   "source": [
    "class RNNModel:\n",
    "  '''循环神经网络'''\n",
    "  def __init__(self, forward_fn, init_state, batch_size, \n",
    "          vocab_size, num_hidden, get_params,\n",
    "          device=torch.device('cuda')):\n",
    "    self.device = device\n",
    "    self.vocab_size = vocab_size\n",
    "    self.forward_fn = forward_fn\n",
    "    self.params = get_params(vocab_size, num_hidden, device)\n",
    "    self.init_state = init_state\n",
    "    self.batch_size = batch_size\n",
    "    self.num_hidden = num_hidden\n",
    "\n",
    "  def __call__(self, X, state):\n",
    "    X = F.one_hot(X.T.long(), self.vocab_size).type(torch.float32)\n",
    "    return self.forward_fn(X, state, self.params)\n",
    "\n",
    "  def begin_state(self, batch_size, device=torch.device('cuda')):\n",
    "    return self.init_state(batch_size, self.num_hidden, device)\n"
   ]
  },
  {
   "cell_type": "code",
   "execution_count": 7,
   "metadata": {
    "id": "aS1YeI9hkDmS"
   },
   "outputs": [],
   "source": [
    "# 1.load dataset\n",
    "batch_size, num_steps = 32, 35\n",
    "train_iter, vocab = d2l.load_data_time_machine(batch_size, num_steps)\n",
    "\n",
    "# 2.define net\n",
    "net = RNNModel(forward_fn=lstm, init_state=init_lstm_state, \n",
    "          batch_size=batch_size, num_hidden=256, \n",
    "          get_params=get_lstm_params, vocab_size=len(vocab))\n",
    "\n",
    "# 3. loss\n",
    "loss = nn.CrossEntropyLoss()\n",
    "\n",
    "# 4. optimizer\n",
    "opt = torch.optim.SGD(net.params, lr=3)"
   ]
  },
  {
   "cell_type": "code",
   "execution_count": 8,
   "metadata": {
    "colab": {
     "base_uri": "https://localhost:8080/",
     "height": 687
    },
    "id": "Y-P56kbgsGMK",
    "outputId": "6f5c12dc-3418-4de1-adad-fd5253fbc26e"
   },
   "outputs": [
    {
     "name": "stdout",
     "output_type": "stream",
     "text": [
      "epoch: 50, perplexity:15.688741\n",
      "epoch: 100, perplexity:11.100823\n",
      "epoch: 150, perplexity:9.899445\n",
      "epoch: 200, perplexity:9.045651\n",
      "epoch: 250, perplexity:8.296661\n",
      "epoch: 300, perplexity:7.799950\n",
      "epoch: 350, perplexity:7.122732\n",
      "epoch: 400, perplexity:6.656598\n",
      "epoch: 450, perplexity:6.340917\n",
      "epoch: 500, perplexity:5.899744\n",
      "epoch: 550, perplexity:5.525027\n",
      "epoch: 600, perplexity:5.219054\n",
      "epoch: 650, perplexity:4.781853\n",
      "epoch: 700, perplexity:4.513612\n",
      "epoch: 750, perplexity:4.274476\n",
      "epoch: 800, perplexity:3.894410\n",
      "epoch: 850, perplexity:3.603924\n",
      "epoch: 900, perplexity:3.400019\n",
      "epoch: 950, perplexity:3.124901\n",
      "epoch: 1000, perplexity:3.029102\n"
     ]
    },
    {
     "data": {
      "image/png": "[encoded data removed]",
      "text/plain": [
       "<Figure size 432x288 with 1 Axes>"
      ]
     },
     "metadata": {
      "needs_background": "light"
     },
     "output_type": "display_data"
    },
    {
     "name": "stdout",
     "output_type": "stream",
     "text": [
      "CPU times: user 5min 19s, sys: 1.22 s, total: 5min 20s\n",
      "Wall time: 5min 24s\n"
     ]
    }
   ],
   "source": [
    "%%time\n",
    "def grad_clipping(net, theta):\n",
    "  if isinstance(net, nn.Module):\n",
    "    params = [p for p in net.parameters() if p.requires_grad]\n",
    "  else:\n",
    "    params = net.params\n",
    "  norm = torch.sqrt(sum(torch.sum((p.grad ** 2)) for p in params))\n",
    "  if norm > theta:\n",
    "    for param in params:\n",
    "      param.grad[:] *= theta / norm\n",
    "\n",
    "state = None\n",
    "epochs = 1000\n",
    "perplexity = []\n",
    "for epoch in range(epochs):\n",
    "  epoch_loss = []\n",
    "  for X, Y in train_iter:\n",
    "    y = Y.T.reshape(-1)\n",
    "    X, y = X.cuda(), y.cuda()\n",
    "    state = net.begin_state(batch_size=X.shape[0])\n",
    "    y_hat, state = net(X, state)\n",
    "    # state 是叶子节点，不可以直接设置grad\n",
    "    state = (state[0].detach(),)\n",
    "    l = loss(y_hat, y.long()).mean()\n",
    "    epoch_loss.append(l.item())\n",
    "    \n",
    "    opt.zero_grad()\n",
    "    l.backward()\n",
    "    grad_clipping(net,1)\n",
    "    opt.step()\n",
    "  \n",
    "  epoch_perplexity = np.exp(np.mean(epoch_loss))\n",
    "  if (epoch+1)%50==0:\n",
    "    print(f'epoch: {epoch+1}, perplexity:{epoch_perplexity:f}')\n",
    "  perplexity.append(epoch_perplexity)\n",
    "\n",
    "plt.plot(perplexity, label='train', color='b', linestyle='solid')\n",
    "plt.xlabel('epoch')\n",
    "plt.ylabel('perplexity')\n",
    "plt.legend()\n",
    "plt.show()"
   ]
  },
  {
   "cell_type": "code",
   "execution_count": 9,
   "metadata": {
    "id": "2sxq1Z_YsW-6"
   },
   "outputs": [],
   "source": [
    "def predict(prefix, num_preds, net, vocab, device=torch.device('cuda')):\n",
    "  def get_word_order_tensor(sign, device):\n",
    "    return torch.LongTensor([sign]).reshape(1,1).to(device)\n",
    "\n",
    "  state = net.begin_state(batch_size=1, device=device)\n",
    "  output = []\n",
    "\n",
    "  for y in prefix:\n",
    "    word_num = get_word_order_tensor(vocab[y], device)\n",
    "    _, state = net(word_num, state)\n",
    "    output.append(int(word_num))\n",
    "\n",
    "  for _ in range(num_preds):\n",
    "    word_num = get_word_order_tensor(output[-1], device)\n",
    "    y, state = net(word_num, state)\n",
    "    output.append(int(torch.argmax(y, axis=1).reshape(1)))\n",
    "  return ''.join([vocab.idx_to_token[i] for i in output])"
   ]
  },
  {
   "cell_type": "code",
   "execution_count": 10,
   "metadata": {
    "colab": {
     "base_uri": "https://localhost:8080/",
     "height": 35
    },
    "id": "VIvIA4S7tOEQ",
    "outputId": "68b3a090-e6d1-43e0-ffbe-a311072c3c62"
   },
   "outputs": [
    {
     "data": {
      "application/vnd.google.colaboratory.intrinsic+json": {
       "type": "string"
      },
      "text/plain": [
       "'time machine o erg time traveller travel and there ar'"
      ]
     },
     "execution_count": 10,
     "metadata": {},
     "output_type": "execute_result"
    }
   ],
   "source": [
    "predict('time machine ', 40, net, vocab)"
   ]
  },
  {
   "cell_type": "markdown",
   "metadata": {
    "id": "8w355SCRu7nA"
   },
   "source": [
    "## Torch Code"
   ]
  },
  {
   "cell_type": "code",
   "execution_count": 11,
   "metadata": {
    "id": "_CPWsIAMus6I"
   },
   "outputs": [],
   "source": [
    "class RNNModel(nn.Module):\n",
    "  '''循环神经网络'''\n",
    "  def __init__(self, rnn_layer, vocab_size, **kwargs):\n",
    "    super().__init__(**kwargs)\n",
    "    self.rnn = rnn_layer\n",
    "    self.vocab_size = vocab_size\n",
    "    self.num_hiddens = self.rnn.hidden_size\n",
    "    # 如果RNN是双向的(之后将介绍)，num_directions应该是2，否则应该是1\n",
    "    if not self.rnn.bidirectional:\n",
    "      self.num_directions = 1\n",
    "      self.linear = nn.Linear(self.num_hiddens, self.vocab_size) \n",
    "    else:\n",
    "      self.num_directions = 2\n",
    "      self.linear = nn.Linear(self.num_hiddens * 2, self.vocab_size)\n",
    "  \n",
    "  def forward(self, inputs, state):\n",
    "    X = F.one_hot(inputs.T.long(), self.vocab_size)\n",
    "    X = X.to(torch.float32)\n",
    "    Y, state = self.rnn(X, state)\n",
    "    # 全连接层首先将Y的形状改为(时间步数*批量大小,隐藏单元数) \n",
    "    # 它的输出形状是(时间步数*批量大小,词表大小)。\n",
    "    output = self.linear(Y.reshape((-1, Y.shape[-1]))) \n",
    "    return output, state\n",
    "\n",
    "  def begin_state(self, device, batch_size=1): \n",
    "    if not isinstance(self.rnn, nn.LSTM):\n",
    "      # nn.GRU以张量作为隐状态\n",
    "      return torch.zeros((self.num_directions * self.rnn.num_layers,\n",
    "                             batch_size, self.num_hiddens),\n",
    "                            device=device)\n",
    "    else:\n",
    "    # nn.LSTM以元组作为隐状态 \n",
    "      return (torch.zeros((self.num_directions * self.rnn.num_layers,\n",
    "                batch_size, self.num_hiddens), device=device),\n",
    "                    torch.zeros((\n",
    "                        self.num_directions * self.rnn.num_layers,\n",
    "                    batch_size, self.num_hiddens), device=device))\n",
    "      \n",
    "def train_rnn(net, epochs, train_iter, loss, optim, \n",
    "              state=None, grad_clip_theta=1, device=torch.device('cuda')):\n",
    "  # 梯度裁剪\n",
    "  def grad_clipping(net, theta=grad_clip_theta):\n",
    "    if isinstance(net, nn.Module):\n",
    "      params = [p for p in net.parameters() if p.requires_grad]\n",
    "    else:\n",
    "      params = net.params\n",
    "    norm = torch.sqrt(sum(torch.sum((p.grad ** 2)) for p in params))\n",
    "    if norm > theta:\n",
    "      for param in params:\n",
    "        param.grad[:] *= theta / norm\n",
    "\n",
    "  loss = loss\n",
    "  opt = optim\n",
    "  state = state\n",
    "  epochs = epochs\n",
    "  perplexity = []\n",
    "\n",
    "  net.to(device=device)\n",
    "  for epoch in range(epochs):\n",
    "    epoch_loss = []\n",
    "    for X, Y in train_iter:\n",
    "      y = Y.T.reshape(-1)\n",
    "      X, y = X.to(device), y.to(device)\n",
    "      state = net.begin_state(batch_size=X.shape[0], device=device)\n",
    "      y_hat, state = net(X, state)\n",
    "      # state 是叶子节点，不可以直接设置grad\n",
    "      state = (state[0].detach(),)\n",
    "      l = loss(y_hat, y.long()).mean()\n",
    "      epoch_loss.append(l.item())\n",
    "      \n",
    "      opt.zero_grad()\n",
    "      l.backward()\n",
    "      grad_clipping(net)\n",
    "      opt.step()\n",
    "    epoch_perplexity = np.exp(np.mean(epoch_loss))\n",
    "    if (epoch+1)%50==0:\n",
    "      print(f'epoch: {epoch+1}, perplexity:{epoch_perplexity:f}')\n",
    "    perplexity.append(epoch_perplexity)\n",
    "\n",
    "  plt.plot(perplexity, label='train', color='b', linestyle='solid')\n",
    "  plt.xlabel('epoch')\n",
    "  plt.ylabel('perplexity')\n",
    "  plt.legend()\n",
    "  plt.show()"
   ]
  },
  {
   "cell_type": "code",
   "execution_count": 12,
   "metadata": {
    "id": "tvhFE_FfvXFA"
   },
   "outputs": [],
   "source": [
    "vocab_size, num_hiddens, num_layers = len(vocab), 256, 2\n",
    "num_inputs = vocab_size\n",
    "device = d2l.try_gpu()\n",
    "lstm_layer = nn.LSTM(num_inputs, num_hiddens, num_layers)"
   ]
  },
  {
   "cell_type": "code",
   "execution_count": 13,
   "metadata": {
    "colab": {
     "base_uri": "https://localhost:8080/"
    },
    "id": "7I5f664Gw7E-",
    "outputId": "7d0da122-906a-4f23-9538-843239cc2816"
   },
   "outputs": [
    {
     "data": {
      "text/plain": [
       "RNNModel(\n",
       "  (rnn): LSTM(28, 256, num_layers=2)\n",
       "  (linear): Linear(in_features=256, out_features=28, bias=True)\n",
       ")"
      ]
     },
     "execution_count": 13,
     "metadata": {},
     "output_type": "execute_result"
    }
   ],
   "source": [
    "model = d2l.RNNModel(lstm_layer, len(vocab))\n",
    "model.cuda()"
   ]
  },
  {
   "cell_type": "code",
   "execution_count": 14,
   "metadata": {
    "colab": {
     "base_uri": "https://localhost:8080/",
     "height": 503
    },
    "id": "Mv7krm7AxSs2",
    "outputId": "e9839c69-da66-4b02-cb57-d31b8deb23d5"
   },
   "outputs": [
    {
     "name": "stdout",
     "output_type": "stream",
     "text": [
      "epoch: 50, perplexity:17.204945\n",
      "epoch: 100, perplexity:13.372451\n",
      "epoch: 150, perplexity:10.242225\n",
      "epoch: 200, perplexity:8.359316\n",
      "epoch: 250, perplexity:6.792055\n",
      "epoch: 300, perplexity:4.713353\n",
      "epoch: 350, perplexity:2.669985\n",
      "epoch: 400, perplexity:1.858886\n",
      "epoch: 450, perplexity:1.554754\n",
      "epoch: 500, perplexity:1.356616\n"
     ]
    },
    {
     "data": {
      "image/png": "[encoded data removed]",
      "text/plain": [
       "<Figure size 432x288 with 1 Axes>"
      ]
     },
     "metadata": {
      "needs_background": "light"
     },
     "output_type": "display_data"
    },
    {
     "name": "stdout",
     "output_type": "stream",
     "text": [
      "CPU times: user 18.3 s, sys: 431 ms, total: 18.8 s\n",
      "Wall time: 19 s\n"
     ]
    }
   ],
   "source": [
    "%%time\n",
    "loss = nn.CrossEntropyLoss()\n",
    "opt = torch.optim.SGD(model.parameters(), lr=1)\n",
    "train_rnn(model, epochs=500, train_iter=train_iter, loss=loss, optim=opt)"
   ]
  },
  {
   "cell_type": "code",
   "execution_count": 15,
   "metadata": {
    "colab": {
     "base_uri": "https://localhost:8080/",
     "height": 35
    },
    "id": "u998rfzOxdA1",
    "outputId": "57b53ff2-e274-4162-8f01-1f6dce5f602c"
   },
   "outputs": [
    {
     "data": {
      "application/vnd.google.colaboratory.intrinsic+json": {
       "type": "string"
      },
      "text/plain": [
       "'time machine at mochat a digen along the time travell'"
      ]
     },
     "execution_count": 15,
     "metadata": {},
     "output_type": "execute_result"
    }
   ],
   "source": [
    "predict('time machine ', 40, model, vocab)"
   ]
  }
 ],
 "metadata": {
  "accelerator": "GPU",
  "colab": {
   "collapsed_sections": [],
   "name": "Net.ipynb",
   "provenance": []
  },
  "kernelspec": {
   "display_name": "Python 3 (ipykernel)",
   "language": "python",
   "name": "python3"
  },
  "language_info": {
   "codemirror_mode": {
    "name": "ipython",
    "version": 3
   },
   "file_extension": ".py",
   "mimetype": "text/x-python",
   "name": "python",
   "nbconvert_exporter": "python",
   "pygments_lexer": "ipython3",
   "version": "3.7.6"
  }
 },
 "nbformat": 4,
 "nbformat_minor": 1
}
